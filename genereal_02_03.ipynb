{
 "cells": [
  {
   "cell_type": "markdown",
   "id": "0a7cc403",
   "metadata": {
    "toc": true
   },
   "source": [
    "<h1>Table of Contents<span class=\"tocSkip\"></span></h1>\n",
    "<div class=\"toc\"><ul class=\"toc-item\"><li><span><a href=\"#Система-предсказания-отказов-от-брони-для-отелей\" data-toc-modified-id=\"Система-предсказания-отказов-от-брони-для-отелей-1\"><span class=\"toc-item-num\">1&nbsp;&nbsp;</span>Система предсказания отказов от брони для отелей</a></span><ul class=\"toc-item\"><li><span><a href=\"#Чтобы-привлечь-клиентов,-эта-сеть-отелей-добавила-на-свой-сайт-возможность-забронировать-номер-без-предоплаты.-Однако-если-клиент-отменял-бронирование,-то-компания-терпела-убытки.-Чтобы-решить-эту-проблему,--нужно-разработать-систему,-которая-предсказывает-отказ-от-брони.-Если-модель-покажет,-что-бронь-будет-отменена,-то-клиенту-предлагается-внести-депозит.-Данные-представлены-двумя-файлами---hotel_train.csv-накопленные-данные-о-бронях-и-hotel_test.csv---данные-для-тестирования-модели\" data-toc-modified-id=\"Чтобы-привлечь-клиентов,-эта-сеть-отелей-добавила-на-свой-сайт-возможность-забронировать-номер-без-предоплаты.-Однако-если-клиент-отменял-бронирование,-то-компания-терпела-убытки.-Чтобы-решить-эту-проблему,--нужно-разработать-систему,-которая-предсказывает-отказ-от-брони.-Если-модель-покажет,-что-бронь-будет-отменена,-то-клиенту-предлагается-внести-депозит.-Данные-представлены-двумя-файлами---hotel_train.csv-накопленные-данные-о-бронях-и-hotel_test.csv---данные-для-тестирования-модели-1.1\"><span class=\"toc-item-num\">1.1&nbsp;&nbsp;</span>Чтобы привлечь клиентов, эта сеть отелей добавила на свой сайт возможность забронировать номер без предоплаты. Однако если клиент отменял бронирование, то компания терпела убытки. Чтобы решить эту проблему,  нужно разработать систему, которая предсказывает отказ от брони. Если модель покажет, что бронь будет отменена, то клиенту предлагается внести депозит. Данные представлены двумя файлами - hotel_train.csv накопленные данные о бронях и hotel_test.csv - данные для тестирования модели</a></span></li><li><span><a href=\"#Шаг-1.-Откройте-файлы-с-данными\" data-toc-modified-id=\"Шаг-1.-Откройте-файлы-с-данными-1.2\"><span class=\"toc-item-num\">1.2&nbsp;&nbsp;</span>Шаг 1. Откройте файлы с данными</a></span></li><li><span><a href=\"#Шаг-2.-Предобработка-и-исследовательский-анализ-данных\" data-toc-modified-id=\"Шаг-2.-Предобработка-и-исследовательский-анализ-данных-1.3\"><span class=\"toc-item-num\">1.3&nbsp;&nbsp;</span>Шаг 2. Предобработка и исследовательский анализ данных</a></span></li><li><span><a href=\"#Шаг-3.-Вычислите-бизнес-метрику\" data-toc-modified-id=\"Шаг-3.-Вычислите-бизнес-метрику-1.4\"><span class=\"toc-item-num\">1.4&nbsp;&nbsp;</span>Шаг 3. Вычислите бизнес-метрику</a></span></li><li><span><a href=\"#Шаг-4.-Разработка-модели-ML\" data-toc-modified-id=\"Шаг-4.-Разработка-модели-ML-1.5\"><span class=\"toc-item-num\">1.5&nbsp;&nbsp;</span>Шаг 4. Разработка модели ML</a></span></li><li><span><a href=\"#Шаг-5.-Выявите-признаки-«ненадёжного»-клиента\" data-toc-modified-id=\"Шаг-5.-Выявите-признаки-«ненадёжного»-клиента-1.6\"><span class=\"toc-item-num\">1.6&nbsp;&nbsp;</span>Шаг 5. Выявите признаки «ненадёжного» клиента</a></span></li><li><span><a href=\"#Шаг-6.-Напишите-общий-вывод\" data-toc-modified-id=\"Шаг-6.-Напишите-общий-вывод-1.7\"><span class=\"toc-item-num\">1.7&nbsp;&nbsp;</span>Шаг 6. Напишите общий вывод</a></span></li></ul></li></ul></div>"
   ]
  },
  {
   "cell_type": "markdown",
   "id": "9856dd81",
   "metadata": {},
   "source": [
    "<div style=\"border:solid Chocolate 2px; padding: 40px\">\n",
    "    \n",
    " <b>Добрый день, Алексей!</b>\n",
    "Меня зовут Ксения Цыганова, и я буду комментировать твою работу и помогать тебе сделать ее сильнее. В Практикуме мы общаемся на «ты», но если тебе это будет некомфортно, пожалуйста, скажи, и мы будем обращаться друг к другу на «вы».\n",
    "    \n",
    "Все мои комментарии делятся на три вида:\n",
    "\n",
    "    \n",
    "👍 Здесь все отлично, идем дальше! - <font color='green'> зеленый цвет </font>\n",
    "    \n",
    "💡 Все хорошо, однако, можно оптимизировать или рассмотреть другие способы (необязательно для исполнения, чтобы пройти дальше) - <font color='gold'>желтый цвет</font>\n",
    "    \n",
    "🤔 Необходимо внести исправления, без которых я не смогу принять проект - <font color='red'>красный цвет</font>\n",
    "    \n",
    "    \n",
    "Свои комментарии я буду выделять заголовком «комментарий ревьюера». Пожалуйста, не удаляй их, это поможет сократить время проверки на повторных ревью.Ты также можешь писать свои комментарии к моим и выделять их любым понравившимся способом, отличным от моего. Если у тебя будут возникать вопросы в течение нашей работы, я с радостью на них отвечу.\n",
    "\n",
    "Цель моего ревью не критика и не возможность дать тебе готовые ответы, это способ привести тебя в нужное русло, чтобы ты смог развить собственные идеи и решения. Твой будущий работодатель будет поступать похожим образом. \n",
    "        \n",
    "   <b>У тебя все получится!</b>"
   ]
  },
  {
   "cell_type": "markdown",
   "id": "90d4913c",
   "metadata": {},
   "source": [
    "## Система предсказания отказов от брони для отелей\n",
    "### Чтобы привлечь клиентов, эта сеть отелей добавила на свой сайт возможность забронировать номер без предоплаты. Однако если клиент отменял бронирование, то компания терпела убытки. Чтобы решить эту проблему,  нужно разработать систему, которая предсказывает отказ от брони. Если модель покажет, что бронь будет отменена, то клиенту предлагается внести депозит. Данные представлены двумя файлами - hotel_train.csv накопленные данные о бронях и hotel_test.csv - данные для тестирования модели\n"
   ]
  },
  {
   "cell_type": "markdown",
   "id": "e6cbb75d",
   "metadata": {},
   "source": [
    "<div class=\"alert alert-success\">\n",
    "<h2> Комментарий ревьюера <a class=\"tocSkip\"> </h2>\n",
    "\n",
    "<b>Все отлично!👍:</b> \n",
    "    \n",
    "Отлично, что есть вступительный комментарий."
   ]
  },
  {
   "cell_type": "markdown",
   "id": "2e05c9ad",
   "metadata": {},
   "source": [
    "<div class=\"alert alert-warning\">\n",
    "    <h2> Комментарий ревьюера <a class=\"tocSkip\"> </h2>\n",
    "    \n",
    "<b>Некоторые замечания и рекомендации💡:</b> \n",
    "        \n",
    "Также можно добавить содержание для более легкой навигации по проекту."
   ]
  },
  {
   "cell_type": "code",
   "execution_count": 2,
   "id": "a679dad6",
   "metadata": {},
   "outputs": [],
   "source": [
    "# Импортируем необходимые библиотеки\n",
    "import numpy as np\n",
    "import pandas as pd\n",
    "#\n",
    "from sklearn.preprocessing import StandardScaler\n",
    "from sklearn.tree import DecisionTreeClassifier\n",
    "from sklearn.ensemble import RandomForestClassifier\n",
    "from sklearn.linear_model import LogisticRegression \n",
    "from sklearn.metrics import accuracy_score\n",
    "from sklearn.utils import shuffle\n",
    "from sklearn.metrics import f1_score\n",
    "from sklearn.model_selection import cross_val_score\n",
    "from sklearn.metrics import accuracy_score\n",
    "from sklearn.preprocessing import OrdinalEncoder\n",
    "from sklearn.preprocessing import OneHotEncoder\n",
    "#\n",
    "import matplotlib.pyplot as plt"
   ]
  },
  {
   "cell_type": "markdown",
   "id": "9f66327b",
   "metadata": {},
   "source": [
    "<div class=\"alert alert-success\">\n",
    "<h2> Комментарий ревьюера <a class=\"tocSkip\"> </h2>\n",
    "\n",
    "<b>Все отлично!👍:</b> \n",
    "    \n",
    "Отлично, что все импорты собраны в одном месте в начале проекта. Это поможет в случае чего сразу увидеть, какие библиотеки следует доустановить."
   ]
  },
  {
   "cell_type": "markdown",
   "id": "26ab665e",
   "metadata": {},
   "source": [
    "<div class=\"alert alert-warning\">\n",
    "    <h2> Комментарий ревьюера <a class=\"tocSkip\"> </h2>\n",
    "    \n",
    "<b>Некоторые замечания и рекомендации💡:</b> \n",
    "        \n",
    "Стоит учитывать рекомендации PEP-8 при оформлении проекта, в том числе импортов. С ними можно познакомиться по ссылке: https://pythonworld.ru/osnovy/pep-8-rukovodstvo-po-napisaniyu-koda-na-python.html"
   ]
  },
  {
   "cell_type": "markdown",
   "id": "19f3d672",
   "metadata": {},
   "source": [
    "Вот тут хотелось бы более точного указания, что именно не так. По ссылке не так много информации."
   ]
  },
  {
   "cell_type": "markdown",
   "id": "b26a1add",
   "metadata": {},
   "source": [
    "<div class=\"alert alert-warning\">\n",
    "    <h2> Комментарий ревьюера №2<a class=\"tocSkip\"> </h2>\n",
    "    \n",
    "<b>Некоторые замечания и рекомендации💡:</b> \n",
    "        \n",
    "Стоит упорядочить импорты из раличных модулей. Также исморты разместить в алфавитном порядке."
   ]
  },
  {
   "cell_type": "markdown",
   "id": "670dc9f8",
   "metadata": {},
   "source": [
    "### Шаг 1. Откройте файлы с данными"
   ]
  },
  {
   "cell_type": "code",
   "execution_count": 3,
   "id": "6b62623c",
   "metadata": {},
   "outputs": [
    {
     "name": "stdout",
     "output_type": "stream",
     "text": [
      "load files - local version\n"
     ]
    }
   ],
   "source": [
    "# Считываем данные\n",
    "try:   \n",
    "    df_1 = pd.read_csv(\"/datasets/hotel_train.csv\")\n",
    "    df_2 = pd.read_csv(\"/datasets/hotel_test.csv\")\n",
    "    print(\"load files - online version\")\n",
    "\n",
    "except:\n",
    "    df_1 = pd.read_csv(\"hotel_train.csv\")\n",
    "    df_2 = pd.read_csv(\"hotel_test.csv\")\n",
    "    print(\"load files - local version\")"
   ]
  },
  {
   "cell_type": "markdown",
   "id": "ba0d1716",
   "metadata": {},
   "source": [
    "<div class=\"alert alert-warning\">\n",
    "    <h2> Комментарий ревьюера <a class=\"tocSkip\"> </h2>\n",
    "    \n",
    "<b>Некоторые замечания и рекомендации💡:</b> \n",
    "        \n",
    "Для загрузки данных можно использовать библиотеку os или констукцию try/except. Это поможет работать работать с проектом как локально, так и через Jupyter Hub, не внося дополнительных правок."
   ]
  },
  {
   "cell_type": "markdown",
   "id": "a3c92897",
   "metadata": {},
   "source": [
    "спасибо, непривычное применение try/except. Буду иметь в виду"
   ]
  },
  {
   "cell_type": "markdown",
   "id": "2059335e",
   "metadata": {},
   "source": [
    "<div class=\"alert alert-success\">\n",
    "<h2> Комментарий ревьюера №2<a class=\"tocSkip\"> </h2>\n",
    "\n",
    "<b>Все отлично!👍</b> "
   ]
  },
  {
   "cell_type": "code",
   "execution_count": 4,
   "id": "4e0e33b8",
   "metadata": {
    "scrolled": true
   },
   "outputs": [
    {
     "data": {
      "text/html": [
       "<div>\n",
       "<style scoped>\n",
       "    .dataframe tbody tr th:only-of-type {\n",
       "        vertical-align: middle;\n",
       "    }\n",
       "\n",
       "    .dataframe tbody tr th {\n",
       "        vertical-align: top;\n",
       "    }\n",
       "\n",
       "    .dataframe thead th {\n",
       "        text-align: right;\n",
       "    }\n",
       "</style>\n",
       "<table border=\"1\" class=\"dataframe\">\n",
       "  <thead>\n",
       "    <tr style=\"text-align: right;\">\n",
       "      <th></th>\n",
       "      <th>id</th>\n",
       "      <th>is_canceled</th>\n",
       "      <th>lead_time</th>\n",
       "      <th>arrival_date_year</th>\n",
       "      <th>arrival_date_month</th>\n",
       "      <th>arrival_date_week_number</th>\n",
       "      <th>arrival_date_day_of_month</th>\n",
       "      <th>stays_in_weekend_nights</th>\n",
       "      <th>stays_in_week_nights</th>\n",
       "      <th>adults</th>\n",
       "      <th>...</th>\n",
       "      <th>is_repeated_guest</th>\n",
       "      <th>previous_cancellations</th>\n",
       "      <th>previous_bookings_not_canceled</th>\n",
       "      <th>reserved_room_type</th>\n",
       "      <th>booking_changes</th>\n",
       "      <th>days_in_waiting_list</th>\n",
       "      <th>customer_type</th>\n",
       "      <th>required_car_parking_spaces</th>\n",
       "      <th>total_of_special_requests</th>\n",
       "      <th>total_nights</th>\n",
       "    </tr>\n",
       "  </thead>\n",
       "  <tbody>\n",
       "    <tr>\n",
       "      <th>0</th>\n",
       "      <td>0</td>\n",
       "      <td>0</td>\n",
       "      <td>7.0</td>\n",
       "      <td>2015</td>\n",
       "      <td>July</td>\n",
       "      <td>27</td>\n",
       "      <td>1</td>\n",
       "      <td>0</td>\n",
       "      <td>1</td>\n",
       "      <td>1.0</td>\n",
       "      <td>...</td>\n",
       "      <td>0</td>\n",
       "      <td>0</td>\n",
       "      <td>0</td>\n",
       "      <td>A</td>\n",
       "      <td>0</td>\n",
       "      <td>0</td>\n",
       "      <td>Transient</td>\n",
       "      <td>0</td>\n",
       "      <td>0</td>\n",
       "      <td>1</td>\n",
       "    </tr>\n",
       "    <tr>\n",
       "      <th>1</th>\n",
       "      <td>1</td>\n",
       "      <td>0</td>\n",
       "      <td>14.0</td>\n",
       "      <td>2015</td>\n",
       "      <td>July</td>\n",
       "      <td>27</td>\n",
       "      <td>1</td>\n",
       "      <td>0</td>\n",
       "      <td>2</td>\n",
       "      <td>2.0</td>\n",
       "      <td>...</td>\n",
       "      <td>0</td>\n",
       "      <td>0</td>\n",
       "      <td>0</td>\n",
       "      <td>A</td>\n",
       "      <td>0</td>\n",
       "      <td>0</td>\n",
       "      <td>Transient</td>\n",
       "      <td>0</td>\n",
       "      <td>1</td>\n",
       "      <td>2</td>\n",
       "    </tr>\n",
       "    <tr>\n",
       "      <th>2</th>\n",
       "      <td>2</td>\n",
       "      <td>0</td>\n",
       "      <td>0.0</td>\n",
       "      <td>2015</td>\n",
       "      <td>July</td>\n",
       "      <td>27</td>\n",
       "      <td>1</td>\n",
       "      <td>0</td>\n",
       "      <td>2</td>\n",
       "      <td>2.0</td>\n",
       "      <td>...</td>\n",
       "      <td>0</td>\n",
       "      <td>0</td>\n",
       "      <td>0</td>\n",
       "      <td>C</td>\n",
       "      <td>0</td>\n",
       "      <td>0</td>\n",
       "      <td>Transient</td>\n",
       "      <td>0</td>\n",
       "      <td>0</td>\n",
       "      <td>2</td>\n",
       "    </tr>\n",
       "    <tr>\n",
       "      <th>3</th>\n",
       "      <td>3</td>\n",
       "      <td>0</td>\n",
       "      <td>9.0</td>\n",
       "      <td>2015</td>\n",
       "      <td>July</td>\n",
       "      <td>27</td>\n",
       "      <td>1</td>\n",
       "      <td>0</td>\n",
       "      <td>2</td>\n",
       "      <td>2.0</td>\n",
       "      <td>...</td>\n",
       "      <td>0</td>\n",
       "      <td>0</td>\n",
       "      <td>0</td>\n",
       "      <td>C</td>\n",
       "      <td>0</td>\n",
       "      <td>0</td>\n",
       "      <td>Transient</td>\n",
       "      <td>0</td>\n",
       "      <td>1</td>\n",
       "      <td>2</td>\n",
       "    </tr>\n",
       "    <tr>\n",
       "      <th>4</th>\n",
       "      <td>4</td>\n",
       "      <td>1</td>\n",
       "      <td>85.0</td>\n",
       "      <td>2015</td>\n",
       "      <td>July</td>\n",
       "      <td>27</td>\n",
       "      <td>1</td>\n",
       "      <td>0</td>\n",
       "      <td>3</td>\n",
       "      <td>2.0</td>\n",
       "      <td>...</td>\n",
       "      <td>0</td>\n",
       "      <td>0</td>\n",
       "      <td>0</td>\n",
       "      <td>A</td>\n",
       "      <td>0</td>\n",
       "      <td>0</td>\n",
       "      <td>Transient</td>\n",
       "      <td>0</td>\n",
       "      <td>1</td>\n",
       "      <td>3</td>\n",
       "    </tr>\n",
       "  </tbody>\n",
       "</table>\n",
       "<p>5 rows × 25 columns</p>\n",
       "</div>"
      ],
      "text/plain": [
       "   id  is_canceled  lead_time  arrival_date_year arrival_date_month  \\\n",
       "0   0            0        7.0               2015               July   \n",
       "1   1            0       14.0               2015               July   \n",
       "2   2            0        0.0               2015               July   \n",
       "3   3            0        9.0               2015               July   \n",
       "4   4            1       85.0               2015               July   \n",
       "\n",
       "   arrival_date_week_number  arrival_date_day_of_month  \\\n",
       "0                        27                          1   \n",
       "1                        27                          1   \n",
       "2                        27                          1   \n",
       "3                        27                          1   \n",
       "4                        27                          1   \n",
       "\n",
       "   stays_in_weekend_nights  stays_in_week_nights  adults  ...  \\\n",
       "0                        0                     1     1.0  ...   \n",
       "1                        0                     2     2.0  ...   \n",
       "2                        0                     2     2.0  ...   \n",
       "3                        0                     2     2.0  ...   \n",
       "4                        0                     3     2.0  ...   \n",
       "\n",
       "   is_repeated_guest  previous_cancellations previous_bookings_not_canceled  \\\n",
       "0                  0                       0                              0   \n",
       "1                  0                       0                              0   \n",
       "2                  0                       0                              0   \n",
       "3                  0                       0                              0   \n",
       "4                  0                       0                              0   \n",
       "\n",
       "  reserved_room_type booking_changes  days_in_waiting_list  customer_type  \\\n",
       "0   A                              0                     0      Transient   \n",
       "1   A                              0                     0      Transient   \n",
       "2   C                              0                     0      Transient   \n",
       "3   C                              0                     0      Transient   \n",
       "4   A                              0                     0      Transient   \n",
       "\n",
       "   required_car_parking_spaces total_of_special_requests  total_nights  \n",
       "0                            0                         0             1  \n",
       "1                            0                         1             2  \n",
       "2                            0                         0             2  \n",
       "3                            0                         1             2  \n",
       "4                            0                         1             3  \n",
       "\n",
       "[5 rows x 25 columns]"
      ]
     },
     "metadata": {},
     "output_type": "display_data"
    }
   ],
   "source": [
    "# И знакомимся с их содержимым\n",
    "display(df_1.head(5))"
   ]
  },
  {
   "cell_type": "code",
   "execution_count": 5,
   "id": "351f7f86",
   "metadata": {
    "scrolled": true
   },
   "outputs": [
    {
     "data": {
      "text/html": [
       "<div>\n",
       "<style scoped>\n",
       "    .dataframe tbody tr th:only-of-type {\n",
       "        vertical-align: middle;\n",
       "    }\n",
       "\n",
       "    .dataframe tbody tr th {\n",
       "        vertical-align: top;\n",
       "    }\n",
       "\n",
       "    .dataframe thead th {\n",
       "        text-align: right;\n",
       "    }\n",
       "</style>\n",
       "<table border=\"1\" class=\"dataframe\">\n",
       "  <thead>\n",
       "    <tr style=\"text-align: right;\">\n",
       "      <th></th>\n",
       "      <th>id</th>\n",
       "      <th>is_canceled</th>\n",
       "      <th>lead_time</th>\n",
       "      <th>arrival_date_year</th>\n",
       "      <th>arrival_date_month</th>\n",
       "      <th>arrival_date_week_number</th>\n",
       "      <th>arrival_date_day_of_month</th>\n",
       "      <th>stays_in_weekend_nights</th>\n",
       "      <th>stays_in_week_nights</th>\n",
       "      <th>adults</th>\n",
       "      <th>...</th>\n",
       "      <th>is_repeated_guest</th>\n",
       "      <th>previous_cancellations</th>\n",
       "      <th>previous_bookings_not_canceled</th>\n",
       "      <th>reserved_room_type</th>\n",
       "      <th>booking_changes</th>\n",
       "      <th>days_in_waiting_list</th>\n",
       "      <th>customer_type</th>\n",
       "      <th>required_car_parking_spaces</th>\n",
       "      <th>total_of_special_requests</th>\n",
       "      <th>total_nights</th>\n",
       "    </tr>\n",
       "  </thead>\n",
       "  <tbody>\n",
       "    <tr>\n",
       "      <th>0</th>\n",
       "      <td>6086</td>\n",
       "      <td>1</td>\n",
       "      <td>74.0</td>\n",
       "      <td>2017</td>\n",
       "      <td>January</td>\n",
       "      <td>1</td>\n",
       "      <td>1</td>\n",
       "      <td>1</td>\n",
       "      <td>0</td>\n",
       "      <td>2.0</td>\n",
       "      <td>...</td>\n",
       "      <td>0</td>\n",
       "      <td>0</td>\n",
       "      <td>0</td>\n",
       "      <td>A</td>\n",
       "      <td>0</td>\n",
       "      <td>0</td>\n",
       "      <td>Transient</td>\n",
       "      <td>0</td>\n",
       "      <td>0</td>\n",
       "      <td>1</td>\n",
       "    </tr>\n",
       "    <tr>\n",
       "      <th>1</th>\n",
       "      <td>6087</td>\n",
       "      <td>1</td>\n",
       "      <td>62.0</td>\n",
       "      <td>2017</td>\n",
       "      <td>January</td>\n",
       "      <td>1</td>\n",
       "      <td>1</td>\n",
       "      <td>2</td>\n",
       "      <td>2</td>\n",
       "      <td>2.0</td>\n",
       "      <td>...</td>\n",
       "      <td>0</td>\n",
       "      <td>0</td>\n",
       "      <td>0</td>\n",
       "      <td>A</td>\n",
       "      <td>0</td>\n",
       "      <td>0</td>\n",
       "      <td>Transient</td>\n",
       "      <td>0</td>\n",
       "      <td>1</td>\n",
       "      <td>4</td>\n",
       "    </tr>\n",
       "    <tr>\n",
       "      <th>2</th>\n",
       "      <td>6088</td>\n",
       "      <td>1</td>\n",
       "      <td>62.0</td>\n",
       "      <td>2017</td>\n",
       "      <td>January</td>\n",
       "      <td>1</td>\n",
       "      <td>1</td>\n",
       "      <td>2</td>\n",
       "      <td>2</td>\n",
       "      <td>2.0</td>\n",
       "      <td>...</td>\n",
       "      <td>0</td>\n",
       "      <td>0</td>\n",
       "      <td>0</td>\n",
       "      <td>A</td>\n",
       "      <td>0</td>\n",
       "      <td>0</td>\n",
       "      <td>Transient</td>\n",
       "      <td>0</td>\n",
       "      <td>1</td>\n",
       "      <td>4</td>\n",
       "    </tr>\n",
       "    <tr>\n",
       "      <th>3</th>\n",
       "      <td>6089</td>\n",
       "      <td>1</td>\n",
       "      <td>71.0</td>\n",
       "      <td>2017</td>\n",
       "      <td>January</td>\n",
       "      <td>1</td>\n",
       "      <td>1</td>\n",
       "      <td>2</td>\n",
       "      <td>2</td>\n",
       "      <td>1.0</td>\n",
       "      <td>...</td>\n",
       "      <td>0</td>\n",
       "      <td>0</td>\n",
       "      <td>0</td>\n",
       "      <td>A</td>\n",
       "      <td>0</td>\n",
       "      <td>0</td>\n",
       "      <td>Transient</td>\n",
       "      <td>0</td>\n",
       "      <td>1</td>\n",
       "      <td>4</td>\n",
       "    </tr>\n",
       "    <tr>\n",
       "      <th>4</th>\n",
       "      <td>6090</td>\n",
       "      <td>1</td>\n",
       "      <td>172.0</td>\n",
       "      <td>2017</td>\n",
       "      <td>January</td>\n",
       "      <td>1</td>\n",
       "      <td>1</td>\n",
       "      <td>2</td>\n",
       "      <td>5</td>\n",
       "      <td>2.0</td>\n",
       "      <td>...</td>\n",
       "      <td>0</td>\n",
       "      <td>0</td>\n",
       "      <td>0</td>\n",
       "      <td>A</td>\n",
       "      <td>0</td>\n",
       "      <td>0</td>\n",
       "      <td>Transient</td>\n",
       "      <td>0</td>\n",
       "      <td>0</td>\n",
       "      <td>7</td>\n",
       "    </tr>\n",
       "  </tbody>\n",
       "</table>\n",
       "<p>5 rows × 25 columns</p>\n",
       "</div>"
      ],
      "text/plain": [
       "     id  is_canceled  lead_time  arrival_date_year arrival_date_month  \\\n",
       "0  6086            1       74.0               2017            January   \n",
       "1  6087            1       62.0               2017            January   \n",
       "2  6088            1       62.0               2017            January   \n",
       "3  6089            1       71.0               2017            January   \n",
       "4  6090            1      172.0               2017            January   \n",
       "\n",
       "   arrival_date_week_number  arrival_date_day_of_month  \\\n",
       "0                         1                          1   \n",
       "1                         1                          1   \n",
       "2                         1                          1   \n",
       "3                         1                          1   \n",
       "4                         1                          1   \n",
       "\n",
       "   stays_in_weekend_nights  stays_in_week_nights  adults  ...  \\\n",
       "0                        1                     0     2.0  ...   \n",
       "1                        2                     2     2.0  ...   \n",
       "2                        2                     2     2.0  ...   \n",
       "3                        2                     2     1.0  ...   \n",
       "4                        2                     5     2.0  ...   \n",
       "\n",
       "   is_repeated_guest  previous_cancellations previous_bookings_not_canceled  \\\n",
       "0                  0                       0                              0   \n",
       "1                  0                       0                              0   \n",
       "2                  0                       0                              0   \n",
       "3                  0                       0                              0   \n",
       "4                  0                       0                              0   \n",
       "\n",
       "  reserved_room_type booking_changes  days_in_waiting_list  customer_type  \\\n",
       "0   A                              0                     0      Transient   \n",
       "1   A                              0                     0      Transient   \n",
       "2   A                              0                     0      Transient   \n",
       "3   A                              0                     0      Transient   \n",
       "4   A                              0                     0      Transient   \n",
       "\n",
       "   required_car_parking_spaces total_of_special_requests  total_nights  \n",
       "0                            0                         0             1  \n",
       "1                            0                         1             4  \n",
       "2                            0                         1             4  \n",
       "3                            0                         1             4  \n",
       "4                            0                         0             7  \n",
       "\n",
       "[5 rows x 25 columns]"
      ]
     },
     "metadata": {},
     "output_type": "display_data"
    }
   ],
   "source": [
    "display(df_2.head(5))"
   ]
  },
  {
   "cell_type": "code",
   "execution_count": 6,
   "id": "48816e7d",
   "metadata": {
    "scrolled": true
   },
   "outputs": [
    {
     "data": {
      "text/plain": [
       "Index(['id', 'is_canceled', 'lead_time', 'arrival_date_year',\n",
       "       'arrival_date_month', 'arrival_date_week_number',\n",
       "       'arrival_date_day_of_month', 'stays_in_weekend_nights',\n",
       "       'stays_in_week_nights', 'adults', 'children', 'babies', 'meal',\n",
       "       'country', 'distribution_channel', 'is_repeated_guest',\n",
       "       'previous_cancellations', 'previous_bookings_not_canceled',\n",
       "       'reserved_room_type', 'booking_changes', 'days_in_waiting_list',\n",
       "       'customer_type', 'required_car_parking_spaces',\n",
       "       'total_of_special_requests', 'total_nights'],\n",
       "      dtype='object')"
      ]
     },
     "metadata": {},
     "output_type": "display_data"
    }
   ],
   "source": [
    "display(df_1.columns)"
   ]
  },
  {
   "cell_type": "markdown",
   "id": "64130a5d",
   "metadata": {},
   "source": [
    "Много колонок, описание к ним имеется, но придется уделить больше внимания, так как многие из них оказались \"с подвохом\""
   ]
  },
  {
   "cell_type": "markdown",
   "id": "2dd8955d",
   "metadata": {},
   "source": [
    "### Шаг 2. Предобработка и исследовательский анализ данных"
   ]
  },
  {
   "cell_type": "code",
   "execution_count": 7,
   "id": "53435a76",
   "metadata": {
    "scrolled": true
   },
   "outputs": [
    {
     "data": {
      "text/html": [
       "<div>\n",
       "<style scoped>\n",
       "    .dataframe tbody tr th:only-of-type {\n",
       "        vertical-align: middle;\n",
       "    }\n",
       "\n",
       "    .dataframe tbody tr th {\n",
       "        vertical-align: top;\n",
       "    }\n",
       "\n",
       "    .dataframe thead th {\n",
       "        text-align: right;\n",
       "    }\n",
       "</style>\n",
       "<table border=\"1\" class=\"dataframe\">\n",
       "  <thead>\n",
       "    <tr style=\"text-align: right;\">\n",
       "      <th></th>\n",
       "      <th>id</th>\n",
       "      <th>is_canceled</th>\n",
       "      <th>lead_time</th>\n",
       "      <th>arrival_date_year</th>\n",
       "      <th>arrival_date_week_number</th>\n",
       "      <th>arrival_date_day_of_month</th>\n",
       "      <th>stays_in_weekend_nights</th>\n",
       "      <th>stays_in_week_nights</th>\n",
       "      <th>adults</th>\n",
       "      <th>children</th>\n",
       "      <th>babies</th>\n",
       "      <th>is_repeated_guest</th>\n",
       "      <th>previous_cancellations</th>\n",
       "      <th>previous_bookings_not_canceled</th>\n",
       "      <th>booking_changes</th>\n",
       "      <th>days_in_waiting_list</th>\n",
       "      <th>required_car_parking_spaces</th>\n",
       "      <th>total_of_special_requests</th>\n",
       "      <th>total_nights</th>\n",
       "    </tr>\n",
       "  </thead>\n",
       "  <tbody>\n",
       "    <tr>\n",
       "      <th>count</th>\n",
       "      <td>65229.000000</td>\n",
       "      <td>65229.000000</td>\n",
       "      <td>65229.000000</td>\n",
       "      <td>65229.000000</td>\n",
       "      <td>65229.000000</td>\n",
       "      <td>65229.000000</td>\n",
       "      <td>65229.000000</td>\n",
       "      <td>65229.000000</td>\n",
       "      <td>65229.000000</td>\n",
       "      <td>65229.000000</td>\n",
       "      <td>65229.000000</td>\n",
       "      <td>65229.000000</td>\n",
       "      <td>65229.000000</td>\n",
       "      <td>65229.000000</td>\n",
       "      <td>65229.000000</td>\n",
       "      <td>65229.000000</td>\n",
       "      <td>65229.000000</td>\n",
       "      <td>65229.000000</td>\n",
       "      <td>65229.000000</td>\n",
       "    </tr>\n",
       "    <tr>\n",
       "      <th>mean</th>\n",
       "      <td>43544.069172</td>\n",
       "      <td>0.368609</td>\n",
       "      <td>96.337917</td>\n",
       "      <td>2015.719021</td>\n",
       "      <td>31.339772</td>\n",
       "      <td>15.847813</td>\n",
       "      <td>0.825185</td>\n",
       "      <td>2.224793</td>\n",
       "      <td>1.836576</td>\n",
       "      <td>0.074890</td>\n",
       "      <td>0.007236</td>\n",
       "      <td>0.027151</td>\n",
       "      <td>0.128915</td>\n",
       "      <td>0.107713</td>\n",
       "      <td>0.194269</td>\n",
       "      <td>3.334422</td>\n",
       "      <td>0.056647</td>\n",
       "      <td>0.512763</td>\n",
       "      <td>3.049978</td>\n",
       "    </tr>\n",
       "    <tr>\n",
       "      <th>std</th>\n",
       "      <td>25614.858971</td>\n",
       "      <td>0.482431</td>\n",
       "      <td>96.127545</td>\n",
       "      <td>0.449481</td>\n",
       "      <td>13.464024</td>\n",
       "      <td>8.748182</td>\n",
       "      <td>0.853477</td>\n",
       "      <td>1.354992</td>\n",
       "      <td>0.480245</td>\n",
       "      <td>0.334243</td>\n",
       "      <td>0.098790</td>\n",
       "      <td>0.162523</td>\n",
       "      <td>0.965326</td>\n",
       "      <td>1.326638</td>\n",
       "      <td>0.593838</td>\n",
       "      <td>18.239606</td>\n",
       "      <td>0.232094</td>\n",
       "      <td>0.752590</td>\n",
       "      <td>1.738108</td>\n",
       "    </tr>\n",
       "    <tr>\n",
       "      <th>min</th>\n",
       "      <td>0.000000</td>\n",
       "      <td>0.000000</td>\n",
       "      <td>0.000000</td>\n",
       "      <td>2015.000000</td>\n",
       "      <td>1.000000</td>\n",
       "      <td>1.000000</td>\n",
       "      <td>0.000000</td>\n",
       "      <td>0.000000</td>\n",
       "      <td>0.000000</td>\n",
       "      <td>0.000000</td>\n",
       "      <td>0.000000</td>\n",
       "      <td>0.000000</td>\n",
       "      <td>0.000000</td>\n",
       "      <td>0.000000</td>\n",
       "      <td>0.000000</td>\n",
       "      <td>0.000000</td>\n",
       "      <td>0.000000</td>\n",
       "      <td>0.000000</td>\n",
       "      <td>1.000000</td>\n",
       "    </tr>\n",
       "    <tr>\n",
       "      <th>25%</th>\n",
       "      <td>19108.000000</td>\n",
       "      <td>0.000000</td>\n",
       "      <td>17.000000</td>\n",
       "      <td>2015.000000</td>\n",
       "      <td>21.000000</td>\n",
       "      <td>8.000000</td>\n",
       "      <td>0.000000</td>\n",
       "      <td>1.000000</td>\n",
       "      <td>2.000000</td>\n",
       "      <td>0.000000</td>\n",
       "      <td>0.000000</td>\n",
       "      <td>0.000000</td>\n",
       "      <td>0.000000</td>\n",
       "      <td>0.000000</td>\n",
       "      <td>0.000000</td>\n",
       "      <td>0.000000</td>\n",
       "      <td>0.000000</td>\n",
       "      <td>0.000000</td>\n",
       "      <td>2.000000</td>\n",
       "    </tr>\n",
       "    <tr>\n",
       "      <th>50%</th>\n",
       "      <td>40554.000000</td>\n",
       "      <td>0.000000</td>\n",
       "      <td>64.000000</td>\n",
       "      <td>2016.000000</td>\n",
       "      <td>34.000000</td>\n",
       "      <td>16.000000</td>\n",
       "      <td>1.000000</td>\n",
       "      <td>2.000000</td>\n",
       "      <td>2.000000</td>\n",
       "      <td>0.000000</td>\n",
       "      <td>0.000000</td>\n",
       "      <td>0.000000</td>\n",
       "      <td>0.000000</td>\n",
       "      <td>0.000000</td>\n",
       "      <td>0.000000</td>\n",
       "      <td>0.000000</td>\n",
       "      <td>0.000000</td>\n",
       "      <td>0.000000</td>\n",
       "      <td>3.000000</td>\n",
       "    </tr>\n",
       "    <tr>\n",
       "      <th>75%</th>\n",
       "      <td>67414.000000</td>\n",
       "      <td>1.000000</td>\n",
       "      <td>151.000000</td>\n",
       "      <td>2016.000000</td>\n",
       "      <td>42.000000</td>\n",
       "      <td>23.000000</td>\n",
       "      <td>2.000000</td>\n",
       "      <td>3.000000</td>\n",
       "      <td>2.000000</td>\n",
       "      <td>0.000000</td>\n",
       "      <td>0.000000</td>\n",
       "      <td>0.000000</td>\n",
       "      <td>0.000000</td>\n",
       "      <td>0.000000</td>\n",
       "      <td>0.000000</td>\n",
       "      <td>0.000000</td>\n",
       "      <td>0.000000</td>\n",
       "      <td>1.000000</td>\n",
       "      <td>4.000000</td>\n",
       "    </tr>\n",
       "    <tr>\n",
       "      <th>max</th>\n",
       "      <td>84121.000000</td>\n",
       "      <td>1.000000</td>\n",
       "      <td>374.000000</td>\n",
       "      <td>2016.000000</td>\n",
       "      <td>53.000000</td>\n",
       "      <td>31.000000</td>\n",
       "      <td>4.000000</td>\n",
       "      <td>6.000000</td>\n",
       "      <td>4.000000</td>\n",
       "      <td>3.000000</td>\n",
       "      <td>10.000000</td>\n",
       "      <td>1.000000</td>\n",
       "      <td>26.000000</td>\n",
       "      <td>58.000000</td>\n",
       "      <td>17.000000</td>\n",
       "      <td>259.000000</td>\n",
       "      <td>3.000000</td>\n",
       "      <td>5.000000</td>\n",
       "      <td>10.000000</td>\n",
       "    </tr>\n",
       "  </tbody>\n",
       "</table>\n",
       "</div>"
      ],
      "text/plain": [
       "                 id   is_canceled     lead_time  arrival_date_year  \\\n",
       "count  65229.000000  65229.000000  65229.000000       65229.000000   \n",
       "mean   43544.069172      0.368609     96.337917        2015.719021   \n",
       "std    25614.858971      0.482431     96.127545           0.449481   \n",
       "min        0.000000      0.000000      0.000000        2015.000000   \n",
       "25%    19108.000000      0.000000     17.000000        2015.000000   \n",
       "50%    40554.000000      0.000000     64.000000        2016.000000   \n",
       "75%    67414.000000      1.000000    151.000000        2016.000000   \n",
       "max    84121.000000      1.000000    374.000000        2016.000000   \n",
       "\n",
       "       arrival_date_week_number  arrival_date_day_of_month  \\\n",
       "count              65229.000000               65229.000000   \n",
       "mean                  31.339772                  15.847813   \n",
       "std                   13.464024                   8.748182   \n",
       "min                    1.000000                   1.000000   \n",
       "25%                   21.000000                   8.000000   \n",
       "50%                   34.000000                  16.000000   \n",
       "75%                   42.000000                  23.000000   \n",
       "max                   53.000000                  31.000000   \n",
       "\n",
       "       stays_in_weekend_nights  stays_in_week_nights        adults  \\\n",
       "count             65229.000000          65229.000000  65229.000000   \n",
       "mean                  0.825185              2.224793      1.836576   \n",
       "std                   0.853477              1.354992      0.480245   \n",
       "min                   0.000000              0.000000      0.000000   \n",
       "25%                   0.000000              1.000000      2.000000   \n",
       "50%                   1.000000              2.000000      2.000000   \n",
       "75%                   2.000000              3.000000      2.000000   \n",
       "max                   4.000000              6.000000      4.000000   \n",
       "\n",
       "           children        babies  is_repeated_guest  previous_cancellations  \\\n",
       "count  65229.000000  65229.000000       65229.000000            65229.000000   \n",
       "mean       0.074890      0.007236           0.027151                0.128915   \n",
       "std        0.334243      0.098790           0.162523                0.965326   \n",
       "min        0.000000      0.000000           0.000000                0.000000   \n",
       "25%        0.000000      0.000000           0.000000                0.000000   \n",
       "50%        0.000000      0.000000           0.000000                0.000000   \n",
       "75%        0.000000      0.000000           0.000000                0.000000   \n",
       "max        3.000000     10.000000           1.000000               26.000000   \n",
       "\n",
       "       previous_bookings_not_canceled  booking_changes  days_in_waiting_list  \\\n",
       "count                    65229.000000     65229.000000          65229.000000   \n",
       "mean                         0.107713         0.194269              3.334422   \n",
       "std                          1.326638         0.593838             18.239606   \n",
       "min                          0.000000         0.000000              0.000000   \n",
       "25%                          0.000000         0.000000              0.000000   \n",
       "50%                          0.000000         0.000000              0.000000   \n",
       "75%                          0.000000         0.000000              0.000000   \n",
       "max                         58.000000        17.000000            259.000000   \n",
       "\n",
       "       required_car_parking_spaces  total_of_special_requests  total_nights  \n",
       "count                 65229.000000               65229.000000  65229.000000  \n",
       "mean                      0.056647                   0.512763      3.049978  \n",
       "std                       0.232094                   0.752590      1.738108  \n",
       "min                       0.000000                   0.000000      1.000000  \n",
       "25%                       0.000000                   0.000000      2.000000  \n",
       "50%                       0.000000                   0.000000      3.000000  \n",
       "75%                       0.000000                   1.000000      4.000000  \n",
       "max                       3.000000                   5.000000     10.000000  "
      ]
     },
     "execution_count": 7,
     "metadata": {},
     "output_type": "execute_result"
    }
   ],
   "source": [
    "df_1.describe()"
   ]
  },
  {
   "cell_type": "code",
   "execution_count": 8,
   "id": "408b560b",
   "metadata": {},
   "outputs": [
    {
     "data": {
      "text/plain": [
       "id                                0\n",
       "is_canceled                       0\n",
       "lead_time                         0\n",
       "arrival_date_year                 0\n",
       "arrival_date_month                0\n",
       "arrival_date_week_number          0\n",
       "arrival_date_day_of_month         0\n",
       "stays_in_weekend_nights           0\n",
       "stays_in_week_nights              0\n",
       "adults                            0\n",
       "children                          0\n",
       "babies                            0\n",
       "meal                              0\n",
       "country                           0\n",
       "distribution_channel              0\n",
       "is_repeated_guest                 0\n",
       "previous_cancellations            0\n",
       "previous_bookings_not_canceled    0\n",
       "reserved_room_type                0\n",
       "booking_changes                   0\n",
       "days_in_waiting_list              0\n",
       "customer_type                     0\n",
       "required_car_parking_spaces       0\n",
       "total_of_special_requests         0\n",
       "total_nights                      0\n",
       "dtype: int64"
      ]
     },
     "execution_count": 8,
     "metadata": {},
     "output_type": "execute_result"
    }
   ],
   "source": [
    "df_1.isna().sum()"
   ]
  },
  {
   "cell_type": "code",
   "execution_count": 9,
   "id": "44206eab",
   "metadata": {},
   "outputs": [
    {
     "name": "stdout",
     "output_type": "stream",
     "text": [
      "<class 'pandas.core.frame.DataFrame'>\n",
      "RangeIndex: 65229 entries, 0 to 65228\n",
      "Data columns (total 25 columns):\n",
      " #   Column                          Non-Null Count  Dtype  \n",
      "---  ------                          --------------  -----  \n",
      " 0   id                              65229 non-null  int64  \n",
      " 1   is_canceled                     65229 non-null  int64  \n",
      " 2   lead_time                       65229 non-null  float64\n",
      " 3   arrival_date_year               65229 non-null  int64  \n",
      " 4   arrival_date_month              65229 non-null  object \n",
      " 5   arrival_date_week_number        65229 non-null  int64  \n",
      " 6   arrival_date_day_of_month       65229 non-null  int64  \n",
      " 7   stays_in_weekend_nights         65229 non-null  int64  \n",
      " 8   stays_in_week_nights            65229 non-null  int64  \n",
      " 9   adults                          65229 non-null  float64\n",
      " 10  children                        65229 non-null  float64\n",
      " 11  babies                          65229 non-null  float64\n",
      " 12  meal                            65229 non-null  object \n",
      " 13  country                         65229 non-null  object \n",
      " 14  distribution_channel            65229 non-null  object \n",
      " 15  is_repeated_guest               65229 non-null  int64  \n",
      " 16  previous_cancellations          65229 non-null  int64  \n",
      " 17  previous_bookings_not_canceled  65229 non-null  int64  \n",
      " 18  reserved_room_type              65229 non-null  object \n",
      " 19  booking_changes                 65229 non-null  int64  \n",
      " 20  days_in_waiting_list            65229 non-null  int64  \n",
      " 21  customer_type                   65229 non-null  object \n",
      " 22  required_car_parking_spaces     65229 non-null  int64  \n",
      " 23  total_of_special_requests       65229 non-null  int64  \n",
      " 24  total_nights                    65229 non-null  int64  \n",
      "dtypes: float64(4), int64(15), object(6)\n",
      "memory usage: 12.4+ MB\n"
     ]
    }
   ],
   "source": [
    "df_1.info()"
   ]
  },
  {
   "cell_type": "code",
   "execution_count": 10,
   "id": "e4c00791",
   "metadata": {
    "scrolled": true
   },
   "outputs": [
    {
     "data": {
      "text/plain": [
       "id                                0\n",
       "is_canceled                       0\n",
       "lead_time                         0\n",
       "arrival_date_year                 0\n",
       "arrival_date_month                0\n",
       "arrival_date_week_number          0\n",
       "arrival_date_day_of_month         0\n",
       "stays_in_weekend_nights           0\n",
       "stays_in_week_nights              0\n",
       "adults                            0\n",
       "children                          0\n",
       "babies                            0\n",
       "meal                              0\n",
       "country                           0\n",
       "distribution_channel              0\n",
       "is_repeated_guest                 0\n",
       "previous_cancellations            0\n",
       "previous_bookings_not_canceled    0\n",
       "reserved_room_type                0\n",
       "booking_changes                   0\n",
       "days_in_waiting_list              0\n",
       "customer_type                     0\n",
       "required_car_parking_spaces       0\n",
       "total_of_special_requests         0\n",
       "total_nights                      0\n",
       "dtype: int64"
      ]
     },
     "execution_count": 10,
     "metadata": {},
     "output_type": "execute_result"
    }
   ],
   "source": [
    "df_2.isna().sum()"
   ]
  },
  {
   "cell_type": "code",
   "execution_count": 11,
   "id": "cb2950b8",
   "metadata": {},
   "outputs": [
    {
     "name": "stdout",
     "output_type": "stream",
     "text": [
      "<class 'pandas.core.frame.DataFrame'>\n",
      "RangeIndex: 32412 entries, 0 to 32411\n",
      "Data columns (total 25 columns):\n",
      " #   Column                          Non-Null Count  Dtype  \n",
      "---  ------                          --------------  -----  \n",
      " 0   id                              32412 non-null  int64  \n",
      " 1   is_canceled                     32412 non-null  int64  \n",
      " 2   lead_time                       32412 non-null  float64\n",
      " 3   arrival_date_year               32412 non-null  int64  \n",
      " 4   arrival_date_month              32412 non-null  object \n",
      " 5   arrival_date_week_number        32412 non-null  int64  \n",
      " 6   arrival_date_day_of_month       32412 non-null  int64  \n",
      " 7   stays_in_weekend_nights         32412 non-null  int64  \n",
      " 8   stays_in_week_nights            32412 non-null  int64  \n",
      " 9   adults                          32412 non-null  float64\n",
      " 10  children                        32412 non-null  float64\n",
      " 11  babies                          32412 non-null  float64\n",
      " 12  meal                            32412 non-null  object \n",
      " 13  country                         32412 non-null  object \n",
      " 14  distribution_channel            32412 non-null  object \n",
      " 15  is_repeated_guest               32412 non-null  int64  \n",
      " 16  previous_cancellations          32412 non-null  int64  \n",
      " 17  previous_bookings_not_canceled  32412 non-null  int64  \n",
      " 18  reserved_room_type              32412 non-null  object \n",
      " 19  booking_changes                 32412 non-null  int64  \n",
      " 20  days_in_waiting_list            32412 non-null  int64  \n",
      " 21  customer_type                   32412 non-null  object \n",
      " 22  required_car_parking_spaces     32412 non-null  int64  \n",
      " 23  total_of_special_requests       32412 non-null  int64  \n",
      " 24  total_nights                    32412 non-null  int64  \n",
      "dtypes: float64(4), int64(15), object(6)\n",
      "memory usage: 6.2+ MB\n"
     ]
    }
   ],
   "source": [
    "df_2.info()"
   ]
  },
  {
   "cell_type": "markdown",
   "id": "d9ff1f9d",
   "metadata": {},
   "source": [
    "<div class=\"alert alert-success\">\n",
    "<h2> Комментарий ревьюера <a class=\"tocSkip\"> </h2>\n",
    "\n",
    "<b>Все отлично!👍:</b> \n",
    "    \n",
    "Отлично, что изучаешь оба датасета."
   ]
  },
  {
   "cell_type": "markdown",
   "id": "27ecc25d",
   "metadata": {},
   "source": [
    "**Данные выглядят удивительно прилично. Но проверим поле country - гражданство клиента**"
   ]
  },
  {
   "cell_type": "code",
   "execution_count": 12,
   "id": "44d06382",
   "metadata": {
    "scrolled": true
   },
   "outputs": [
    {
     "name": "stdout",
     "output_type": "stream",
     "text": [
      "155\n",
      "143\n"
     ]
    }
   ],
   "source": [
    "print(len(df_1.country.unique()))\n",
    "print(len(df_2.country.unique()))"
   ]
  },
  {
   "cell_type": "code",
   "execution_count": 13,
   "id": "ef6ce2e7",
   "metadata": {
    "scrolled": true
   },
   "outputs": [
    {
     "name": "stdout",
     "output_type": "stream",
     "text": [
      "Список стран из тестовой выборки, не попавших в основную: ['country_FJI', 'country_MDG', 'country_CAF', 'country_NPL', 'country_BHS', 'country_UMI', 'country_MYT', 'country_GTM', 'country_GHA', 'country_ASM', 'country_TGO', 'country_MRT', 'country_NCL', 'country_KIR', 'country_SDN', 'country_ATF', 'country_SLE', 'country_LAO', 'country_FRO']\n"
     ]
    }
   ],
   "source": [
    "counter =0 \n",
    "other = []\n",
    "for c_code in df_2.country.unique():\n",
    "    if c_code in df_1.country.unique():\n",
    "        counter+=1\n",
    "    else:\n",
    "        other.append(\"country_\"+c_code)\n",
    "print(\"Список стран из тестовой выборки, не попавших в основную:\", other)"
   ]
  },
  {
   "cell_type": "markdown",
   "id": "c11353b5",
   "metadata": {},
   "source": [
    "<div class=\"alert alert-success\">\n",
    "<h2> Комментарий ревьюера <a class=\"tocSkip\"> </h2>\n",
    "\n",
    "<b>Все отлично!👍:</b> \n",
    "    \n",
    "Молодец, что заметил различие в данных."
   ]
  },
  {
   "cell_type": "markdown",
   "id": "8e2aa7f3",
   "metadata": {},
   "source": [
    "**Сохраним этот список для дальнейшей работы**"
   ]
  },
  {
   "cell_type": "markdown",
   "id": "211efd17",
   "metadata": {},
   "source": [
    "**Также проверим данные на \"разумность\". Например, есть ли такие \"брони\" где есть дети, но нет взрослых?**"
   ]
  },
  {
   "cell_type": "code",
   "execution_count": 14,
   "id": "60d1dc44",
   "metadata": {
    "scrolled": false
   },
   "outputs": [
    {
     "data": {
      "text/html": [
       "<div>\n",
       "<style scoped>\n",
       "    .dataframe tbody tr th:only-of-type {\n",
       "        vertical-align: middle;\n",
       "    }\n",
       "\n",
       "    .dataframe tbody tr th {\n",
       "        vertical-align: top;\n",
       "    }\n",
       "\n",
       "    .dataframe thead th {\n",
       "        text-align: right;\n",
       "    }\n",
       "</style>\n",
       "<table border=\"1\" class=\"dataframe\">\n",
       "  <thead>\n",
       "    <tr style=\"text-align: right;\">\n",
       "      <th></th>\n",
       "      <th>id</th>\n",
       "      <th>is_canceled</th>\n",
       "      <th>lead_time</th>\n",
       "      <th>arrival_date_year</th>\n",
       "      <th>arrival_date_month</th>\n",
       "      <th>arrival_date_week_number</th>\n",
       "      <th>arrival_date_day_of_month</th>\n",
       "      <th>stays_in_weekend_nights</th>\n",
       "      <th>stays_in_week_nights</th>\n",
       "      <th>adults</th>\n",
       "      <th>...</th>\n",
       "      <th>is_repeated_guest</th>\n",
       "      <th>previous_cancellations</th>\n",
       "      <th>previous_bookings_not_canceled</th>\n",
       "      <th>reserved_room_type</th>\n",
       "      <th>booking_changes</th>\n",
       "      <th>days_in_waiting_list</th>\n",
       "      <th>customer_type</th>\n",
       "      <th>required_car_parking_spaces</th>\n",
       "      <th>total_of_special_requests</th>\n",
       "      <th>total_nights</th>\n",
       "    </tr>\n",
       "  </thead>\n",
       "  <tbody>\n",
       "    <tr>\n",
       "      <th>17540</th>\n",
       "      <td>25480</td>\n",
       "      <td>0</td>\n",
       "      <td>1.0</td>\n",
       "      <td>2015</td>\n",
       "      <td>August</td>\n",
       "      <td>33</td>\n",
       "      <td>10</td>\n",
       "      <td>1</td>\n",
       "      <td>1</td>\n",
       "      <td>0.0</td>\n",
       "      <td>...</td>\n",
       "      <td>0</td>\n",
       "      <td>0</td>\n",
       "      <td>0</td>\n",
       "      <td>B</td>\n",
       "      <td>1</td>\n",
       "      <td>0</td>\n",
       "      <td>Transient-Party</td>\n",
       "      <td>0</td>\n",
       "      <td>0</td>\n",
       "      <td>2</td>\n",
       "    </tr>\n",
       "    <tr>\n",
       "      <th>17598</th>\n",
       "      <td>25538</td>\n",
       "      <td>0</td>\n",
       "      <td>104.0</td>\n",
       "      <td>2015</td>\n",
       "      <td>August</td>\n",
       "      <td>33</td>\n",
       "      <td>11</td>\n",
       "      <td>0</td>\n",
       "      <td>3</td>\n",
       "      <td>0.0</td>\n",
       "      <td>...</td>\n",
       "      <td>0</td>\n",
       "      <td>0</td>\n",
       "      <td>0</td>\n",
       "      <td>B</td>\n",
       "      <td>1</td>\n",
       "      <td>0</td>\n",
       "      <td>Transient-Party</td>\n",
       "      <td>0</td>\n",
       "      <td>2</td>\n",
       "      <td>3</td>\n",
       "    </tr>\n",
       "    <tr>\n",
       "      <th>17982</th>\n",
       "      <td>25922</td>\n",
       "      <td>0</td>\n",
       "      <td>3.0</td>\n",
       "      <td>2015</td>\n",
       "      <td>August</td>\n",
       "      <td>34</td>\n",
       "      <td>16</td>\n",
       "      <td>2</td>\n",
       "      <td>0</td>\n",
       "      <td>0.0</td>\n",
       "      <td>...</td>\n",
       "      <td>0</td>\n",
       "      <td>0</td>\n",
       "      <td>0</td>\n",
       "      <td>B</td>\n",
       "      <td>1</td>\n",
       "      <td>0</td>\n",
       "      <td>Transient-Party</td>\n",
       "      <td>0</td>\n",
       "      <td>1</td>\n",
       "      <td>2</td>\n",
       "    </tr>\n",
       "    <tr>\n",
       "      <th>21556</th>\n",
       "      <td>29496</td>\n",
       "      <td>1</td>\n",
       "      <td>48.0</td>\n",
       "      <td>2015</td>\n",
       "      <td>October</td>\n",
       "      <td>43</td>\n",
       "      <td>19</td>\n",
       "      <td>1</td>\n",
       "      <td>3</td>\n",
       "      <td>0.0</td>\n",
       "      <td>...</td>\n",
       "      <td>0</td>\n",
       "      <td>0</td>\n",
       "      <td>0</td>\n",
       "      <td>B</td>\n",
       "      <td>0</td>\n",
       "      <td>0</td>\n",
       "      <td>Transient-Party</td>\n",
       "      <td>0</td>\n",
       "      <td>1</td>\n",
       "      <td>4</td>\n",
       "    </tr>\n",
       "    <tr>\n",
       "      <th>22516</th>\n",
       "      <td>30456</td>\n",
       "      <td>1</td>\n",
       "      <td>6.0</td>\n",
       "      <td>2015</td>\n",
       "      <td>December</td>\n",
       "      <td>51</td>\n",
       "      <td>13</td>\n",
       "      <td>1</td>\n",
       "      <td>0</td>\n",
       "      <td>0.0</td>\n",
       "      <td>...</td>\n",
       "      <td>0</td>\n",
       "      <td>0</td>\n",
       "      <td>0</td>\n",
       "      <td>B</td>\n",
       "      <td>0</td>\n",
       "      <td>0</td>\n",
       "      <td>Transient-Party</td>\n",
       "      <td>0</td>\n",
       "      <td>1</td>\n",
       "      <td>1</td>\n",
       "    </tr>\n",
       "    <tr>\n",
       "      <th>...</th>\n",
       "      <td>...</td>\n",
       "      <td>...</td>\n",
       "      <td>...</td>\n",
       "      <td>...</td>\n",
       "      <td>...</td>\n",
       "      <td>...</td>\n",
       "      <td>...</td>\n",
       "      <td>...</td>\n",
       "      <td>...</td>\n",
       "      <td>...</td>\n",
       "      <td>...</td>\n",
       "      <td>...</td>\n",
       "      <td>...</td>\n",
       "      <td>...</td>\n",
       "      <td>...</td>\n",
       "      <td>...</td>\n",
       "      <td>...</td>\n",
       "      <td>...</td>\n",
       "      <td>...</td>\n",
       "      <td>...</td>\n",
       "      <td>...</td>\n",
       "    </tr>\n",
       "    <tr>\n",
       "      <th>64641</th>\n",
       "      <td>83365</td>\n",
       "      <td>0</td>\n",
       "      <td>109.0</td>\n",
       "      <td>2016</td>\n",
       "      <td>December</td>\n",
       "      <td>51</td>\n",
       "      <td>16</td>\n",
       "      <td>2</td>\n",
       "      <td>3</td>\n",
       "      <td>0.0</td>\n",
       "      <td>...</td>\n",
       "      <td>0</td>\n",
       "      <td>0</td>\n",
       "      <td>0</td>\n",
       "      <td>B</td>\n",
       "      <td>0</td>\n",
       "      <td>0</td>\n",
       "      <td>Transient</td>\n",
       "      <td>0</td>\n",
       "      <td>2</td>\n",
       "      <td>5</td>\n",
       "    </tr>\n",
       "    <tr>\n",
       "      <th>64751</th>\n",
       "      <td>83478</td>\n",
       "      <td>0</td>\n",
       "      <td>197.0</td>\n",
       "      <td>2016</td>\n",
       "      <td>December</td>\n",
       "      <td>52</td>\n",
       "      <td>21</td>\n",
       "      <td>1</td>\n",
       "      <td>4</td>\n",
       "      <td>0.0</td>\n",
       "      <td>...</td>\n",
       "      <td>0</td>\n",
       "      <td>0</td>\n",
       "      <td>0</td>\n",
       "      <td>A</td>\n",
       "      <td>7</td>\n",
       "      <td>0</td>\n",
       "      <td>Transient-Party</td>\n",
       "      <td>0</td>\n",
       "      <td>0</td>\n",
       "      <td>5</td>\n",
       "    </tr>\n",
       "    <tr>\n",
       "      <th>64882</th>\n",
       "      <td>83610</td>\n",
       "      <td>0</td>\n",
       "      <td>104.0</td>\n",
       "      <td>2016</td>\n",
       "      <td>December</td>\n",
       "      <td>53</td>\n",
       "      <td>25</td>\n",
       "      <td>2</td>\n",
       "      <td>1</td>\n",
       "      <td>0.0</td>\n",
       "      <td>...</td>\n",
       "      <td>0</td>\n",
       "      <td>0</td>\n",
       "      <td>0</td>\n",
       "      <td>B</td>\n",
       "      <td>1</td>\n",
       "      <td>0</td>\n",
       "      <td>Transient</td>\n",
       "      <td>0</td>\n",
       "      <td>2</td>\n",
       "      <td>3</td>\n",
       "    </tr>\n",
       "    <tr>\n",
       "      <th>64892</th>\n",
       "      <td>83620</td>\n",
       "      <td>0</td>\n",
       "      <td>104.0</td>\n",
       "      <td>2016</td>\n",
       "      <td>December</td>\n",
       "      <td>53</td>\n",
       "      <td>25</td>\n",
       "      <td>2</td>\n",
       "      <td>1</td>\n",
       "      <td>0.0</td>\n",
       "      <td>...</td>\n",
       "      <td>0</td>\n",
       "      <td>0</td>\n",
       "      <td>0</td>\n",
       "      <td>B</td>\n",
       "      <td>0</td>\n",
       "      <td>0</td>\n",
       "      <td>Transient</td>\n",
       "      <td>0</td>\n",
       "      <td>2</td>\n",
       "      <td>3</td>\n",
       "    </tr>\n",
       "    <tr>\n",
       "      <th>64903</th>\n",
       "      <td>83633</td>\n",
       "      <td>0</td>\n",
       "      <td>247.0</td>\n",
       "      <td>2016</td>\n",
       "      <td>December</td>\n",
       "      <td>52</td>\n",
       "      <td>24</td>\n",
       "      <td>2</td>\n",
       "      <td>3</td>\n",
       "      <td>0.0</td>\n",
       "      <td>...</td>\n",
       "      <td>0</td>\n",
       "      <td>0</td>\n",
       "      <td>0</td>\n",
       "      <td>B</td>\n",
       "      <td>0</td>\n",
       "      <td>0</td>\n",
       "      <td>Transient</td>\n",
       "      <td>0</td>\n",
       "      <td>1</td>\n",
       "      <td>5</td>\n",
       "    </tr>\n",
       "  </tbody>\n",
       "</table>\n",
       "<p>151 rows × 25 columns</p>\n",
       "</div>"
      ],
      "text/plain": [
       "          id  is_canceled  lead_time  arrival_date_year arrival_date_month  \\\n",
       "17540  25480            0        1.0               2015             August   \n",
       "17598  25538            0      104.0               2015             August   \n",
       "17982  25922            0        3.0               2015             August   \n",
       "21556  29496            1       48.0               2015            October   \n",
       "22516  30456            1        6.0               2015           December   \n",
       "...      ...          ...        ...                ...                ...   \n",
       "64641  83365            0      109.0               2016           December   \n",
       "64751  83478            0      197.0               2016           December   \n",
       "64882  83610            0      104.0               2016           December   \n",
       "64892  83620            0      104.0               2016           December   \n",
       "64903  83633            0      247.0               2016           December   \n",
       "\n",
       "       arrival_date_week_number  arrival_date_day_of_month  \\\n",
       "17540                        33                         10   \n",
       "17598                        33                         11   \n",
       "17982                        34                         16   \n",
       "21556                        43                         19   \n",
       "22516                        51                         13   \n",
       "...                         ...                        ...   \n",
       "64641                        51                         16   \n",
       "64751                        52                         21   \n",
       "64882                        53                         25   \n",
       "64892                        53                         25   \n",
       "64903                        52                         24   \n",
       "\n",
       "       stays_in_weekend_nights  stays_in_week_nights  adults  ...  \\\n",
       "17540                        1                     1     0.0  ...   \n",
       "17598                        0                     3     0.0  ...   \n",
       "17982                        2                     0     0.0  ...   \n",
       "21556                        1                     3     0.0  ...   \n",
       "22516                        1                     0     0.0  ...   \n",
       "...                        ...                   ...     ...  ...   \n",
       "64641                        2                     3     0.0  ...   \n",
       "64751                        1                     4     0.0  ...   \n",
       "64882                        2                     1     0.0  ...   \n",
       "64892                        2                     1     0.0  ...   \n",
       "64903                        2                     3     0.0  ...   \n",
       "\n",
       "       is_repeated_guest  previous_cancellations  \\\n",
       "17540                  0                       0   \n",
       "17598                  0                       0   \n",
       "17982                  0                       0   \n",
       "21556                  0                       0   \n",
       "22516                  0                       0   \n",
       "...                  ...                     ...   \n",
       "64641                  0                       0   \n",
       "64751                  0                       0   \n",
       "64882                  0                       0   \n",
       "64892                  0                       0   \n",
       "64903                  0                       0   \n",
       "\n",
       "      previous_bookings_not_canceled reserved_room_type booking_changes  \\\n",
       "17540                              0   B                              1   \n",
       "17598                              0   B                              1   \n",
       "17982                              0   B                              1   \n",
       "21556                              0   B                              0   \n",
       "22516                              0   B                              0   \n",
       "...                              ...                ...             ...   \n",
       "64641                              0   B                              0   \n",
       "64751                              0   A                              7   \n",
       "64882                              0   B                              1   \n",
       "64892                              0   B                              0   \n",
       "64903                              0   B                              0   \n",
       "\n",
       "       days_in_waiting_list    customer_type  required_car_parking_spaces  \\\n",
       "17540                     0  Transient-Party                            0   \n",
       "17598                     0  Transient-Party                            0   \n",
       "17982                     0  Transient-Party                            0   \n",
       "21556                     0  Transient-Party                            0   \n",
       "22516                     0  Transient-Party                            0   \n",
       "...                     ...              ...                          ...   \n",
       "64641                     0        Transient                            0   \n",
       "64751                     0  Transient-Party                            0   \n",
       "64882                     0        Transient                            0   \n",
       "64892                     0        Transient                            0   \n",
       "64903                     0        Transient                            0   \n",
       "\n",
       "      total_of_special_requests  total_nights  \n",
       "17540                         0             2  \n",
       "17598                         2             3  \n",
       "17982                         1             2  \n",
       "21556                         1             4  \n",
       "22516                         1             1  \n",
       "...                         ...           ...  \n",
       "64641                         2             5  \n",
       "64751                         0             5  \n",
       "64882                         2             3  \n",
       "64892                         2             3  \n",
       "64903                         1             5  \n",
       "\n",
       "[151 rows x 25 columns]"
      ]
     },
     "metadata": {},
     "output_type": "display_data"
    }
   ],
   "source": [
    "display(df_1[((df_1.children >0 )| (df_1.babies >0)) & (df_1.adults<1)  ])"
   ]
  },
  {
   "cell_type": "code",
   "execution_count": 15,
   "id": "47a59225",
   "metadata": {},
   "outputs": [
    {
     "data": {
      "text/plain": [
       "48"
      ]
     },
     "metadata": {},
     "output_type": "display_data"
    }
   ],
   "source": [
    "display(df_1[((df_1.children >0 )| (df_1.babies >0)) & (df_1.adults<1)  ].is_canceled.sum())"
   ]
  },
  {
   "cell_type": "markdown",
   "id": "bc111b08",
   "metadata": {},
   "source": [
    "**И тут мы видим неприглядную картину. Скорее всего при бронировании отдельных номеров для детей - для них в базе есть отдельная строка. За малым числом таких данных (особенно отменненых) ими можно пренебречь (модель они вряд ли \"отравят\"), так как механизм объединения их с родительской записью сложноформализуем.**"
   ]
  },
  {
   "cell_type": "markdown",
   "id": "55f721ef",
   "metadata": {},
   "source": [
    "<div class=\"alert alert-success\">\n",
    "<h2> Комментарий ревьюера <a class=\"tocSkip\"> </h2>\n",
    "\n",
    "<b>Все отлично!👍:</b> \n",
    "  \n",
    "Интересное предположение."
   ]
  },
  {
   "cell_type": "markdown",
   "id": "e956941c",
   "metadata": {},
   "source": [
    "Для простоты изучения данных объединим датасеты, и в отдельных случаях будем смотреть их отличия друг от друга."
   ]
  },
  {
   "cell_type": "code",
   "execution_count": 16,
   "id": "f5829455",
   "metadata": {},
   "outputs": [],
   "source": [
    "df = pd.concat([df_1, df_2])"
   ]
  },
  {
   "cell_type": "code",
   "execution_count": 17,
   "id": "36575574",
   "metadata": {},
   "outputs": [
    {
     "data": {
      "image/png": "[encoded data removed]",
      "text/plain": [
       "<Figure size 640x480 with 1 Axes>"
      ]
     },
     "metadata": {},
     "output_type": "display_data"
    }
   ],
   "source": [
    "plt.hist(df.arrival_date_year)\n",
    "plt.xticks([2015,2016,2017])\n",
    "plt.show()"
   ]
  },
  {
   "cell_type": "code",
   "execution_count": 18,
   "id": "aeb1c63e",
   "metadata": {
    "scrolled": true
   },
   "outputs": [
    {
     "name": "stdout",
     "output_type": "stream",
     "text": [
      "[2015 2016]\n",
      "[2017]\n"
     ]
    }
   ],
   "source": [
    "print(df_1.arrival_date_year.unique())\n",
    "print(df_2.arrival_date_year.unique())"
   ]
  },
  {
   "cell_type": "markdown",
   "id": "03c6648c",
   "metadata": {},
   "source": [
    "При этом в обучающем датасете 2015 и 2016 года, а в тестовом 2017. Данные столбец - надо удалить, тк для модели он не только не информативен, но и вреден (2017 год отсутствует в df_1)"
   ]
  },
  {
   "cell_type": "markdown",
   "id": "ea1c661b",
   "metadata": {},
   "source": [
    "Посмотрим, что с колонками arrival_date_month и arrival_date_week_number"
   ]
  },
  {
   "cell_type": "code",
   "execution_count": 19,
   "id": "45233788",
   "metadata": {},
   "outputs": [
    {
     "data": {
      "text/plain": [
       "array([27, 28, 29, 30, 31, 32, 33, 34, 35, 36, 37, 38, 39, 40, 41, 42, 43,\n",
       "       44, 45, 46, 47, 48, 49, 50, 51, 52, 53,  1,  2,  3,  4,  5,  6,  7,\n",
       "        8,  9, 10, 11, 12, 13, 14, 15, 16, 17, 18, 19, 20, 21, 22, 23, 24,\n",
       "       25, 26])"
      ]
     },
     "execution_count": 19,
     "metadata": {},
     "output_type": "execute_result"
    }
   ],
   "source": [
    "df.arrival_date_week_number.unique()"
   ]
  },
  {
   "cell_type": "code",
   "execution_count": 20,
   "id": "17f6d757",
   "metadata": {
    "scrolled": false
   },
   "outputs": [
    {
     "data": {
      "text/plain": [
       "array(['July', 'August', 'September', 'October', 'November', 'December',\n",
       "       'January', 'February', 'March', 'April', 'May', 'June'],\n",
       "      dtype=object)"
      ]
     },
     "execution_count": 20,
     "metadata": {},
     "output_type": "execute_result"
    }
   ],
   "source": [
    "df.arrival_date_month.unique()"
   ]
  },
  {
   "cell_type": "code",
   "execution_count": 21,
   "id": "6e2b0125",
   "metadata": {},
   "outputs": [],
   "source": [
    "#мы неленивые\n",
    "def month_num(m_name):\n",
    "    month_dict = {'July':7, 'August':8, 'September':9, 'October':10, 'November':11, 'December':12,\n",
    "       'January':1, 'February':2, 'March':3, 'April':4, 'May':5, 'June':6}\n",
    "    return(month_dict[m_name])"
   ]
  },
  {
   "cell_type": "code",
   "execution_count": 22,
   "id": "e58384cb",
   "metadata": {},
   "outputs": [],
   "source": [
    "df['month_num'] =  df.arrival_date_month.apply(month_num)"
   ]
  },
  {
   "cell_type": "code",
   "execution_count": 23,
   "id": "09a8422a",
   "metadata": {},
   "outputs": [
    {
     "name": "stdout",
     "output_type": "stream",
     "text": [
      "Корреляция колонки месяца и недели прибытия:  0.9952363751602975\n"
     ]
    }
   ],
   "source": [
    "print(\"Корреляция колонки месяца и недели прибытия: \", df.arrival_date_week_number.corr(df.month_num))"
   ]
  },
  {
   "cell_type": "markdown",
   "id": "bbaa9bbb",
   "metadata": {},
   "source": [
    "Однозначно колонка месяца для модели не нужна. Оставим только неделю прибытия (и ничего что их 53)"
   ]
  },
  {
   "cell_type": "code",
   "execution_count": 24,
   "id": "0dbb8647",
   "metadata": {},
   "outputs": [
    {
     "name": "stdout",
     "output_type": "stream",
     "text": [
      "[ 1  2  3  4  5  6  7  8  9 10 11 12 13 14 15 16 17 18 19 20 21 22 23 24\n",
      " 25 26 27 28 29 30 31]\n"
     ]
    }
   ],
   "source": [
    "print(df.arrival_date_day_of_month.unique())"
   ]
  },
  {
   "cell_type": "code",
   "execution_count": 25,
   "id": "7ea2eeb8",
   "metadata": {},
   "outputs": [
    {
     "data": {
      "image/png": "[encoded data removed]",
      "text/plain": [
       "<Figure size 640x480 with 1 Axes>"
      ]
     },
     "metadata": {},
     "output_type": "display_data"
    }
   ],
   "source": [
    "df.arrival_date_day_of_month.hist()\n",
    "plt.show()"
   ]
  },
  {
   "cell_type": "markdown",
   "id": "95450c07",
   "metadata": {},
   "source": [
    "С днями все нормально - оставляем как есть"
   ]
  },
  {
   "cell_type": "markdown",
   "id": "5ada8b2e",
   "metadata": {},
   "source": [
    "Смотрим колонки по времени пребывания гостей"
   ]
  },
  {
   "cell_type": "code",
   "execution_count": 26,
   "id": "9ba0c0a6",
   "metadata": {},
   "outputs": [
    {
     "data": {
      "text/html": [
       "<div>\n",
       "<style scoped>\n",
       "    .dataframe tbody tr th:only-of-type {\n",
       "        vertical-align: middle;\n",
       "    }\n",
       "\n",
       "    .dataframe tbody tr th {\n",
       "        vertical-align: top;\n",
       "    }\n",
       "\n",
       "    .dataframe thead th {\n",
       "        text-align: right;\n",
       "    }\n",
       "</style>\n",
       "<table border=\"1\" class=\"dataframe\">\n",
       "  <thead>\n",
       "    <tr style=\"text-align: right;\">\n",
       "      <th></th>\n",
       "      <th>stays_in_weekend_nights</th>\n",
       "      <th>stays_in_week_nights</th>\n",
       "      <th>total_nights</th>\n",
       "    </tr>\n",
       "  </thead>\n",
       "  <tbody>\n",
       "    <tr>\n",
       "      <th>stays_in_weekend_nights</th>\n",
       "      <td>1.000000</td>\n",
       "      <td>0.189616</td>\n",
       "      <td>0.639175</td>\n",
       "    </tr>\n",
       "    <tr>\n",
       "      <th>stays_in_week_nights</th>\n",
       "      <td>0.189616</td>\n",
       "      <td>1.000000</td>\n",
       "      <td>0.876307</td>\n",
       "    </tr>\n",
       "    <tr>\n",
       "      <th>total_nights</th>\n",
       "      <td>0.639175</td>\n",
       "      <td>0.876307</td>\n",
       "      <td>1.000000</td>\n",
       "    </tr>\n",
       "  </tbody>\n",
       "</table>\n",
       "</div>"
      ],
      "text/plain": [
       "                         stays_in_weekend_nights  stays_in_week_nights  \\\n",
       "stays_in_weekend_nights                 1.000000              0.189616   \n",
       "stays_in_week_nights                    0.189616              1.000000   \n",
       "total_nights                            0.639175              0.876307   \n",
       "\n",
       "                         total_nights  \n",
       "stays_in_weekend_nights      0.639175  \n",
       "stays_in_week_nights         0.876307  \n",
       "total_nights                 1.000000  "
      ]
     },
     "execution_count": 26,
     "metadata": {},
     "output_type": "execute_result"
    }
   ],
   "source": [
    "df[['stays_in_weekend_nights','stays_in_week_nights','total_nights']].corr()"
   ]
  },
  {
   "cell_type": "markdown",
   "id": "e6dcf69b",
   "metadata": {},
   "source": [
    "Здесь, предсказуемо (капитан незримо присутствует все последние ячейки) - есть высокая корреляция. Для Расчетов нам будут нужны total_nights, а для модели разумно оставить раздельные данные (все-таки аренда на weekend и на неделе разные события). И странно что тут не разные цен - обычно аренда на выходные дороже чем на неделе."
   ]
  },
  {
   "cell_type": "markdown",
   "id": "465a1217",
   "metadata": {},
   "source": [
    "Смотрим колонку - \"meal\" - питание"
   ]
  },
  {
   "cell_type": "code",
   "execution_count": 27,
   "id": "e0962c64",
   "metadata": {
    "scrolled": true
   },
   "outputs": [
    {
     "data": {
      "text/plain": [
       "array(['BB       ', 'FB       ', 'HB       ', 'SC       ', 'SC'],\n",
       "      dtype=object)"
      ]
     },
     "execution_count": 27,
     "metadata": {},
     "output_type": "execute_result"
    }
   ],
   "source": [
    "df.meal.unique()"
   ]
  },
  {
   "cell_type": "markdown",
   "id": "3d8e3993",
   "metadata": {},
   "source": [
    "Исправляем некорректные данные:"
   ]
  },
  {
   "cell_type": "code",
   "execution_count": 28,
   "id": "fe6ba46f",
   "metadata": {},
   "outputs": [],
   "source": [
    "df.meal = df.meal.str.strip()\n",
    "df_1.meal = df_1.meal.str.strip()\n",
    "df_2.meal = df_2.meal.str.strip()"
   ]
  },
  {
   "cell_type": "code",
   "execution_count": 29,
   "id": "90731a3a",
   "metadata": {
    "scrolled": true
   },
   "outputs": [
    {
     "data": {
      "text/plain": [
       "array(['BB', 'FB', 'HB', 'SC'], dtype=object)"
      ]
     },
     "execution_count": 29,
     "metadata": {},
     "output_type": "execute_result"
    }
   ],
   "source": [
    "df.meal.unique()"
   ]
  },
  {
   "cell_type": "markdown",
   "id": "58bc30b4",
   "metadata": {},
   "source": [
    "Колонка distribution_channel:"
   ]
  },
  {
   "cell_type": "code",
   "execution_count": 30,
   "id": "9abcd5a6",
   "metadata": {},
   "outputs": [
    {
     "data": {
      "image/png": "[encoded data removed]",
      "text/plain": [
       "<Figure size 640x480 with 1 Axes>"
      ]
     },
     "metadata": {},
     "output_type": "display_data"
    }
   ],
   "source": [
    "df.distribution_channel.hist()\n",
    "plt.show()"
   ]
  },
  {
   "cell_type": "code",
   "execution_count": 31,
   "id": "26c34b0b",
   "metadata": {},
   "outputs": [
    {
     "name": "stdout",
     "output_type": "stream",
     "text": [
      "184\n"
     ]
    }
   ],
   "source": [
    "print(len(df[df.distribution_channel==\"GDS\"]))"
   ]
  },
  {
   "cell_type": "markdown",
   "id": "94c130ee",
   "metadata": {},
   "source": [
    "Всего 4 канал дистрибуции. Даже для самого мелкого заказов больше 150. Нет поводов вносить правки"
   ]
  },
  {
   "cell_type": "markdown",
   "id": "61e85521",
   "metadata": {},
   "source": [
    "По колонкам previous_bookings_not_canceled' и 'previous_cancellations' корреляция низкая."
   ]
  },
  {
   "cell_type": "code",
   "execution_count": 32,
   "id": "ecefea1c",
   "metadata": {
    "scrolled": true
   },
   "outputs": [
    {
     "data": {
      "text/html": [
       "<div>\n",
       "<style scoped>\n",
       "    .dataframe tbody tr th:only-of-type {\n",
       "        vertical-align: middle;\n",
       "    }\n",
       "\n",
       "    .dataframe tbody tr th {\n",
       "        vertical-align: top;\n",
       "    }\n",
       "\n",
       "    .dataframe thead th {\n",
       "        text-align: right;\n",
       "    }\n",
       "</style>\n",
       "<table border=\"1\" class=\"dataframe\">\n",
       "  <thead>\n",
       "    <tr style=\"text-align: right;\">\n",
       "      <th></th>\n",
       "      <th>previous_bookings_not_canceled</th>\n",
       "      <th>previous_cancellations</th>\n",
       "    </tr>\n",
       "  </thead>\n",
       "  <tbody>\n",
       "    <tr>\n",
       "      <th>previous_bookings_not_canceled</th>\n",
       "      <td>1.000000</td>\n",
       "      <td>0.174267</td>\n",
       "    </tr>\n",
       "    <tr>\n",
       "      <th>previous_cancellations</th>\n",
       "      <td>0.174267</td>\n",
       "      <td>1.000000</td>\n",
       "    </tr>\n",
       "  </tbody>\n",
       "</table>\n",
       "</div>"
      ],
      "text/plain": [
       "                                previous_bookings_not_canceled  \\\n",
       "previous_bookings_not_canceled                        1.000000   \n",
       "previous_cancellations                                0.174267   \n",
       "\n",
       "                                previous_cancellations  \n",
       "previous_bookings_not_canceled                0.174267  \n",
       "previous_cancellations                        1.000000  "
      ]
     },
     "execution_count": 32,
     "metadata": {},
     "output_type": "execute_result"
    }
   ],
   "source": [
    "df[['previous_bookings_not_canceled', 'previous_cancellations']].corr()"
   ]
  },
  {
   "cell_type": "code",
   "execution_count": 33,
   "id": "05c5ca9f",
   "metadata": {},
   "outputs": [
    {
     "data": {
      "image/png": "[encoded data removed]",
      "text/plain": [
       "<Figure size 640x480 with 1 Axes>"
      ]
     },
     "metadata": {},
     "output_type": "display_data"
    }
   ],
   "source": [
    "df.previous_bookings_not_canceled.hist()\n",
    "plt.show()"
   ]
  },
  {
   "cell_type": "code",
   "execution_count": 34,
   "id": "e6289999",
   "metadata": {},
   "outputs": [
    {
     "name": "stdout",
     "output_type": "stream",
     "text": [
      "284\n",
      "97357\n"
     ]
    }
   ],
   "source": [
    "print(df[df.previous_bookings_not_canceled >10].previous_bookings_not_canceled.count())\n",
    "print(df[df.previous_bookings_not_canceled <11].previous_bookings_not_canceled.count())"
   ]
  },
  {
   "cell_type": "markdown",
   "id": "4e0cd172",
   "metadata": {},
   "source": [
    "Есть версия выбросить строки со значением previous_bookings_not_canceled  больше 10"
   ]
  },
  {
   "cell_type": "code",
   "execution_count": 35,
   "id": "b9715c2b",
   "metadata": {},
   "outputs": [
    {
     "data": {
      "image/png": "[encoded data removed]",
      "text/plain": [
       "<Figure size 640x480 with 1 Axes>"
      ]
     },
     "metadata": {},
     "output_type": "display_data"
    }
   ],
   "source": [
    "df.previous_cancellations.hist()\n",
    "plt.show()"
   ]
  },
  {
   "cell_type": "markdown",
   "id": "5d6efd52",
   "metadata": {},
   "source": [
    "А для previous_cancellations отбросить больше 5:"
   ]
  },
  {
   "cell_type": "code",
   "execution_count": 36,
   "id": "294a0f4f",
   "metadata": {
    "scrolled": true
   },
   "outputs": [
    {
     "name": "stdout",
     "output_type": "stream",
     "text": [
      "163\n",
      "97478\n"
     ]
    }
   ],
   "source": [
    "print(df[df.previous_cancellations >5].previous_cancellations.count())\n",
    "print(df[df.previous_cancellations <6].previous_cancellations.count())"
   ]
  },
  {
   "cell_type": "markdown",
   "id": "c0faca43",
   "metadata": {},
   "source": [
    "Использование boxplot для построения этих распределений не информативно из-за большого смещения mean, относительно пиковых значений."
   ]
  },
  {
   "cell_type": "markdown",
   "id": "471fc7ac",
   "metadata": {},
   "source": [
    "Типы комнат - reserved_room_type -имеют уродский вид:"
   ]
  },
  {
   "cell_type": "code",
   "execution_count": 37,
   "id": "1fba85a6",
   "metadata": {},
   "outputs": [
    {
     "name": "stdout",
     "output_type": "stream",
     "text": [
      "['A               ' 'C               ' 'D               '\n",
      " 'E               ' 'G               ' 'F               '\n",
      " 'B               ']\n"
     ]
    }
   ],
   "source": [
    "print(df.reserved_room_type.unique())"
   ]
  },
  {
   "cell_type": "code",
   "execution_count": 38,
   "id": "0a7279a3",
   "metadata": {},
   "outputs": [],
   "source": [
    "df.reserved_room_type = df.reserved_room_type.str.strip()\n",
    "df_1.reserved_room_type = df_1.reserved_room_type.str.strip()\n",
    "df_2.reserved_room_type = df_2.reserved_room_type.str.strip()"
   ]
  },
  {
   "cell_type": "code",
   "execution_count": 39,
   "id": "348029f3",
   "metadata": {
    "scrolled": true
   },
   "outputs": [
    {
     "name": "stdout",
     "output_type": "stream",
     "text": [
      "['A' 'C' 'D' 'E' 'G' 'F' 'B']\n"
     ]
    }
   ],
   "source": [
    "print(df.reserved_room_type.unique())"
   ]
  },
  {
   "cell_type": "markdown",
   "id": "a6cfee84",
   "metadata": {},
   "source": [
    "Вот так - лучше"
   ]
  },
  {
   "cell_type": "markdown",
   "id": "22a83655",
   "metadata": {},
   "source": [
    "booking_changes  - отбросим при работе с моделью совсем странное поведение"
   ]
  },
  {
   "cell_type": "code",
   "execution_count": 40,
   "id": "4aa02b17",
   "metadata": {},
   "outputs": [
    {
     "name": "stdout",
     "output_type": "stream",
     "text": [
      "89\n",
      "97552\n"
     ]
    }
   ],
   "source": [
    "print(df[df.booking_changes >5].booking_changes.count())\n",
    "print(df[df.booking_changes <6].booking_changes.count())"
   ]
  },
  {
   "cell_type": "markdown",
   "id": "09b4c277",
   "metadata": {},
   "source": [
    "Колонка \"country\" - заменим на other редко встречающиеся страны:"
   ]
  },
  {
   "cell_type": "code",
   "execution_count": 41,
   "id": "954ff39c",
   "metadata": {},
   "outputs": [],
   "source": [
    "res = df.groupby('country')['id'].agg('count')\n",
    "res = res.reset_index()\n",
    "res.columns=['country', 'howmany']"
   ]
  },
  {
   "cell_type": "code",
   "execution_count": 42,
   "id": "4abbf33d",
   "metadata": {},
   "outputs": [
    {
     "name": "stdout",
     "output_type": "stream",
     "text": [
      "97641\n",
      "468\n"
     ]
    }
   ],
   "source": [
    "print(res.howmany.sum())\n",
    "print(res[res.howmany <20].howmany.sum())"
   ]
  },
  {
   "cell_type": "markdown",
   "id": "8f90af7a",
   "metadata": {},
   "source": [
    "Cтраны из которых было меньше 20 заявок составляют менее 0.5 процента - отнесем их к категории other"
   ]
  },
  {
   "cell_type": "code",
   "execution_count": 43,
   "id": "bee01c7b",
   "metadata": {},
   "outputs": [],
   "source": [
    "to_change = res[res.howmany < 20]['country']\n",
    "def change_country(c_code):\n",
    "    if c_code in list(to_change):\n",
    "        return('other')\n",
    "    else:\n",
    "        return(c_code)\n",
    "df['new_country'] = df.country.apply(change_country)\n",
    "df_1['new_country'] = df_1.country.apply(change_country)\n",
    "df_2['new_country'] = df_2.country.apply(change_country)"
   ]
  },
  {
   "cell_type": "markdown",
   "id": "12e3269b",
   "metadata": {},
   "source": [
    "Столбец lead_time - прердставляет собой что-то близкое к нормальному распределению. Выглядит разумно"
   ]
  },
  {
   "cell_type": "code",
   "execution_count": null,
   "id": "5c55bd24",
   "metadata": {
    "scrolled": true
   },
   "outputs": [],
   "source": [
    "df.lead_time.hist()\n",
    "plt.show()"
   ]
  },
  {
   "cell_type": "markdown",
   "id": "93cf55bf",
   "metadata": {},
   "source": [
    "а вот days_in_waiting_list слишком резко спадает. И точно, что дольше 150 дней - не имеет обоснованного объяснения"
   ]
  },
  {
   "cell_type": "code",
   "execution_count": null,
   "id": "49d83354",
   "metadata": {},
   "outputs": [],
   "source": [
    "df.days_in_waiting_list.hist()\n",
    "plt.show()"
   ]
  },
  {
   "cell_type": "markdown",
   "id": "27bc307c",
   "metadata": {},
   "source": [
    "**Посмотрим колонку babies**"
   ]
  },
  {
   "cell_type": "code",
   "execution_count": 44,
   "id": "1a2cc15d",
   "metadata": {},
   "outputs": [
    {
     "data": {
      "text/plain": [
       "array([ 0.,  1.,  2., 10.,  9.])"
      ]
     },
     "execution_count": 44,
     "metadata": {},
     "output_type": "execute_result"
    }
   ],
   "source": [
    "df.babies.unique()"
   ]
  },
  {
   "cell_type": "code",
   "execution_count": 45,
   "id": "687bfbdb",
   "metadata": {},
   "outputs": [
    {
     "name": "stdout",
     "output_type": "stream",
     "text": [
      "2\n"
     ]
    }
   ],
   "source": [
    "print(len(df[df.babies>3]))"
   ]
  },
  {
   "cell_type": "markdown",
   "id": "1bfaccba",
   "metadata": {},
   "source": [
    "Две строки с неправдаподобным числом детей - удалим"
   ]
  },
  {
   "cell_type": "markdown",
   "id": "5a31b655",
   "metadata": {},
   "source": [
    "Посмотрим дубли:"
   ]
  },
  {
   "cell_type": "code",
   "execution_count": 46,
   "id": "42cb336c",
   "metadata": {
    "scrolled": true
   },
   "outputs": [
    {
     "name": "stdout",
     "output_type": "stream",
     "text": [
      "Количество дублей:  29094\n",
      "Количество отказов от брони среди дублей:  17702\n"
     ]
    },
    {
     "data": {
      "text/html": [
       "<div>\n",
       "<style scoped>\n",
       "    .dataframe tbody tr th:only-of-type {\n",
       "        vertical-align: middle;\n",
       "    }\n",
       "\n",
       "    .dataframe tbody tr th {\n",
       "        vertical-align: top;\n",
       "    }\n",
       "\n",
       "    .dataframe thead th {\n",
       "        text-align: right;\n",
       "    }\n",
       "</style>\n",
       "<table border=\"1\" class=\"dataframe\">\n",
       "  <thead>\n",
       "    <tr style=\"text-align: right;\">\n",
       "      <th></th>\n",
       "      <th>is_canceled</th>\n",
       "      <th>lead_time</th>\n",
       "      <th>arrival_date_year</th>\n",
       "      <th>arrival_date_month</th>\n",
       "      <th>arrival_date_week_number</th>\n",
       "      <th>arrival_date_day_of_month</th>\n",
       "      <th>stays_in_weekend_nights</th>\n",
       "      <th>stays_in_week_nights</th>\n",
       "      <th>adults</th>\n",
       "      <th>children</th>\n",
       "      <th>...</th>\n",
       "      <th>previous_bookings_not_canceled</th>\n",
       "      <th>reserved_room_type</th>\n",
       "      <th>booking_changes</th>\n",
       "      <th>days_in_waiting_list</th>\n",
       "      <th>customer_type</th>\n",
       "      <th>required_car_parking_spaces</th>\n",
       "      <th>total_of_special_requests</th>\n",
       "      <th>total_nights</th>\n",
       "      <th>month_num</th>\n",
       "      <th>new_country</th>\n",
       "    </tr>\n",
       "  </thead>\n",
       "  <tbody>\n",
       "    <tr>\n",
       "      <th>13</th>\n",
       "      <td>0</td>\n",
       "      <td>72.0</td>\n",
       "      <td>2015</td>\n",
       "      <td>July</td>\n",
       "      <td>27</td>\n",
       "      <td>1</td>\n",
       "      <td>2</td>\n",
       "      <td>4</td>\n",
       "      <td>2.0</td>\n",
       "      <td>0.0</td>\n",
       "      <td>...</td>\n",
       "      <td>0</td>\n",
       "      <td>A</td>\n",
       "      <td>1</td>\n",
       "      <td>0</td>\n",
       "      <td>Transient</td>\n",
       "      <td>0</td>\n",
       "      <td>1</td>\n",
       "      <td>6</td>\n",
       "      <td>7</td>\n",
       "      <td>PRT</td>\n",
       "    </tr>\n",
       "    <tr>\n",
       "      <th>85</th>\n",
       "      <td>1</td>\n",
       "      <td>5.0</td>\n",
       "      <td>2015</td>\n",
       "      <td>July</td>\n",
       "      <td>28</td>\n",
       "      <td>5</td>\n",
       "      <td>1</td>\n",
       "      <td>0</td>\n",
       "      <td>2.0</td>\n",
       "      <td>0.0</td>\n",
       "      <td>...</td>\n",
       "      <td>0</td>\n",
       "      <td>D</td>\n",
       "      <td>0</td>\n",
       "      <td>0</td>\n",
       "      <td>Transient</td>\n",
       "      <td>0</td>\n",
       "      <td>0</td>\n",
       "      <td>1</td>\n",
       "      <td>7</td>\n",
       "      <td>PRT</td>\n",
       "    </tr>\n",
       "    <tr>\n",
       "      <th>115</th>\n",
       "      <td>0</td>\n",
       "      <td>0.0</td>\n",
       "      <td>2015</td>\n",
       "      <td>July</td>\n",
       "      <td>28</td>\n",
       "      <td>7</td>\n",
       "      <td>0</td>\n",
       "      <td>1</td>\n",
       "      <td>1.0</td>\n",
       "      <td>0.0</td>\n",
       "      <td>...</td>\n",
       "      <td>0</td>\n",
       "      <td>A</td>\n",
       "      <td>0</td>\n",
       "      <td>0</td>\n",
       "      <td>Transient</td>\n",
       "      <td>0</td>\n",
       "      <td>3</td>\n",
       "      <td>1</td>\n",
       "      <td>7</td>\n",
       "      <td>GBR</td>\n",
       "    </tr>\n",
       "    <tr>\n",
       "      <th>127</th>\n",
       "      <td>1</td>\n",
       "      <td>1.0</td>\n",
       "      <td>2015</td>\n",
       "      <td>July</td>\n",
       "      <td>28</td>\n",
       "      <td>8</td>\n",
       "      <td>0</td>\n",
       "      <td>1</td>\n",
       "      <td>2.0</td>\n",
       "      <td>0.0</td>\n",
       "      <td>...</td>\n",
       "      <td>0</td>\n",
       "      <td>A</td>\n",
       "      <td>0</td>\n",
       "      <td>0</td>\n",
       "      <td>Transient</td>\n",
       "      <td>0</td>\n",
       "      <td>1</td>\n",
       "      <td>1</td>\n",
       "      <td>7</td>\n",
       "      <td>PRT</td>\n",
       "    </tr>\n",
       "    <tr>\n",
       "      <th>219</th>\n",
       "      <td>0</td>\n",
       "      <td>40.0</td>\n",
       "      <td>2015</td>\n",
       "      <td>July</td>\n",
       "      <td>29</td>\n",
       "      <td>13</td>\n",
       "      <td>1</td>\n",
       "      <td>4</td>\n",
       "      <td>2.0</td>\n",
       "      <td>0.0</td>\n",
       "      <td>...</td>\n",
       "      <td>0</td>\n",
       "      <td>D</td>\n",
       "      <td>0</td>\n",
       "      <td>0</td>\n",
       "      <td>Transient</td>\n",
       "      <td>0</td>\n",
       "      <td>2</td>\n",
       "      <td>5</td>\n",
       "      <td>7</td>\n",
       "      <td>ESP</td>\n",
       "    </tr>\n",
       "    <tr>\n",
       "      <th>...</th>\n",
       "      <td>...</td>\n",
       "      <td>...</td>\n",
       "      <td>...</td>\n",
       "      <td>...</td>\n",
       "      <td>...</td>\n",
       "      <td>...</td>\n",
       "      <td>...</td>\n",
       "      <td>...</td>\n",
       "      <td>...</td>\n",
       "      <td>...</td>\n",
       "      <td>...</td>\n",
       "      <td>...</td>\n",
       "      <td>...</td>\n",
       "      <td>...</td>\n",
       "      <td>...</td>\n",
       "      <td>...</td>\n",
       "      <td>...</td>\n",
       "      <td>...</td>\n",
       "      <td>...</td>\n",
       "      <td>...</td>\n",
       "      <td>...</td>\n",
       "    </tr>\n",
       "    <tr>\n",
       "      <th>32377</th>\n",
       "      <td>0</td>\n",
       "      <td>186.0</td>\n",
       "      <td>2017</td>\n",
       "      <td>August</td>\n",
       "      <td>35</td>\n",
       "      <td>31</td>\n",
       "      <td>0</td>\n",
       "      <td>3</td>\n",
       "      <td>2.0</td>\n",
       "      <td>0.0</td>\n",
       "      <td>...</td>\n",
       "      <td>0</td>\n",
       "      <td>D</td>\n",
       "      <td>0</td>\n",
       "      <td>0</td>\n",
       "      <td>Transient</td>\n",
       "      <td>0</td>\n",
       "      <td>2</td>\n",
       "      <td>3</td>\n",
       "      <td>8</td>\n",
       "      <td>DEU</td>\n",
       "    </tr>\n",
       "    <tr>\n",
       "      <th>32380</th>\n",
       "      <td>0</td>\n",
       "      <td>63.0</td>\n",
       "      <td>2017</td>\n",
       "      <td>August</td>\n",
       "      <td>35</td>\n",
       "      <td>31</td>\n",
       "      <td>0</td>\n",
       "      <td>3</td>\n",
       "      <td>3.0</td>\n",
       "      <td>0.0</td>\n",
       "      <td>...</td>\n",
       "      <td>0</td>\n",
       "      <td>D</td>\n",
       "      <td>0</td>\n",
       "      <td>0</td>\n",
       "      <td>Transient-Party</td>\n",
       "      <td>0</td>\n",
       "      <td>2</td>\n",
       "      <td>3</td>\n",
       "      <td>8</td>\n",
       "      <td>SWE</td>\n",
       "    </tr>\n",
       "    <tr>\n",
       "      <th>32381</th>\n",
       "      <td>0</td>\n",
       "      <td>63.0</td>\n",
       "      <td>2017</td>\n",
       "      <td>August</td>\n",
       "      <td>35</td>\n",
       "      <td>31</td>\n",
       "      <td>0</td>\n",
       "      <td>3</td>\n",
       "      <td>3.0</td>\n",
       "      <td>0.0</td>\n",
       "      <td>...</td>\n",
       "      <td>0</td>\n",
       "      <td>D</td>\n",
       "      <td>0</td>\n",
       "      <td>0</td>\n",
       "      <td>Transient-Party</td>\n",
       "      <td>0</td>\n",
       "      <td>2</td>\n",
       "      <td>3</td>\n",
       "      <td>8</td>\n",
       "      <td>SWE</td>\n",
       "    </tr>\n",
       "    <tr>\n",
       "      <th>32382</th>\n",
       "      <td>0</td>\n",
       "      <td>63.0</td>\n",
       "      <td>2017</td>\n",
       "      <td>August</td>\n",
       "      <td>35</td>\n",
       "      <td>31</td>\n",
       "      <td>0</td>\n",
       "      <td>3</td>\n",
       "      <td>3.0</td>\n",
       "      <td>0.0</td>\n",
       "      <td>...</td>\n",
       "      <td>0</td>\n",
       "      <td>D</td>\n",
       "      <td>0</td>\n",
       "      <td>0</td>\n",
       "      <td>Transient-Party</td>\n",
       "      <td>0</td>\n",
       "      <td>2</td>\n",
       "      <td>3</td>\n",
       "      <td>8</td>\n",
       "      <td>SWE</td>\n",
       "    </tr>\n",
       "    <tr>\n",
       "      <th>32399</th>\n",
       "      <td>0</td>\n",
       "      <td>175.0</td>\n",
       "      <td>2017</td>\n",
       "      <td>August</td>\n",
       "      <td>35</td>\n",
       "      <td>31</td>\n",
       "      <td>1</td>\n",
       "      <td>3</td>\n",
       "      <td>1.0</td>\n",
       "      <td>0.0</td>\n",
       "      <td>...</td>\n",
       "      <td>0</td>\n",
       "      <td>A</td>\n",
       "      <td>0</td>\n",
       "      <td>0</td>\n",
       "      <td>Transient</td>\n",
       "      <td>0</td>\n",
       "      <td>1</td>\n",
       "      <td>4</td>\n",
       "      <td>8</td>\n",
       "      <td>NLD</td>\n",
       "    </tr>\n",
       "  </tbody>\n",
       "</table>\n",
       "<p>29094 rows × 26 columns</p>\n",
       "</div>"
      ],
      "text/plain": [
       "       is_canceled  lead_time  arrival_date_year arrival_date_month  \\\n",
       "13               0       72.0               2015               July   \n",
       "85               1        5.0               2015               July   \n",
       "115              0        0.0               2015               July   \n",
       "127              1        1.0               2015               July   \n",
       "219              0       40.0               2015               July   \n",
       "...            ...        ...                ...                ...   \n",
       "32377            0      186.0               2017             August   \n",
       "32380            0       63.0               2017             August   \n",
       "32381            0       63.0               2017             August   \n",
       "32382            0       63.0               2017             August   \n",
       "32399            0      175.0               2017             August   \n",
       "\n",
       "       arrival_date_week_number  arrival_date_day_of_month  \\\n",
       "13                           27                          1   \n",
       "85                           28                          5   \n",
       "115                          28                          7   \n",
       "127                          28                          8   \n",
       "219                          29                         13   \n",
       "...                         ...                        ...   \n",
       "32377                        35                         31   \n",
       "32380                        35                         31   \n",
       "32381                        35                         31   \n",
       "32382                        35                         31   \n",
       "32399                        35                         31   \n",
       "\n",
       "       stays_in_weekend_nights  stays_in_week_nights  adults  children  ...  \\\n",
       "13                           2                     4     2.0       0.0  ...   \n",
       "85                           1                     0     2.0       0.0  ...   \n",
       "115                          0                     1     1.0       0.0  ...   \n",
       "127                          0                     1     2.0       0.0  ...   \n",
       "219                          1                     4     2.0       0.0  ...   \n",
       "...                        ...                   ...     ...       ...  ...   \n",
       "32377                        0                     3     2.0       0.0  ...   \n",
       "32380                        0                     3     3.0       0.0  ...   \n",
       "32381                        0                     3     3.0       0.0  ...   \n",
       "32382                        0                     3     3.0       0.0  ...   \n",
       "32399                        1                     3     1.0       0.0  ...   \n",
       "\n",
       "       previous_bookings_not_canceled reserved_room_type booking_changes  \\\n",
       "13                                  0                  A               1   \n",
       "85                                  0                  D               0   \n",
       "115                                 0                  A               0   \n",
       "127                                 0                  A               0   \n",
       "219                                 0                  D               0   \n",
       "...                               ...                ...             ...   \n",
       "32377                               0                  D               0   \n",
       "32380                               0                  D               0   \n",
       "32381                               0                  D               0   \n",
       "32382                               0                  D               0   \n",
       "32399                               0                  A               0   \n",
       "\n",
       "      days_in_waiting_list    customer_type  required_car_parking_spaces  \\\n",
       "13                       0        Transient                            0   \n",
       "85                       0        Transient                            0   \n",
       "115                      0        Transient                            0   \n",
       "127                      0        Transient                            0   \n",
       "219                      0        Transient                            0   \n",
       "...                    ...              ...                          ...   \n",
       "32377                    0        Transient                            0   \n",
       "32380                    0  Transient-Party                            0   \n",
       "32381                    0  Transient-Party                            0   \n",
       "32382                    0  Transient-Party                            0   \n",
       "32399                    0        Transient                            0   \n",
       "\n",
       "       total_of_special_requests total_nights  month_num  new_country  \n",
       "13                             1            6          7          PRT  \n",
       "85                             0            1          7          PRT  \n",
       "115                            3            1          7          GBR  \n",
       "127                            1            1          7          PRT  \n",
       "219                            2            5          7          ESP  \n",
       "...                          ...          ...        ...          ...  \n",
       "32377                          2            3          8          DEU  \n",
       "32380                          2            3          8          SWE  \n",
       "32381                          2            3          8          SWE  \n",
       "32382                          2            3          8          SWE  \n",
       "32399                          1            4          8          NLD  \n",
       "\n",
       "[29094 rows x 26 columns]"
      ]
     },
     "metadata": {},
     "output_type": "display_data"
    }
   ],
   "source": [
    "df_s = df.drop(['id'], axis=1)\n",
    "print(\"Количество дублей: \",df_s.duplicated().sum())\n",
    "print(\"Количество отказов от брони среди дублей: \",df_s[df_s.duplicated()].is_canceled.sum())\n",
    "display(df_s[df_s.duplicated()])"
   ]
  },
  {
   "cell_type": "markdown",
   "id": "04a7b5eb",
   "metadata": {},
   "source": [
    "Исходя, из имеющейся информации нельзя определить являются ли эти дубли ошибочными или это массовые бронирования по каким-то датам или мероприятиям. Если мы их выбросим, то снизим вес набора фичей и возможно приведем к неправильному обучению модели."
   ]
  },
  {
   "cell_type": "markdown",
   "id": "ec932fc0",
   "metadata": {},
   "source": [
    "**Попробуем воспользоваться функцией, которая по заданному столбцу выявляет частоту отказов от брони.\n",
    "Функция вычислят кол-во отказов по одному из признаков и нормирует на общее число заказаов с данным значением признака.**"
   ]
  },
  {
   "cell_type": "code",
   "execution_count": 47,
   "id": "a86166c5",
   "metadata": {},
   "outputs": [],
   "source": [
    "df_cancelled = df[df.is_canceled==1]"
   ]
  },
  {
   "cell_type": "code",
   "execution_count": 48,
   "id": "95dcfc23",
   "metadata": {},
   "outputs": [],
   "source": [
    "def ratio_head(key_column):\n",
    "    c_country = df_cancelled.groupby(key_column)['id'].agg('count')\n",
    "    d_country = df.groupby(key_column)['id'].agg('count')\n",
    "    df_c_country = pd.DataFrame(c_country).reset_index()\n",
    "    df_d_country = pd.DataFrame(d_country).reset_index()\n",
    "    df_c_country.columns=([key_column, 'canceled'])\n",
    "    df_d_country.columns=([key_column, 'all'])\n",
    "    result = df_d_country.merge(df_c_country,on=[key_column], how='left') \n",
    "    result.fillna(0)\n",
    "    result['ratio'] = result['canceled']/result['all']\n",
    "    return(result.sort_values('ratio', ascending = False).head(10))"
   ]
  },
  {
   "cell_type": "code",
   "execution_count": 49,
   "id": "d73359a8",
   "metadata": {},
   "outputs": [
    {
     "data": {
      "text/html": [
       "<div>\n",
       "<style scoped>\n",
       "    .dataframe tbody tr th:only-of-type {\n",
       "        vertical-align: middle;\n",
       "    }\n",
       "\n",
       "    .dataframe tbody tr th {\n",
       "        vertical-align: top;\n",
       "    }\n",
       "\n",
       "    .dataframe thead th {\n",
       "        text-align: right;\n",
       "    }\n",
       "</style>\n",
       "<table border=\"1\" class=\"dataframe\">\n",
       "  <thead>\n",
       "    <tr style=\"text-align: right;\">\n",
       "      <th></th>\n",
       "      <th>adults</th>\n",
       "      <th>all</th>\n",
       "      <th>canceled</th>\n",
       "      <th>ratio</th>\n",
       "    </tr>\n",
       "  </thead>\n",
       "  <tbody>\n",
       "    <tr>\n",
       "      <th>2</th>\n",
       "      <td>2.0</td>\n",
       "      <td>73217</td>\n",
       "      <td>29051</td>\n",
       "      <td>0.396779</td>\n",
       "    </tr>\n",
       "    <tr>\n",
       "      <th>3</th>\n",
       "      <td>3.0</td>\n",
       "      <td>4675</td>\n",
       "      <td>1607</td>\n",
       "      <td>0.343743</td>\n",
       "    </tr>\n",
       "    <tr>\n",
       "      <th>0</th>\n",
       "      <td>0.0</td>\n",
       "      <td>235</td>\n",
       "      <td>79</td>\n",
       "      <td>0.336170</td>\n",
       "    </tr>\n",
       "    <tr>\n",
       "      <th>1</th>\n",
       "      <td>1.0</td>\n",
       "      <td>19492</td>\n",
       "      <td>5892</td>\n",
       "      <td>0.302278</td>\n",
       "    </tr>\n",
       "    <tr>\n",
       "      <th>4</th>\n",
       "      <td>4.0</td>\n",
       "      <td>22</td>\n",
       "      <td>6</td>\n",
       "      <td>0.272727</td>\n",
       "    </tr>\n",
       "  </tbody>\n",
       "</table>\n",
       "</div>"
      ],
      "text/plain": [
       "   adults    all  canceled     ratio\n",
       "2     2.0  73217     29051  0.396779\n",
       "3     3.0   4675      1607  0.343743\n",
       "0     0.0    235        79  0.336170\n",
       "1     1.0  19492      5892  0.302278\n",
       "4     4.0     22         6  0.272727"
      ]
     },
     "metadata": {},
     "output_type": "display_data"
    }
   ],
   "source": [
    "res = ratio_head('adults')\n",
    "display(res)"
   ]
  },
  {
   "cell_type": "markdown",
   "id": "493a6bbe",
   "metadata": {},
   "source": [
    "Например, здесь видно, при брониронии номера на 2х взрослых в 40% была отмена"
   ]
  },
  {
   "cell_type": "code",
   "execution_count": 50,
   "id": "bb534e48",
   "metadata": {
    "scrolled": true
   },
   "outputs": [
    {
     "data": {
      "text/html": [
       "<div>\n",
       "<style scoped>\n",
       "    .dataframe tbody tr th:only-of-type {\n",
       "        vertical-align: middle;\n",
       "    }\n",
       "\n",
       "    .dataframe tbody tr th {\n",
       "        vertical-align: top;\n",
       "    }\n",
       "\n",
       "    .dataframe thead th {\n",
       "        text-align: right;\n",
       "    }\n",
       "</style>\n",
       "<table border=\"1\" class=\"dataframe\">\n",
       "  <thead>\n",
       "    <tr style=\"text-align: right;\">\n",
       "      <th></th>\n",
       "      <th>country</th>\n",
       "      <th>all</th>\n",
       "      <th>canceled</th>\n",
       "      <th>ratio</th>\n",
       "    </tr>\n",
       "  </thead>\n",
       "  <tbody>\n",
       "    <tr>\n",
       "      <th>67</th>\n",
       "      <td>HND</td>\n",
       "      <td>1</td>\n",
       "      <td>1.0</td>\n",
       "      <td>1.0</td>\n",
       "    </tr>\n",
       "    <tr>\n",
       "      <th>115</th>\n",
       "      <td>MYT</td>\n",
       "      <td>1</td>\n",
       "      <td>1.0</td>\n",
       "      <td>1.0</td>\n",
       "    </tr>\n",
       "    <tr>\n",
       "      <th>80</th>\n",
       "      <td>JEY</td>\n",
       "      <td>6</td>\n",
       "      <td>6.0</td>\n",
       "      <td>1.0</td>\n",
       "    </tr>\n",
       "    <tr>\n",
       "      <th>52</th>\n",
       "      <td>FJI</td>\n",
       "      <td>1</td>\n",
       "      <td>1.0</td>\n",
       "      <td>1.0</td>\n",
       "    </tr>\n",
       "    <tr>\n",
       "      <th>71</th>\n",
       "      <td>IMN</td>\n",
       "      <td>2</td>\n",
       "      <td>2.0</td>\n",
       "      <td>1.0</td>\n",
       "    </tr>\n",
       "    <tr>\n",
       "      <th>119</th>\n",
       "      <td>NIC</td>\n",
       "      <td>1</td>\n",
       "      <td>1.0</td>\n",
       "      <td>1.0</td>\n",
       "    </tr>\n",
       "    <tr>\n",
       "      <th>164</th>\n",
       "      <td>UMI</td>\n",
       "      <td>1</td>\n",
       "      <td>1.0</td>\n",
       "      <td>1.0</td>\n",
       "    </tr>\n",
       "    <tr>\n",
       "      <th>15</th>\n",
       "      <td>BEN</td>\n",
       "      <td>3</td>\n",
       "      <td>3.0</td>\n",
       "      <td>1.0</td>\n",
       "    </tr>\n",
       "    <tr>\n",
       "      <th>58</th>\n",
       "      <td>GGY</td>\n",
       "      <td>3</td>\n",
       "      <td>3.0</td>\n",
       "      <td>1.0</td>\n",
       "    </tr>\n",
       "    <tr>\n",
       "      <th>61</th>\n",
       "      <td>GLP</td>\n",
       "      <td>2</td>\n",
       "      <td>2.0</td>\n",
       "      <td>1.0</td>\n",
       "    </tr>\n",
       "  </tbody>\n",
       "</table>\n",
       "</div>"
      ],
      "text/plain": [
       "    country  all  canceled  ratio\n",
       "67      HND    1       1.0    1.0\n",
       "115     MYT    1       1.0    1.0\n",
       "80      JEY    6       6.0    1.0\n",
       "52      FJI    1       1.0    1.0\n",
       "71      IMN    2       2.0    1.0\n",
       "119     NIC    1       1.0    1.0\n",
       "164     UMI    1       1.0    1.0\n",
       "15      BEN    3       3.0    1.0\n",
       "58      GGY    3       3.0    1.0\n",
       "61      GLP    2       2.0    1.0"
      ]
     },
     "metadata": {},
     "output_type": "display_data"
    }
   ],
   "source": [
    "res = ratio_head('country')\n",
    "display(res)"
   ]
  },
  {
   "cell_type": "markdown",
   "id": "0c69adf8",
   "metadata": {},
   "source": [
    "Редкие страны с редкими бронированиями - также в зоне риска"
   ]
  },
  {
   "cell_type": "code",
   "execution_count": 51,
   "id": "6393c0bd",
   "metadata": {
    "scrolled": true
   },
   "outputs": [
    {
     "data": {
      "text/html": [
       "<div>\n",
       "<style scoped>\n",
       "    .dataframe tbody tr th:only-of-type {\n",
       "        vertical-align: middle;\n",
       "    }\n",
       "\n",
       "    .dataframe tbody tr th {\n",
       "        vertical-align: top;\n",
       "    }\n",
       "\n",
       "    .dataframe thead th {\n",
       "        text-align: right;\n",
       "    }\n",
       "</style>\n",
       "<table border=\"1\" class=\"dataframe\">\n",
       "  <thead>\n",
       "    <tr style=\"text-align: right;\">\n",
       "      <th></th>\n",
       "      <th>total_nights</th>\n",
       "      <th>all</th>\n",
       "      <th>canceled</th>\n",
       "      <th>ratio</th>\n",
       "    </tr>\n",
       "  </thead>\n",
       "  <tbody>\n",
       "    <tr>\n",
       "      <th>1</th>\n",
       "      <td>2</td>\n",
       "      <td>23555</td>\n",
       "      <td>10442</td>\n",
       "      <td>0.443303</td>\n",
       "    </tr>\n",
       "    <tr>\n",
       "      <th>2</th>\n",
       "      <td>3</td>\n",
       "      <td>24047</td>\n",
       "      <td>10129</td>\n",
       "      <td>0.421217</td>\n",
       "    </tr>\n",
       "    <tr>\n",
       "      <th>5</th>\n",
       "      <td>6</td>\n",
       "      <td>3017</td>\n",
       "      <td>1207</td>\n",
       "      <td>0.400066</td>\n",
       "    </tr>\n",
       "    <tr>\n",
       "      <th>8</th>\n",
       "      <td>9</td>\n",
       "      <td>214</td>\n",
       "      <td>79</td>\n",
       "      <td>0.369159</td>\n",
       "    </tr>\n",
       "    <tr>\n",
       "      <th>3</th>\n",
       "      <td>4</td>\n",
       "      <td>15457</td>\n",
       "      <td>5648</td>\n",
       "      <td>0.365401</td>\n",
       "    </tr>\n",
       "    <tr>\n",
       "      <th>7</th>\n",
       "      <td>8</td>\n",
       "      <td>757</td>\n",
       "      <td>273</td>\n",
       "      <td>0.360634</td>\n",
       "    </tr>\n",
       "    <tr>\n",
       "      <th>4</th>\n",
       "      <td>5</td>\n",
       "      <td>6697</td>\n",
       "      <td>2265</td>\n",
       "      <td>0.338211</td>\n",
       "    </tr>\n",
       "    <tr>\n",
       "      <th>6</th>\n",
       "      <td>7</td>\n",
       "      <td>6137</td>\n",
       "      <td>2063</td>\n",
       "      <td>0.336158</td>\n",
       "    </tr>\n",
       "    <tr>\n",
       "      <th>9</th>\n",
       "      <td>10</td>\n",
       "      <td>173</td>\n",
       "      <td>57</td>\n",
       "      <td>0.329480</td>\n",
       "    </tr>\n",
       "    <tr>\n",
       "      <th>0</th>\n",
       "      <td>1</td>\n",
       "      <td>17587</td>\n",
       "      <td>4472</td>\n",
       "      <td>0.254279</td>\n",
       "    </tr>\n",
       "  </tbody>\n",
       "</table>\n",
       "</div>"
      ],
      "text/plain": [
       "   total_nights    all  canceled     ratio\n",
       "1             2  23555     10442  0.443303\n",
       "2             3  24047     10129  0.421217\n",
       "5             6   3017      1207  0.400066\n",
       "8             9    214        79  0.369159\n",
       "3             4  15457      5648  0.365401\n",
       "7             8    757       273  0.360634\n",
       "4             5   6697      2265  0.338211\n",
       "6             7   6137      2063  0.336158\n",
       "9            10    173        57  0.329480\n",
       "0             1  17587      4472  0.254279"
      ]
     },
     "metadata": {},
     "output_type": "display_data"
    }
   ],
   "source": [
    "res = ratio_head('total_nights')\n",
    "display(res)"
   ]
  },
  {
   "cell_type": "code",
   "execution_count": 52,
   "id": "6201ec56",
   "metadata": {
    "scrolled": true
   },
   "outputs": [
    {
     "data": {
      "text/html": [
       "<div>\n",
       "<style scoped>\n",
       "    .dataframe tbody tr th:only-of-type {\n",
       "        vertical-align: middle;\n",
       "    }\n",
       "\n",
       "    .dataframe tbody tr th {\n",
       "        vertical-align: top;\n",
       "    }\n",
       "\n",
       "    .dataframe thead th {\n",
       "        text-align: right;\n",
       "    }\n",
       "</style>\n",
       "<table border=\"1\" class=\"dataframe\">\n",
       "  <thead>\n",
       "    <tr style=\"text-align: right;\">\n",
       "      <th></th>\n",
       "      <th>days_in_waiting_list</th>\n",
       "      <th>all</th>\n",
       "      <th>canceled</th>\n",
       "      <th>ratio</th>\n",
       "    </tr>\n",
       "  </thead>\n",
       "  <tbody>\n",
       "    <tr>\n",
       "      <th>51</th>\n",
       "      <td>55</td>\n",
       "      <td>10</td>\n",
       "      <td>10.0</td>\n",
       "      <td>1.0</td>\n",
       "    </tr>\n",
       "    <tr>\n",
       "      <th>53</th>\n",
       "      <td>57</td>\n",
       "      <td>25</td>\n",
       "      <td>25.0</td>\n",
       "      <td>1.0</td>\n",
       "    </tr>\n",
       "    <tr>\n",
       "      <th>29</th>\n",
       "      <td>30</td>\n",
       "      <td>2</td>\n",
       "      <td>2.0</td>\n",
       "      <td>1.0</td>\n",
       "    </tr>\n",
       "    <tr>\n",
       "      <th>31</th>\n",
       "      <td>32</td>\n",
       "      <td>19</td>\n",
       "      <td>19.0</td>\n",
       "      <td>1.0</td>\n",
       "    </tr>\n",
       "    <tr>\n",
       "      <th>107</th>\n",
       "      <td>175</td>\n",
       "      <td>1</td>\n",
       "      <td>1.0</td>\n",
       "      <td>1.0</td>\n",
       "    </tr>\n",
       "    <tr>\n",
       "      <th>37</th>\n",
       "      <td>39</td>\n",
       "      <td>186</td>\n",
       "      <td>186.0</td>\n",
       "      <td>1.0</td>\n",
       "    </tr>\n",
       "    <tr>\n",
       "      <th>39</th>\n",
       "      <td>41</td>\n",
       "      <td>63</td>\n",
       "      <td>63.0</td>\n",
       "      <td>1.0</td>\n",
       "    </tr>\n",
       "    <tr>\n",
       "      <th>43</th>\n",
       "      <td>45</td>\n",
       "      <td>65</td>\n",
       "      <td>65.0</td>\n",
       "      <td>1.0</td>\n",
       "    </tr>\n",
       "    <tr>\n",
       "      <th>104</th>\n",
       "      <td>165</td>\n",
       "      <td>1</td>\n",
       "      <td>1.0</td>\n",
       "      <td>1.0</td>\n",
       "    </tr>\n",
       "    <tr>\n",
       "      <th>102</th>\n",
       "      <td>160</td>\n",
       "      <td>25</td>\n",
       "      <td>25.0</td>\n",
       "      <td>1.0</td>\n",
       "    </tr>\n",
       "  </tbody>\n",
       "</table>\n",
       "</div>"
      ],
      "text/plain": [
       "     days_in_waiting_list  all  canceled  ratio\n",
       "51                     55   10      10.0    1.0\n",
       "53                     57   25      25.0    1.0\n",
       "29                     30    2       2.0    1.0\n",
       "31                     32   19      19.0    1.0\n",
       "107                   175    1       1.0    1.0\n",
       "37                     39  186     186.0    1.0\n",
       "39                     41   63      63.0    1.0\n",
       "43                     45   65      65.0    1.0\n",
       "104                   165    1       1.0    1.0\n",
       "102                   160   25      25.0    1.0"
      ]
     },
     "metadata": {},
     "output_type": "display_data"
    }
   ],
   "source": [
    "res = ratio_head('days_in_waiting_list')\n",
    "display(res)"
   ]
  },
  {
   "cell_type": "markdown",
   "id": "2efa544f",
   "metadata": {},
   "source": [
    "Вот это больше выглядит как тестовые данные. Бронь, подтверждение которой ждали 30-60 дней отменена. Чтож - логично"
   ]
  },
  {
   "cell_type": "code",
   "execution_count": 53,
   "id": "86ca33ed",
   "metadata": {
    "scrolled": true
   },
   "outputs": [
    {
     "data": {
      "text/html": [
       "<div>\n",
       "<style scoped>\n",
       "    .dataframe tbody tr th:only-of-type {\n",
       "        vertical-align: middle;\n",
       "    }\n",
       "\n",
       "    .dataframe tbody tr th {\n",
       "        vertical-align: top;\n",
       "    }\n",
       "\n",
       "    .dataframe thead th {\n",
       "        text-align: right;\n",
       "    }\n",
       "</style>\n",
       "<table border=\"1\" class=\"dataframe\">\n",
       "  <thead>\n",
       "    <tr style=\"text-align: right;\">\n",
       "      <th></th>\n",
       "      <th>lead_time</th>\n",
       "      <th>all</th>\n",
       "      <th>canceled</th>\n",
       "      <th>ratio</th>\n",
       "    </tr>\n",
       "  </thead>\n",
       "  <tbody>\n",
       "    <tr>\n",
       "      <th>371</th>\n",
       "      <td>374.0</td>\n",
       "      <td>20</td>\n",
       "      <td>20.0</td>\n",
       "      <td>1.000000</td>\n",
       "    </tr>\n",
       "    <tr>\n",
       "      <th>369</th>\n",
       "      <td>372.0</td>\n",
       "      <td>44</td>\n",
       "      <td>44.0</td>\n",
       "      <td>1.000000</td>\n",
       "    </tr>\n",
       "    <tr>\n",
       "      <th>357</th>\n",
       "      <td>357.0</td>\n",
       "      <td>17</td>\n",
       "      <td>17.0</td>\n",
       "      <td>1.000000</td>\n",
       "    </tr>\n",
       "    <tr>\n",
       "      <th>366</th>\n",
       "      <td>366.0</td>\n",
       "      <td>1</td>\n",
       "      <td>1.0</td>\n",
       "      <td>1.000000</td>\n",
       "    </tr>\n",
       "    <tr>\n",
       "      <th>358</th>\n",
       "      <td>358.0</td>\n",
       "      <td>66</td>\n",
       "      <td>66.0</td>\n",
       "      <td>1.000000</td>\n",
       "    </tr>\n",
       "    <tr>\n",
       "      <th>344</th>\n",
       "      <td>344.0</td>\n",
       "      <td>61</td>\n",
       "      <td>59.0</td>\n",
       "      <td>0.967213</td>\n",
       "    </tr>\n",
       "    <tr>\n",
       "      <th>370</th>\n",
       "      <td>373.0</td>\n",
       "      <td>28</td>\n",
       "      <td>27.0</td>\n",
       "      <td>0.964286</td>\n",
       "    </tr>\n",
       "    <tr>\n",
       "      <th>350</th>\n",
       "      <td>350.0</td>\n",
       "      <td>92</td>\n",
       "      <td>87.0</td>\n",
       "      <td>0.945652</td>\n",
       "    </tr>\n",
       "    <tr>\n",
       "      <th>341</th>\n",
       "      <td>341.0</td>\n",
       "      <td>36</td>\n",
       "      <td>34.0</td>\n",
       "      <td>0.944444</td>\n",
       "    </tr>\n",
       "    <tr>\n",
       "      <th>356</th>\n",
       "      <td>356.0</td>\n",
       "      <td>29</td>\n",
       "      <td>27.0</td>\n",
       "      <td>0.931034</td>\n",
       "    </tr>\n",
       "  </tbody>\n",
       "</table>\n",
       "</div>"
      ],
      "text/plain": [
       "     lead_time  all  canceled     ratio\n",
       "371      374.0   20      20.0  1.000000\n",
       "369      372.0   44      44.0  1.000000\n",
       "357      357.0   17      17.0  1.000000\n",
       "366      366.0    1       1.0  1.000000\n",
       "358      358.0   66      66.0  1.000000\n",
       "344      344.0   61      59.0  0.967213\n",
       "370      373.0   28      27.0  0.964286\n",
       "350      350.0   92      87.0  0.945652\n",
       "341      341.0   36      34.0  0.944444\n",
       "356      356.0   29      27.0  0.931034"
      ]
     },
     "metadata": {},
     "output_type": "display_data"
    }
   ],
   "source": [
    "res = ratio_head('lead_time')\n",
    "display(res)"
   ]
  },
  {
   "cell_type": "markdown",
   "id": "b0ac6ac8",
   "metadata": {},
   "source": [
    "Также и здесь бронь за год - почти всегда отменяется"
   ]
  },
  {
   "cell_type": "code",
   "execution_count": 54,
   "id": "dbd448b7",
   "metadata": {
    "scrolled": true
   },
   "outputs": [
    {
     "data": {
      "text/html": [
       "<div>\n",
       "<style scoped>\n",
       "    .dataframe tbody tr th:only-of-type {\n",
       "        vertical-align: middle;\n",
       "    }\n",
       "\n",
       "    .dataframe tbody tr th {\n",
       "        vertical-align: top;\n",
       "    }\n",
       "\n",
       "    .dataframe thead th {\n",
       "        text-align: right;\n",
       "    }\n",
       "</style>\n",
       "<table border=\"1\" class=\"dataframe\">\n",
       "  <thead>\n",
       "    <tr style=\"text-align: right;\">\n",
       "      <th></th>\n",
       "      <th>booking_changes</th>\n",
       "      <th>all</th>\n",
       "      <th>canceled</th>\n",
       "      <th>ratio</th>\n",
       "    </tr>\n",
       "  </thead>\n",
       "  <tbody>\n",
       "    <tr>\n",
       "      <th>15</th>\n",
       "      <td>16</td>\n",
       "      <td>2</td>\n",
       "      <td>1.0</td>\n",
       "      <td>0.500000</td>\n",
       "    </tr>\n",
       "    <tr>\n",
       "      <th>6</th>\n",
       "      <td>6</td>\n",
       "      <td>35</td>\n",
       "      <td>15.0</td>\n",
       "      <td>0.428571</td>\n",
       "    </tr>\n",
       "    <tr>\n",
       "      <th>0</th>\n",
       "      <td>0</td>\n",
       "      <td>83940</td>\n",
       "      <td>34510.0</td>\n",
       "      <td>0.411127</td>\n",
       "    </tr>\n",
       "    <tr>\n",
       "      <th>10</th>\n",
       "      <td>10</td>\n",
       "      <td>3</td>\n",
       "      <td>1.0</td>\n",
       "      <td>0.333333</td>\n",
       "    </tr>\n",
       "    <tr>\n",
       "      <th>13</th>\n",
       "      <td>14</td>\n",
       "      <td>3</td>\n",
       "      <td>1.0</td>\n",
       "      <td>0.333333</td>\n",
       "    </tr>\n",
       "    <tr>\n",
       "      <th>8</th>\n",
       "      <td>8</td>\n",
       "      <td>8</td>\n",
       "      <td>2.0</td>\n",
       "      <td>0.250000</td>\n",
       "    </tr>\n",
       "    <tr>\n",
       "      <th>2</th>\n",
       "      <td>2</td>\n",
       "      <td>2914</td>\n",
       "      <td>618.0</td>\n",
       "      <td>0.212080</td>\n",
       "    </tr>\n",
       "    <tr>\n",
       "      <th>5</th>\n",
       "      <td>5</td>\n",
       "      <td>71</td>\n",
       "      <td>15.0</td>\n",
       "      <td>0.211268</td>\n",
       "    </tr>\n",
       "    <tr>\n",
       "      <th>4</th>\n",
       "      <td>4</td>\n",
       "      <td>266</td>\n",
       "      <td>54.0</td>\n",
       "      <td>0.203008</td>\n",
       "    </tr>\n",
       "    <tr>\n",
       "      <th>9</th>\n",
       "      <td>9</td>\n",
       "      <td>5</td>\n",
       "      <td>1.0</td>\n",
       "      <td>0.200000</td>\n",
       "    </tr>\n",
       "  </tbody>\n",
       "</table>\n",
       "</div>"
      ],
      "text/plain": [
       "    booking_changes    all  canceled     ratio\n",
       "15               16      2       1.0  0.500000\n",
       "6                 6     35      15.0  0.428571\n",
       "0                 0  83940   34510.0  0.411127\n",
       "10               10      3       1.0  0.333333\n",
       "13               14      3       1.0  0.333333\n",
       "8                 8      8       2.0  0.250000\n",
       "2                 2   2914     618.0  0.212080\n",
       "5                 5     71      15.0  0.211268\n",
       "4                 4    266      54.0  0.203008\n",
       "9                 9      5       1.0  0.200000"
      ]
     },
     "metadata": {},
     "output_type": "display_data"
    }
   ],
   "source": [
    "res = ratio_head('booking_changes')\n",
    "display(res)"
   ]
  },
  {
   "cell_type": "markdown",
   "id": "dd3368ed",
   "metadata": {},
   "source": [
    "А большое число изменений в брони - не сильно показательно"
   ]
  },
  {
   "cell_type": "code",
   "execution_count": 55,
   "id": "4a315fa2",
   "metadata": {
    "scrolled": false
   },
   "outputs": [
    {
     "data": {
      "text/html": [
       "<div>\n",
       "<style scoped>\n",
       "    .dataframe tbody tr th:only-of-type {\n",
       "        vertical-align: middle;\n",
       "    }\n",
       "\n",
       "    .dataframe tbody tr th {\n",
       "        vertical-align: top;\n",
       "    }\n",
       "\n",
       "    .dataframe thead th {\n",
       "        text-align: right;\n",
       "    }\n",
       "</style>\n",
       "<table border=\"1\" class=\"dataframe\">\n",
       "  <thead>\n",
       "    <tr style=\"text-align: right;\">\n",
       "      <th></th>\n",
       "      <th>previous_cancellations</th>\n",
       "      <th>all</th>\n",
       "      <th>canceled</th>\n",
       "      <th>ratio</th>\n",
       "    </tr>\n",
       "  </thead>\n",
       "  <tbody>\n",
       "    <tr>\n",
       "      <th>9</th>\n",
       "      <td>14</td>\n",
       "      <td>11</td>\n",
       "      <td>11</td>\n",
       "      <td>1.000000</td>\n",
       "    </tr>\n",
       "    <tr>\n",
       "      <th>10</th>\n",
       "      <td>19</td>\n",
       "      <td>17</td>\n",
       "      <td>17</td>\n",
       "      <td>1.000000</td>\n",
       "    </tr>\n",
       "    <tr>\n",
       "      <th>11</th>\n",
       "      <td>21</td>\n",
       "      <td>1</td>\n",
       "      <td>1</td>\n",
       "      <td>1.000000</td>\n",
       "    </tr>\n",
       "    <tr>\n",
       "      <th>12</th>\n",
       "      <td>24</td>\n",
       "      <td>28</td>\n",
       "      <td>28</td>\n",
       "      <td>1.000000</td>\n",
       "    </tr>\n",
       "    <tr>\n",
       "      <th>13</th>\n",
       "      <td>25</td>\n",
       "      <td>19</td>\n",
       "      <td>19</td>\n",
       "      <td>1.000000</td>\n",
       "    </tr>\n",
       "    <tr>\n",
       "      <th>14</th>\n",
       "      <td>26</td>\n",
       "      <td>18</td>\n",
       "      <td>18</td>\n",
       "      <td>1.000000</td>\n",
       "    </tr>\n",
       "    <tr>\n",
       "      <th>1</th>\n",
       "      <td>1</td>\n",
       "      <td>5532</td>\n",
       "      <td>5258</td>\n",
       "      <td>0.950470</td>\n",
       "    </tr>\n",
       "    <tr>\n",
       "      <th>8</th>\n",
       "      <td>13</td>\n",
       "      <td>12</td>\n",
       "      <td>11</td>\n",
       "      <td>0.916667</td>\n",
       "    </tr>\n",
       "    <tr>\n",
       "      <th>0</th>\n",
       "      <td>0</td>\n",
       "      <td>91777</td>\n",
       "      <td>31204</td>\n",
       "      <td>0.339998</td>\n",
       "    </tr>\n",
       "    <tr>\n",
       "      <th>2</th>\n",
       "      <td>2</td>\n",
       "      <td>83</td>\n",
       "      <td>27</td>\n",
       "      <td>0.325301</td>\n",
       "    </tr>\n",
       "  </tbody>\n",
       "</table>\n",
       "</div>"
      ],
      "text/plain": [
       "    previous_cancellations    all  canceled     ratio\n",
       "9                       14     11        11  1.000000\n",
       "10                      19     17        17  1.000000\n",
       "11                      21      1         1  1.000000\n",
       "12                      24     28        28  1.000000\n",
       "13                      25     19        19  1.000000\n",
       "14                      26     18        18  1.000000\n",
       "1                        1   5532      5258  0.950470\n",
       "8                       13     12        11  0.916667\n",
       "0                        0  91777     31204  0.339998\n",
       "2                        2     83        27  0.325301"
      ]
     },
     "metadata": {},
     "output_type": "display_data"
    }
   ],
   "source": [
    "res = ratio_head('previous_cancellations')\n",
    "display(res)"
   ]
  },
  {
   "cell_type": "markdown",
   "id": "f63b44da",
   "metadata": {},
   "source": [
    "**Итак, исходя из проведенного исследования данных делаем вывод, что данные для обучения модели нужно обработать, а именно: удалить колонки arrival_date_year, arrival_date_month, total_nights. Строки с previous_bookings_not_canceled больше 10, previous_cancellations больше 5, days_in_waiting_list больше 150 - убрать, babies больше 3.**"
   ]
  },
  {
   "cell_type": "markdown",
   "id": "905c6211",
   "metadata": {},
   "source": [
    "<div class=\"alert alert-block alert-danger\">\n",
    "<h2> Комментарий ревьюера <a class=\"tocSkip\"></h2>\n",
    "\n",
    "    \n",
    "<b>На доработку🤔:</b>\n",
    "    \n",
    "Стоит предобработать дынные: аномалии, некорректные значения, неявные дубликаты, явные дубликаты, тип данных.\n",
    "    \n",
    "Стоит построить графики хотя бы для части переменных."
   ]
  },
  {
   "cell_type": "markdown",
   "id": "34a68b9d",
   "metadata": {},
   "source": [
    "\n",
    "        \n",
    "<div class=\"alert alert-warning\">\n",
    "    <h2> Комментарий ревьюера <a class=\"tocSkip\"> </h2>\n",
    "    \n",
    "<b>Некоторые замечания и рекомендации💡:</b> \n",
    "        \n",
    "Для графиков стоит написать текстовую интерпретацию.\n",
    "        \n",
    "Также можно исследовать данные на корреляционную зависимость.\n",
    "        \n",
    "Можно провести более подробный EDA, оценить вручную какие категории клиентов склонны к отказу от брони."
   ]
  },
  {
   "cell_type": "markdown",
   "id": "bf821e4d",
   "metadata": {},
   "source": [
    "### Шаг 3. Вычислите бизнес-метрику"
   ]
  },
  {
   "cell_type": "markdown",
   "id": "d705667e",
   "metadata": {},
   "source": [
    "**оценим экономику отеля, исходя из неоднозначных данных в описании задания. Для этого сформируем функцию расчета дохода и убытков. Ведем учет сезоности, категорийности жилья, уборки через день. Вычислим экономику без внедрения и с внедрением \"идеальной\" - 100% системы предсказания отказов от брони.**"
   ]
  },
  {
   "cell_type": "code",
   "execution_count": 56,
   "id": "b90a829b",
   "metadata": {},
   "outputs": [],
   "source": [
    "def get_money(df):\n",
    "    df_t = pd.DataFrame()\n",
    "    \n",
    "    def season_ratio(month):\n",
    "        res = 1\n",
    "        spring = ['March', 'April', 'May']\n",
    "        summer = ['June', 'July', 'August']\n",
    "        autumn = ['September' , 'October', 'November']\n",
    "        winter = ['December', 'January', 'February']\n",
    "        if month in spring:\n",
    "            res = 1.2\n",
    "        elif month in summer:\n",
    "            res = 1.4\n",
    "        elif month in autumn:\n",
    "            res = 1.2\n",
    "        else:\n",
    "            res =1.\n",
    "        return(res)\n",
    "\n",
    "    def get_base_price(room_t):\n",
    "        res = -1\n",
    "        if \"A\" in room_t:\n",
    "            res = 1000.\n",
    "        elif  \"B\" in room_t:\n",
    "            res = 800.\n",
    "        elif \"C\"  in room_t:\n",
    "            res = 600.\n",
    "        elif \"D\"  in room_t:\n",
    "            res = 550.\n",
    "        elif \"E\"  in room_t:\n",
    "            res = 600.\n",
    "        elif \"F\"  in room_t:\n",
    "            res = 450.\n",
    "        elif \"G\"  in room_t:\n",
    "            res = 350.\n",
    "        return res\n",
    "    def get_s_price(room_t):\n",
    "        res = -1\n",
    "        if \"A\" in room_t:\n",
    "            res = 400.\n",
    "        elif  \"B\" in room_t:\n",
    "            res = 350.\n",
    "        elif \"C\"  in room_t:\n",
    "            res = 350.\n",
    "        elif \"D\"  in room_t:\n",
    "            res = 150.\n",
    "        elif \"E\"  in room_t:\n",
    "            res = 150.\n",
    "        elif \"F\"  in room_t:\n",
    "            res = 150.\n",
    "        elif \"G\"  in room_t:\n",
    "            res = 150.\n",
    "        return res\n",
    "    def get_profit(row):\n",
    "        res=0\n",
    "        if row.is_canceled == 0:\n",
    "            res = row.base_price * row.total_nights * row.s_ratio - row.s_num*row.s_price\n",
    "        else:\n",
    "            res = -(row.base_price*row.s_ratio  + row.s_price)\n",
    "        return(res)\n",
    "    def get_profit_ml(row):\n",
    "        res=0\n",
    "        if row.is_canceled == 0:\n",
    "            res = row.base_price * row.total_nights * row.s_ratio - row.s_num*row.s_price\n",
    "        else:\n",
    "            res =  -0.2* (row.base_price*row.s_ratio  + row.s_price) #0.8 внесли, то есть теряем 0.2\n",
    "        return(res)\n",
    "###\n",
    "    df_t['s_ratio'] = df.arrival_date_month.apply(season_ratio)\n",
    "    df_t[\"s_num\"] = np.ceil(df.total_nights/2)\n",
    "    df_t[\"total_nights\"] = df.total_nights\n",
    "    df_t['is_canceled'] = df.is_canceled\n",
    "    df_t['base_price']= df.reserved_room_type.apply(get_base_price)\n",
    "    df_t['s_price'] = df.reserved_room_type.apply(get_s_price)\n",
    "    df_t['profit'] = df_t.apply(get_profit, axis = 1)\n",
    "    df_t['profit_ml'] = df_t.apply(get_profit_ml, axis = 1)\n",
    "    return df_t.profit[df_t.profit>0].sum(),df_t.profit[df_t.profit<0].sum(),df_t.profit_ml[df_t.profit_ml<0].sum()\n"
   ]
  },
  {
   "cell_type": "code",
   "execution_count": 57,
   "id": "a2627835",
   "metadata": {},
   "outputs": [
    {
     "name": "stdout",
     "output_type": "stream",
     "text": [
      "Доход: 108535740.0  Потери без модели: -35729650.0  Потери c моделью: -7145930.0\n"
     ]
    }
   ],
   "source": [
    "#Для данных из файла для обучения:\n",
    "money_plus, money_minus, money_ml_minus = get_money(df_1)\n",
    "print(\"Доход:\",money_plus,\" Потери без модели:\", money_minus, \" Потери c моделью:\", money_ml_minus)"
   ]
  },
  {
   "cell_type": "markdown",
   "id": "ee711088",
   "metadata": {},
   "source": [
    "**потери от отказанных депозитов - 35.7 млн у.е. Если бы была  модель для внесения депозитов потери были бы 7.1 млн  у.е.**"
   ]
  },
  {
   "cell_type": "code",
   "execution_count": 58,
   "id": "c90a2887",
   "metadata": {},
   "outputs": [
    {
     "name": "stdout",
     "output_type": "stream",
     "text": [
      "Доход: 53807710.0  Потери без модели: -18110600.0  Потери c моделью: -3622120.0\n"
     ]
    }
   ],
   "source": [
    "#Для данных из файла для тестирования:\n",
    "money_plus, money_minus, money_ml_minus = get_money(df_2)\n",
    "print(\"Доход:\",money_plus,\" Потери без модели:\", money_minus, \" Потери c моделью:\", money_ml_minus)"
   ]
  },
  {
   "cell_type": "markdown",
   "id": "f9a5be7a",
   "metadata": {},
   "source": [
    "**Для тестовых данных также видим значительное снижение потерь, гораздо превышающее заложенную в бюджет \"стоимость проектирования\" системы предсказания отказов от брони. Таким образом предложение об поиске метода предсказания отказов от брони - коммерчески интересно.**"
   ]
  },
  {
   "cell_type": "markdown",
   "id": "0e694b08",
   "metadata": {},
   "source": [
    "<div class=\"alert alert-success\">\n",
    "<h2> Комментарий ревьюера <a class=\"tocSkip\"> </h2>\n",
    "\n",
    "<b>Все отлично!👍</b> \n",
    "    \n",
    "Отлично, что есть расчет прибыли без внедрения ML."
   ]
  },
  {
   "cell_type": "markdown",
   "id": "4cefce9c",
   "metadata": {},
   "source": [
    "### Шаг 4. Разработка модели ML"
   ]
  },
  {
   "cell_type": "markdown",
   "id": "a866e159",
   "metadata": {},
   "source": [
    "**Сперва подготовим данные для обучения модели - проведем кодирование категориальных данных и масштабирование численных**"
   ]
  },
  {
   "cell_type": "markdown",
   "id": "078fdc13",
   "metadata": {},
   "source": [
    "Рекомендация использовать ordinal encoding для стран звучит неожиданно(тк странно что одна страна будет \"больше\" другой\"), но сделать его можно:"
   ]
  },
  {
   "cell_type": "code",
   "execution_count": 59,
   "id": "b89ec2e5",
   "metadata": {},
   "outputs": [],
   "source": [
    "oenc = OrdinalEncoder()\n",
    "a=oenc.fit_transform(df[['new_country']])\n",
    "df_1['country_c'] = oenc.transform(df_1[['new_country']])\n",
    "df_2['country_c'] = oenc.transform(df_2[['new_country']])"
   ]
  },
  {
   "cell_type": "code",
   "execution_count": 60,
   "id": "b8c0c038",
   "metadata": {
    "collapsed": true
   },
   "outputs": [
    {
     "name": "stderr",
     "output_type": "stream",
     "text": [
      "/usr/local/lib/python3.10/site-packages/sklearn/utils/deprecation.py:87: FutureWarning: Function get_feature_names is deprecated; get_feature_names is deprecated in 1.0 and will be removed in 1.2. Please use get_feature_names_out instead.\n",
      "  warnings.warn(msg, category=FutureWarning)\n",
      "/usr/local/lib/python3.10/site-packages/sklearn/utils/deprecation.py:87: FutureWarning: Function get_feature_names is deprecated; get_feature_names is deprecated in 1.0 and will be removed in 1.2. Please use get_feature_names_out instead.\n",
      "  warnings.warn(msg, category=FutureWarning)\n"
     ]
    }
   ],
   "source": [
    "ohe_columns = ['meal','distribution_channel', 'reserved_room_type','customer_type']\n",
    "ohe = OneHotEncoder(sparse=False, drop = 'first')\n",
    "encoded_array = ohe.fit_transform(df_1.loc[:,ohe_columns])\n",
    "df_1_ohe = pd.DataFrame(encoded_array,columns=ohe.get_feature_names() )\n",
    "encoded_array = ohe.fit_transform(df_2.loc[:,ohe_columns])\n",
    "df_2_ohe = pd.DataFrame(encoded_array,columns=ohe.get_feature_names() )"
   ]
  },
  {
   "cell_type": "markdown",
   "id": "a5878ee8",
   "metadata": {},
   "source": [
    "<div class=\"alert alert-warning\">\n",
    "    <h2> Комментарий ревьюера <a class=\"tocSkip\"> </h2>\n",
    "    \n",
    "<b>Некоторые замечания и рекомендации💡:</b> \n",
    "        \n",
    "В теории тренажера в данный момент предлагается использовать get_dummies, однако, это впоследствии приводит к сложностям поэтому стоит использовать класс <a href=\"https://scikit-learn.org/stable/modules/generated/sklearn.preprocessing.OneHotEncoder.html\">OHE из sklearn</a>. По аналогии с масштабированием делать fit только на трейне, а transform на всех выборках.\n",
    "<hr>\n",
    "get_dummies подходит для анализа данных, а для машинного обучения более предпочтителен OHE, т.к. он позоволяет избежать ряд ошибок при обучении моделей, в том числе может работать с неизвестными ранее уровнями категорий, которых не было изначально (например, если появится еще одна модель машины).\n",
    "        \n",
    "get_dummies также нельзя использовать вместе с pipeline, column_transformer, ecли появляется новая выборка и ее нужно кодировать, то обязательно стоит выполнить проверку, чтобы получившиеся фичи были такие же.\n",
    "        \n",
    "Прочитать об этом более подробно можно здесь:\n",
    "\n",
    "https://colab.research.google.com/drive/1_gAMXcQKoCShB_l8FNtYEejMnosm9mvt?usp=sharing\n",
    "        \n",
    "Также для признака country можно применить порядковое кодирование, чтобы не получалось слишком много фичей."
   ]
  },
  {
   "cell_type": "code",
   "execution_count": 66,
   "id": "27e80c8b",
   "metadata": {},
   "outputs": [],
   "source": [
    "df_1_model = pd.concat([df_1,df_1_ohe],axis=1)\n",
    "df_1_model.drop(labels= ohe_columns,axis=1,inplace=True)\n",
    "df_2_model = pd.concat([df_2,df_2_ohe],axis=1)\n",
    "df_2_model.drop(labels= ohe_columns,axis=1,inplace=True)"
   ]
  },
  {
   "cell_type": "code",
   "execution_count": 67,
   "id": "185e3706",
   "metadata": {},
   "outputs": [],
   "source": [
    "df_1_model = df_1_model.drop(df_1_model[df_1_model.previous_bookings_not_canceled >10].index)\n",
    "df_1_model = df_1_model.drop(df_1_model[df_1_model.previous_cancellations >5].index)\n",
    "df_1_model = df_1_model.drop(df_1_model[df_1_model.days_in_waiting_list >150].index)\n",
    "df_1_model = df_1_model.drop(df_1_model[df_1_model.babies >3].index)"
   ]
  },
  {
   "cell_type": "code",
   "execution_count": 68,
   "id": "20e0c2ec",
   "metadata": {},
   "outputs": [],
   "source": [
    "#мне кажется некорректным дропать \"проблемные\" записи из тестовой выборки\n",
    "#df_2_model = df_2_model.drop(df_2_model[df_2_model.previous_bookings_not_canceled >10].index)\n",
    "#df_2_model = df_2_model.drop(df_2_model[df_2_model.previous_cancellations >5].index)\n",
    "#df_2_model = df_2_model.drop(df_2_model[df_2_model.days_in_waiting_list >150].index)"
   ]
  },
  {
   "cell_type": "code",
   "execution_count": 69,
   "id": "e4e4ee00",
   "metadata": {
    "scrolled": true
   },
   "outputs": [],
   "source": [
    "df_target = df_1_model['is_canceled']\n",
    "df_t_target = df_2_model['is_canceled']"
   ]
  },
  {
   "cell_type": "markdown",
   "id": "641e19b9",
   "metadata": {},
   "source": [
    "**df_target - таргеты для обучения модели**"
   ]
  },
  {
   "cell_type": "code",
   "execution_count": 70,
   "id": "8c15bfed",
   "metadata": {},
   "outputs": [],
   "source": [
    "df_1_model.drop(['id','is_canceled','arrival_date_month','country', 'new_country', 'arrival_date_year','arrival_date_month','total_nights'], axis =1,inplace=True)"
   ]
  },
  {
   "cell_type": "code",
   "execution_count": 71,
   "id": "d813de5a",
   "metadata": {},
   "outputs": [],
   "source": [
    "df_2_model.drop(['id','is_canceled','arrival_date_month','country', 'new_country', 'arrival_date_year','arrival_date_month','total_nights'], axis =1,inplace=True)"
   ]
  },
  {
   "cell_type": "code",
   "execution_count": 72,
   "id": "0af626a3",
   "metadata": {},
   "outputs": [],
   "source": [
    "df_1_model = df_1_model.reset_index()\n",
    "df_2_model = df_2_model.reset_index()"
   ]
  },
  {
   "cell_type": "markdown",
   "id": "5504d60f",
   "metadata": {},
   "source": [
    "**дальше будет идти масштабирование**"
   ]
  },
  {
   "cell_type": "code",
   "execution_count": 73,
   "id": "09de388f",
   "metadata": {},
   "outputs": [],
   "source": [
    "scale_columns = ['lead_time','arrival_date_week_number', 'arrival_date_day_of_month', \n",
    "                'stays_in_weekend_nights', 'stays_in_week_nights', 'adults', 'children', 'babies',\n",
    "                 'previous_bookings_not_canceled','previous_cancellations','days_in_waiting_list']"
   ]
  },
  {
   "cell_type": "code",
   "execution_count": 74,
   "id": "64183c5b",
   "metadata": {},
   "outputs": [],
   "source": [
    "scaler = StandardScaler()\n",
    "scaler.fit(df_1_model[scale_columns])\n",
    "df_s= scaler.transform(df_1_model[scale_columns])\n",
    "df_s = pd.DataFrame(df_s)\n",
    "df_s.columns = scale_columns"
   ]
  },
  {
   "cell_type": "code",
   "execution_count": 75,
   "id": "a51a6e9b",
   "metadata": {
    "scrolled": true
   },
   "outputs": [],
   "source": [
    "df_1_model.drop(scale_columns, axis=1, inplace = True)\n",
    "df_train = pd.concat([df_s, df_1_model], axis=1)"
   ]
  },
  {
   "cell_type": "code",
   "execution_count": 76,
   "id": "63b27bfc",
   "metadata": {
    "scrolled": true
   },
   "outputs": [],
   "source": [
    "df_train.drop(['index'], axis =1, inplace = True)"
   ]
  },
  {
   "cell_type": "markdown",
   "id": "6fe3529a",
   "metadata": {},
   "source": [
    "**df_train - датасет фич для обучения модели**"
   ]
  },
  {
   "cell_type": "code",
   "execution_count": 77,
   "id": "50e816ac",
   "metadata": {},
   "outputs": [
    {
     "name": "stdout",
     "output_type": "stream",
     "text": [
      "(64655, 31) (64655,)\n"
     ]
    }
   ],
   "source": [
    "print(df_train.shape, df_target.shape)"
   ]
  },
  {
   "cell_type": "markdown",
   "id": "7024f068",
   "metadata": {},
   "source": [
    "**Размеры данных выглядет корректными. А теперь делаем скейл тестовых данных.**"
   ]
  },
  {
   "cell_type": "code",
   "execution_count": 78,
   "id": "644eceba",
   "metadata": {},
   "outputs": [],
   "source": [
    "df_s2= scaler.transform(df_2_model[scale_columns])\n",
    "df_s2 = pd.DataFrame(df_s2)\n",
    "df_s2.columns = scale_columns\n",
    "df_2_model.drop(scale_columns, axis=1, inplace = True)\n",
    "df_t_feat = pd.concat([df_s2, df_2_model], axis=1)\n",
    "df_t_feat.drop(['index'], axis =1, inplace = True)"
   ]
  },
  {
   "cell_type": "code",
   "execution_count": 80,
   "id": "1b4bfa42",
   "metadata": {
    "scrolled": false
   },
   "outputs": [
    {
     "name": "stdout",
     "output_type": "stream",
     "text": [
      "24044\n",
      "41185\n"
     ]
    }
   ],
   "source": [
    "print(len(df_1[df_1.is_canceled==1]))\n",
    "print(len(df_1[df_1.is_canceled==0]))"
   ]
  },
  {
   "cell_type": "markdown",
   "id": "9afb222d",
   "metadata": {},
   "source": [
    "<div class=\"alert alert-success\">\n",
    "<h2> Комментарий ревьюера <a class=\"tocSkip\"> </h2>\n",
    "\n",
    "<b>Все отлично!👍</b> \n",
    "    \n",
    "Отлично, что есть анализ баланса классов и предложение по работе с ним."
   ]
  },
  {
   "cell_type": "markdown",
   "id": "f78f33a7",
   "metadata": {},
   "source": [
    "**Так как нам нужна метрика для категориальных величин и при этом качество модели определяется не только точностью предсказания, но и полнотой - то логичгно выбрать метрику f1 - которая представляет собой среднее гармоничное этих двух показателей (полнота и точность)**"
   ]
  },
  {
   "cell_type": "markdown",
   "id": "4fad5d88",
   "metadata": {},
   "source": [
    "<div class=\"alert alert-block alert-danger\">\n",
    "<h2> Комментарий ревьюера <a class=\"tocSkip\"></h2>\n",
    "\n",
    "    \n",
    "<b>На доработку🤔:</b>\n",
    "    \n",
    "Также стоит описать, какую метрику ты будешь использовать для оценки моделей и почему."
   ]
  },
  {
   "cell_type": "markdown",
   "id": "9d169928",
   "metadata": {},
   "source": [
    "**Баланс двукратно нарушен, воспользуемся параметром class_weight для исправления ситуации.**"
   ]
  },
  {
   "cell_type": "markdown",
   "id": "6f69bfb2",
   "metadata": {},
   "source": [
    "пусть вес класса 0 будет равен 1, тогда вес класса 1:"
   ]
  },
  {
   "cell_type": "code",
   "execution_count": 83,
   "id": "d6aabed8",
   "metadata": {},
   "outputs": [
    {
     "name": "stdout",
     "output_type": "stream",
     "text": [
      "1.7129013475295292\n"
     ]
    }
   ],
   "source": [
    "class_0_w = 1\n",
    "class_1_w = len(df_1[df_1.is_canceled==0])/len(df_1[df_1.is_canceled==1])\n",
    "print(class_1_w)"
   ]
  },
  {
   "cell_type": "markdown",
   "id": "91ca3123",
   "metadata": {},
   "source": [
    "<div class=\"alert alert-success\">\n",
    "<h2> Комментарий ревьюера <a class=\"tocSkip\"> </h2>\n",
    "\n",
    "<b>Все отлично!👍:</b> \n",
    "    \n",
    "Молодец, что применяешь upsample только к тренировочной выборке."
   ]
  },
  {
   "cell_type": "markdown",
   "id": "d0ddefa3",
   "metadata": {},
   "source": [
    "**Теперь будем обучать модель на подготовленных данных**"
   ]
  },
  {
   "cell_type": "markdown",
   "id": "33701374",
   "metadata": {},
   "source": [
    "**Обучим модель решающего дерева**"
   ]
  },
  {
   "cell_type": "code",
   "execution_count": 85,
   "id": "9b395bdc",
   "metadata": {},
   "outputs": [
    {
     "name": "stdout",
     "output_type": "stream",
     "text": [
      "depth = 3, min_leaf= 3, F1-score 0.58 accuracy,  deviation: 0.03\n",
      "depth = 3, min_leaf= 5, F1-score 0.58 accuracy,  deviation: 0.03\n",
      "depth = 3, min_leaf= 7, F1-score 0.58 accuracy,  deviation: 0.03\n",
      "depth = 3, min_leaf= 9, F1-score 0.58 accuracy,  deviation: 0.03\n",
      "depth = 5, min_leaf= 3, F1-score 0.56 accuracy,  deviation: 0.06\n",
      "depth = 5, min_leaf= 5, F1-score 0.56 accuracy,  deviation: 0.06\n",
      "depth = 5, min_leaf= 7, F1-score 0.56 accuracy,  deviation: 0.06\n",
      "depth = 5, min_leaf= 9, F1-score 0.56 accuracy,  deviation: 0.06\n",
      "depth = 7, min_leaf= 3, F1-score 0.55 accuracy,  deviation: 0.07\n",
      "depth = 7, min_leaf= 5, F1-score 0.55 accuracy,  deviation: 0.07\n",
      "depth = 7, min_leaf= 7, F1-score 0.55 accuracy,  deviation: 0.07\n",
      "depth = 7, min_leaf= 9, F1-score 0.55 accuracy,  deviation: 0.07\n",
      "Maximum: depth= 3 min_leaf= 7 accuracy score =  0.5787131584358204\n"
     ]
    }
   ],
   "source": [
    "score_max=0\n",
    "for i in range(3, 9, 2):\n",
    "    for j in range(3, 10,2):\n",
    "        model_0 = DecisionTreeClassifier(class_weight={0:class_0_w,1:class_1_w}, random_state=54321, max_depth = i, min_samples_leaf = j)\n",
    "        model_0.fit(df_train, df_target)\n",
    "        scores = cross_val_score(model_0, df_train, df_target, scoring=\"f1\", cv=5)\n",
    "        print(\"depth = %d, min_leaf= %d, F1-score %0.2f accuracy,  deviation: %0.2f\" % ( i, j , scores.mean(), scores.std()))\n",
    "        if scores.mean() > score_max:\n",
    "            score_max = scores.mean()\n",
    "            i_max = i\n",
    "            i_min = j\n",
    "print(\"Maximum: depth=\", i_max, \"min_leaf=\", i_min ,\"accuracy score = \", score_max)"
   ]
  },
  {
   "cell_type": "markdown",
   "id": "f6209db6",
   "metadata": {},
   "source": [
    "<div class=\"alert alert-block alert-danger\">\n",
    "<h2> Комментарий ревьюера №2<a class=\"tocSkip\"></h2>\n",
    "\n",
    "    \n",
    "<b>На доработку🤔:</b>\n",
    "    \n",
    "Здесь все отлично, но стоит обучать модели, принимая во внимание дисбаланс классов. Можно использовать, например, class_weight"
   ]
  },
  {
   "cell_type": "markdown",
   "id": "66e1dc49",
   "metadata": {},
   "source": [
    "<div class=\"alert alert-block alert-danger\">\n",
    "<h2> Комментарий ревьюера <a class=\"tocSkip\"></h2>\n",
    "\n",
    "    \n",
    "<b>На доработку🤔:</b>\n",
    "    \n",
    "    \n",
    "**1.** Функция upsample из тренажера дает утечку данных на кросс-валидации и недостоверную метрику.\n",
    "    \n",
    "Если все же хочешь использовать ее, то стоит использовать ее в сочитании с пайплайном.\n",
    " \n",
    "Это позволит избежать утечки данных.\n",
    "    \n",
    "Апсамплинг нужно производить только на обучающей выборке, а в случае кроссвалидации ещё и только на фолдах в состоянии обучения. Этот момент и учитывает pipeline в своей работе.\n",
    "    \n",
    "Утечка, когда изменение баланса классов делают до разбиения на валидационную и тестовую выборки при схеме обучения без кросс-валидации. На кросс-валидации утечка может происходить в тестовый фолд, если делать апсамплинг/даунсамплинг заранее для всей обучающей выборки, а не трансформером через pipeline, например. В тестовом фолде ведь баланс классов должен соответствовать балансу на исходной выборке.\n",
    "    \n",
    "Если используешь кросс-валидацию, то upsampling надо вписывать в pipeline с cv. Посмотри Pipeline из библиотеки imblearn, там он учитывает эту проблему.\n",
    "\n",
    "Вот здесь можно прочесть про это.   \n",
    "    \n",
    "https://academy.yandex.ru/handbook/ml/article/kross-validaciya\n",
    "    \n",
    "https://imbalanced-learn.org/stable/common_pitfalls.html\n",
    "    \n",
    "https://datascience.xyz/practice/kak-delat-kross-validaciju-pri-apsemplinge-dannyh.html\n",
    "    \n",
    "    \n",
    "**2.** Accuracy в условиях дисбаланса не является показательной метрикой.\n",
    "    \n",
    "    \n",
    "**3.** Стоит перебрать по 2 параметра для обоих исследуемых моделей.\n",
    "    \n",
    "Сейчас для DecisionTree есть перебор только 1 параметра.\n",
    "    \n",
    "Какие есть есще варианты можно посмотреть в документации:\n",
    "    \n",
    "https://scikit-learn.org/stable/modules/generated/sklearn.tree.DecisionTreeClassifier.html"
   ]
  },
  {
   "cell_type": "markdown",
   "id": "e4f99a84",
   "metadata": {},
   "source": [
    "**При глубине 20 мы получаем самые высокие показатели.**"
   ]
  },
  {
   "cell_type": "markdown",
   "id": "ddbc7e45",
   "metadata": {},
   "source": [
    "**Обучим модель случайного леса и проверим ее с помощью меры точности**"
   ]
  },
  {
   "cell_type": "code",
   "execution_count": 86,
   "id": "d9c3dc9a",
   "metadata": {
    "scrolled": true
   },
   "outputs": [
    {
     "name": "stdout",
     "output_type": "stream",
     "text": [
      "Est = 3 depth = 5  f1 Score 0.63 accuracy,  deviation: 0.09\n",
      "Est = 3 depth = 6  f1 Score 0.56 accuracy,  deviation: 0.12\n",
      "Est = 4 depth = 5  f1 Score 0.62 accuracy,  deviation: 0.11\n",
      "Est = 4 depth = 6  f1 Score 0.56 accuracy,  deviation: 0.12\n",
      "Est = 5 depth = 5  f1 Score 0.63 accuracy,  deviation: 0.08\n",
      "Est = 5 depth = 6  f1 Score 0.57 accuracy,  deviation: 0.10\n",
      "Est = 6 depth = 5  f1 Score 0.59 accuracy,  deviation: 0.11\n",
      "Est = 6 depth = 6  f1 Score 0.58 accuracy,  deviation: 0.10\n",
      "Maximum: est= 5 depth= 5 accuracy score =  0.6324255162141181\n"
     ]
    }
   ],
   "source": [
    "score_max=0\n",
    "for est in range(3, 7,1):\n",
    "    for depth in range(5,7,1):\n",
    "        model_1 = RandomForestClassifier(class_weight={0:class_0_w,1:class_1_w}, random_state=54321, n_estimators = est, max_depth=depth)\n",
    "        model_1.fit(df_train, df_target)\n",
    "        scores = cross_val_score(model_1, df_train, df_target,scoring=\"f1\", cv=4)\n",
    "        print(\"Est = %d depth = %d  f1 Score %0.2f accuracy,  deviation: %0.2f\" % ( est , depth, scores.mean(), scores.std()))\n",
    "        if scores.mean() > score_max:\n",
    "            score_max = scores.mean()\n",
    "            est_max=est\n",
    "            depth_max = depth\n",
    "print(\"Maximum: est=\", est_max, \"depth=\", depth_max,\"accuracy score = \", score_max)"
   ]
  },
  {
   "cell_type": "markdown",
   "id": "4a403a22",
   "metadata": {},
   "source": [
    "<div class=\"alert alert-success\">\n",
    "<h2> Комментарий ревьюера <a class=\"tocSkip\"> </h2>\n",
    "\n",
    "<b>Все отлично!👍:</b> \n",
    "    \n",
    "    \n",
    "Отлично, что перебираешь параметры."
   ]
  },
  {
   "cell_type": "markdown",
   "id": "de60d06f",
   "metadata": {},
   "source": [
    "**Крайне неожиданный результат. Максимальный показатаель - 0.63 достигнут при довольном маленькой глубине и небольшом числе деревьев.**"
   ]
  },
  {
   "cell_type": "code",
   "execution_count": 87,
   "id": "9820c35f",
   "metadata": {},
   "outputs": [
    {
     "name": "stdout",
     "output_type": "stream",
     "text": [
      "f1 Score 0.67 accuracy,\n"
     ]
    }
   ],
   "source": [
    "i=5\n",
    "j=5\n",
    "model_1 = RandomForestClassifier(class_weight={0:class_0_w,1:class_1_w},random_state=54321, n_estimators = i, max_depth=j)\n",
    "model_1.fit(df_train, df_target)\n",
    "predict = model_1.predict(df_t_feat)\n",
    "score = f1_score(df_t_target, predict)\n",
    "print(\"f1 Score %0.2f accuracy,\" % (score))"
   ]
  },
  {
   "cell_type": "markdown",
   "id": "4098c7aa",
   "metadata": {},
   "source": [
    "**На тестовой модели мы получили приличные показатели метрики. Вернемся к экономическим показателями - к оценкам потерь и пользы от модели**"
   ]
  },
  {
   "cell_type": "markdown",
   "id": "55901510",
   "metadata": {},
   "source": [
    "<div class=\"alert alert-block alert-danger\">\n",
    "<h2> Комментарий ревьюера <a class=\"tocSkip\"></h2>\n",
    "\n",
    "    \n",
    "<b>На доработку🤔:</b>\n",
    "    \n",
    "На тестовой выборке стоит проверять только 1 лучшую модель, выбранную по результатам кросс-валидации."
   ]
  },
  {
   "cell_type": "code",
   "execution_count": 92,
   "id": "a17ee62c",
   "metadata": {
    "scrolled": false
   },
   "outputs": [
    {
     "data": {
      "text/html": [
       "<div>\n",
       "<style scoped>\n",
       "    .dataframe tbody tr th:only-of-type {\n",
       "        vertical-align: middle;\n",
       "    }\n",
       "\n",
       "    .dataframe tbody tr th {\n",
       "        vertical-align: top;\n",
       "    }\n",
       "\n",
       "    .dataframe thead th {\n",
       "        text-align: right;\n",
       "    }\n",
       "</style>\n",
       "<table border=\"1\" class=\"dataframe\">\n",
       "  <thead>\n",
       "    <tr style=\"text-align: right;\">\n",
       "      <th></th>\n",
       "      <th>predict</th>\n",
       "      <th>fact</th>\n",
       "    </tr>\n",
       "  </thead>\n",
       "  <tbody>\n",
       "    <tr>\n",
       "      <th>0</th>\n",
       "      <td>1</td>\n",
       "      <td>1</td>\n",
       "    </tr>\n",
       "    <tr>\n",
       "      <th>1</th>\n",
       "      <td>0</td>\n",
       "      <td>1</td>\n",
       "    </tr>\n",
       "    <tr>\n",
       "      <th>2</th>\n",
       "      <td>0</td>\n",
       "      <td>1</td>\n",
       "    </tr>\n",
       "    <tr>\n",
       "      <th>3</th>\n",
       "      <td>1</td>\n",
       "      <td>1</td>\n",
       "    </tr>\n",
       "    <tr>\n",
       "      <th>4</th>\n",
       "      <td>1</td>\n",
       "      <td>1</td>\n",
       "    </tr>\n",
       "  </tbody>\n",
       "</table>\n",
       "</div>"
      ],
      "text/plain": [
       "   predict  fact\n",
       "0        1     1\n",
       "1        0     1\n",
       "2        0     1\n",
       "3        1     1\n",
       "4        1     1"
      ]
     },
     "metadata": {},
     "output_type": "display_data"
    }
   ],
   "source": [
    "df_predict = pd.DataFrame(predict)\n",
    "df_res = pd.concat([df_predict, df_t_target], axis=1)\n",
    "df_res.columns= ('predict', 'fact')\n",
    "display(df_res.head(5))"
   ]
  },
  {
   "cell_type": "markdown",
   "id": "d50ea493",
   "metadata": {},
   "source": [
    "**Нас интерсуют строки со значениями столбцов 0,1 - где отказы были пропущены и был убыток и 1,1 - где отказ был предсказан**"
   ]
  },
  {
   "cell_type": "code",
   "execution_count": 93,
   "id": "368dbef2",
   "metadata": {},
   "outputs": [],
   "source": [
    "df_res['missed']= (df_res.predict == 0) & (df_res.fact == 1)\n",
    "df_res['detected']= (df_res.predict == 1) & (df_res.fact == 1)"
   ]
  },
  {
   "cell_type": "code",
   "execution_count": 94,
   "id": "245a38ad",
   "metadata": {},
   "outputs": [
    {
     "data": {
      "text/html": [
       "<div>\n",
       "<style scoped>\n",
       "    .dataframe tbody tr th:only-of-type {\n",
       "        vertical-align: middle;\n",
       "    }\n",
       "\n",
       "    .dataframe tbody tr th {\n",
       "        vertical-align: top;\n",
       "    }\n",
       "\n",
       "    .dataframe thead th {\n",
       "        text-align: right;\n",
       "    }\n",
       "</style>\n",
       "<table border=\"1\" class=\"dataframe\">\n",
       "  <thead>\n",
       "    <tr style=\"text-align: right;\">\n",
       "      <th></th>\n",
       "      <th>predict</th>\n",
       "      <th>fact</th>\n",
       "      <th>missed</th>\n",
       "      <th>detected</th>\n",
       "    </tr>\n",
       "  </thead>\n",
       "  <tbody>\n",
       "    <tr>\n",
       "      <th>0</th>\n",
       "      <td>1</td>\n",
       "      <td>1</td>\n",
       "      <td>False</td>\n",
       "      <td>True</td>\n",
       "    </tr>\n",
       "    <tr>\n",
       "      <th>1</th>\n",
       "      <td>0</td>\n",
       "      <td>1</td>\n",
       "      <td>True</td>\n",
       "      <td>False</td>\n",
       "    </tr>\n",
       "    <tr>\n",
       "      <th>2</th>\n",
       "      <td>0</td>\n",
       "      <td>1</td>\n",
       "      <td>True</td>\n",
       "      <td>False</td>\n",
       "    </tr>\n",
       "    <tr>\n",
       "      <th>3</th>\n",
       "      <td>1</td>\n",
       "      <td>1</td>\n",
       "      <td>False</td>\n",
       "      <td>True</td>\n",
       "    </tr>\n",
       "    <tr>\n",
       "      <th>4</th>\n",
       "      <td>1</td>\n",
       "      <td>1</td>\n",
       "      <td>False</td>\n",
       "      <td>True</td>\n",
       "    </tr>\n",
       "  </tbody>\n",
       "</table>\n",
       "</div>"
      ],
      "text/plain": [
       "   predict  fact  missed  detected\n",
       "0        1     1   False      True\n",
       "1        0     1    True     False\n",
       "2        0     1    True     False\n",
       "3        1     1   False      True\n",
       "4        1     1   False      True"
      ]
     },
     "metadata": {},
     "output_type": "display_data"
    }
   ],
   "source": [
    "display(df_res.head(5))"
   ]
  },
  {
   "cell_type": "code",
   "execution_count": 95,
   "id": "ee2de168",
   "metadata": {},
   "outputs": [
    {
     "name": "stdout",
     "output_type": "stream",
     "text": [
      "4376\n",
      "8215\n"
     ]
    }
   ],
   "source": [
    "print(df_res.missed.sum())\n",
    "print(df_res.detected.sum())"
   ]
  },
  {
   "cell_type": "code",
   "execution_count": 98,
   "id": "13a930c5",
   "metadata": {},
   "outputs": [],
   "source": [
    "df_detected = df_2[df_res.detected]\n",
    "df_missed = df_2[df_res.missed]"
   ]
  },
  {
   "cell_type": "code",
   "execution_count": 99,
   "id": "020eae75",
   "metadata": {},
   "outputs": [],
   "source": [
    "money_plus, money_minus, money_ml_minus = get_money(df_2)\n",
    "#money_plus - доход за тестовый период\n",
    "#money_minus - потери без внедрения модели\n",
    "money_d, money_d2, money_ml = get_money(df_detected)\n",
    "#money_ml - потери от определенных отказов, с учетом депозита\n",
    "money_m, money_missed, money_ml_minus = get_money(df_missed)\n",
    "#money_missed - потери от не предсказанных отказов"
   ]
  },
  {
   "cell_type": "code",
   "execution_count": 100,
   "id": "d66648d6",
   "metadata": {},
   "outputs": [],
   "source": [
    "profit = money_plus + money_minus\n",
    "profit_ml = money_plus + money_ml + money_missed"
   ]
  },
  {
   "cell_type": "code",
   "execution_count": 101,
   "id": "ba9030fa",
   "metadata": {
    "scrolled": false
   },
   "outputs": [
    {
     "name": "stdout",
     "output_type": "stream",
     "text": [
      "Оценка эффективности внедрения модели за тестовый период: 9672504.00 у.е.\n"
     ]
    }
   ],
   "source": [
    "profit_effect = profit_ml - profit\n",
    "print(\"Оценка эффективности внедрения модели за тестовый период: %0.2f у.е.\" % (profit_effect))"
   ]
  },
  {
   "cell_type": "markdown",
   "id": "397a0077",
   "metadata": {},
   "source": [
    "<div class=\"alert alert-block alert-danger\">\n",
    "<h2> Комментарий ревьюера <a class=\"tocSkip\"></h2>\n",
    "\n",
    "    \n",
    "<b>На доработку🤔:</b>\n",
    "    \n",
    "Здесь стоит посчитать прибыль с учетом предсказаний для тестовой выборки, не привязываясь к конкретному значению метрики (на конкретной выборке), а написать алгоритм, который бы учитывал результаты предиктов в каждом конкретном случае."
   ]
  },
  {
   "cell_type": "markdown",
   "id": "df14fcda",
   "metadata": {},
   "source": [
    "**Тестовый период  ограничен 35 неделями одного года. С некоторым допущениями можно (тк в этот период входит и низкий и самый высокий сезон) экстраполировать эти данные на весь год:**"
   ]
  },
  {
   "cell_type": "code",
   "execution_count": 102,
   "id": "24d9a23d",
   "metadata": {},
   "outputs": [
    {
     "name": "stdout",
     "output_type": "stream",
     "text": [
      "Оценка эффективности внедрения модели за год : 14370577.37 у.е.\n"
     ]
    }
   ],
   "source": [
    "print(\"Оценка эффективности внедрения модели за год : %0.2f у.е.\" % (profit_effect/35*52))"
   ]
  },
  {
   "cell_type": "markdown",
   "id": "573b0818",
   "metadata": {},
   "source": [
    "<div class=\"alert alert-success\">\n",
    "<h2> Комментарий ревьюера <a class=\"tocSkip\"> </h2>\n",
    "\n",
    "<b>Все отлично!👍:</b> \n",
    "    \n",
    "    \n",
    "Отлично, что принимаешь во внимание, за какой период есть данные.\n",
    "    \n",
    "Отлично, что есть расчет прибыли с учетом ml"
   ]
  },
  {
   "cell_type": "markdown",
   "id": "cfd73562",
   "metadata": {},
   "source": [
    "### Шаг 5. Выявите признаки «ненадёжного» клиента"
   ]
  },
  {
   "cell_type": "markdown",
   "id": "ee3da62c",
   "metadata": {},
   "source": [
    "**Так как абсолютные показатели не дают обнаружить выросы изучим этот вопрос с разных сторон. Найдем наиболее важные параметры с точки зрения модели**"
   ]
  },
  {
   "cell_type": "code",
   "execution_count": 103,
   "id": "b1f72fdf",
   "metadata": {
    "scrolled": true
   },
   "outputs": [
    {
     "data": {
      "text/html": [
       "<div>\n",
       "<style scoped>\n",
       "    .dataframe tbody tr th:only-of-type {\n",
       "        vertical-align: middle;\n",
       "    }\n",
       "\n",
       "    .dataframe tbody tr th {\n",
       "        vertical-align: top;\n",
       "    }\n",
       "\n",
       "    .dataframe thead th {\n",
       "        text-align: right;\n",
       "    }\n",
       "</style>\n",
       "<table border=\"1\" class=\"dataframe\">\n",
       "  <thead>\n",
       "    <tr style=\"text-align: right;\">\n",
       "      <th></th>\n",
       "      <th>ratio</th>\n",
       "    </tr>\n",
       "  </thead>\n",
       "  <tbody>\n",
       "    <tr>\n",
       "      <th>country_c</th>\n",
       "      <td>0.232201</td>\n",
       "    </tr>\n",
       "    <tr>\n",
       "      <th>total_of_special_requests</th>\n",
       "      <td>0.194428</td>\n",
       "    </tr>\n",
       "    <tr>\n",
       "      <th>lead_time</th>\n",
       "      <td>0.180113</td>\n",
       "    </tr>\n",
       "    <tr>\n",
       "      <th>previous_cancellations</th>\n",
       "      <td>0.107932</td>\n",
       "    </tr>\n",
       "    <tr>\n",
       "      <th>booking_changes</th>\n",
       "      <td>0.059022</td>\n",
       "    </tr>\n",
       "    <tr>\n",
       "      <th>required_car_parking_spaces</th>\n",
       "      <td>0.051365</td>\n",
       "    </tr>\n",
       "    <tr>\n",
       "      <th>x3_Transient-Party</th>\n",
       "      <td>0.039352</td>\n",
       "    </tr>\n",
       "    <tr>\n",
       "      <th>x3_Transient</th>\n",
       "      <td>0.037863</td>\n",
       "    </tr>\n",
       "    <tr>\n",
       "      <th>x1_TA/TO</th>\n",
       "      <td>0.035626</td>\n",
       "    </tr>\n",
       "  </tbody>\n",
       "</table>\n",
       "</div>"
      ],
      "text/plain": [
       "                                ratio\n",
       "country_c                    0.232201\n",
       "total_of_special_requests    0.194428\n",
       "lead_time                    0.180113\n",
       "previous_cancellations       0.107932\n",
       "booking_changes              0.059022\n",
       "required_car_parking_spaces  0.051365\n",
       "x3_Transient-Party           0.039352\n",
       "x3_Transient                 0.037863\n",
       "x1_TA/TO                     0.035626"
      ]
     },
     "metadata": {},
     "output_type": "display_data"
    }
   ],
   "source": [
    "imp = pd.Series(model_1.feature_importances_, df_t_feat.columns)\n",
    "d = pd.DataFrame( imp )\n",
    "d.columns=['ratio']\n",
    "display(d[d['ratio']>0.03].sort_values('ratio', ascending = False))"
   ]
  },
  {
   "cell_type": "markdown",
   "id": "c40e96cf",
   "metadata": {},
   "source": [
    "По мнению модели самыми важными являются число спец запросов, число предыдущих отказов, код страны, время ожидания. В целом логично - капризные клиенты - это проблема. Представим эти данные графическим видом."
   ]
  },
  {
   "cell_type": "code",
   "execution_count": 104,
   "id": "e8973b41",
   "metadata": {},
   "outputs": [],
   "source": [
    "importances = model_1.feature_importances_\n",
    "std = np.std([tree.feature_importances_ for tree in model_1.estimators_], axis=0)"
   ]
  },
  {
   "cell_type": "code",
   "execution_count": 108,
   "id": "6c33127a",
   "metadata": {},
   "outputs": [
    {
     "data": {
      "image/png": "[encoded data removed]",
      "text/plain": [
       "<Figure size 640x480 with 1 Axes>"
      ]
     },
     "metadata": {},
     "output_type": "display_data"
    }
   ],
   "source": [
    "forest_importances = pd.Series(importances, index=df_t_feat.columns)\n",
    "fig, ax = plt.subplots()\n",
    "forest_importances.plot.bar(yerr=std, ax=ax)\n",
    "ax.set_title(\"Feature importances\")\n",
    "ax.set_ylabel(\"\")\n",
    "fig.tight_layout()"
   ]
  },
  {
   "cell_type": "markdown",
   "id": "72faeec8",
   "metadata": {},
   "source": [
    "<div class=\"alert alert-block alert-danger\">\n",
    "<h2> Комментарий ревьюера <a class=\"tocSkip\"></h2>\n",
    "\n",
    "    \n",
    "<b>На доработку🤔:</b>\n",
    "    \n",
    "Вот этот анализ стоит перенести в первый раздел проекта, когда мы исследуем задачу.\n",
    "    \n",
    "Этот раздел, как ты правильно начал, стоит посвятить результатам работы моделей, признакам, которые модель сочла важными для предикта."
   ]
  },
  {
   "cell_type": "markdown",
   "id": "d855ce0e",
   "metadata": {},
   "source": [
    "**В целом ясной картины рискового клиента не выявляется - есть признаки, которые согласуются со здравой логикой - клиенты с большим числом отказовы и спец запросов. Модель использует разумные признаки, что говорит о ее применимости. (если вы конечно не больше 10 лет в отельном бизнесе.)**"
   ]
  },
  {
   "cell_type": "markdown",
   "id": "2f836820",
   "metadata": {},
   "source": [
    "### Шаг 6. Напишите общий вывод"
   ]
  },
  {
   "cell_type": "markdown",
   "id": "89af36b8",
   "metadata": {},
   "source": [
    "**Итак, в результате проведенной работы, на основе предоставленных данных была построена модель, которая позволит  снизить потери из-за отказов от бронирования и окупит свою разработку в кратчайшие сроки. Для повышения качества предсказания, необходимо ввести стандарты формирования данных (чтобы избежать расщепления понятия брони и бронирования номеров, как в случае с бронями для детей без родителей, хотя это явно были совместные заезды в отель), продолжать обучать модель на основании собираемых данных. Также важно избежать соблазна повышения чувствиетльности модели, так как это может поднять вероятность \"ложных\" взиманий предоплаты и сломает саму идею бесплатных бронирований номеров (тк слишком часто будет требоваться предоплата - то отрицание тезиса \"бесплатное бронирования\" оттолкнет клиентов).\n",
    "В целом использования моделирования для решение данной задачи можно назвать полезным и рентабельным, даже с использованием несложных моделей.**\n"
   ]
  },
  {
   "cell_type": "markdown",
   "id": "4760f9da",
   "metadata": {},
   "source": [
    "<div class=\"alert alert-success\">\n",
    "<h2> Комментарий ревьюера <a class=\"tocSkip\"> </h2>\n",
    "\n",
    "<b>Все отлично!👍:</b> \n",
    "    \n",
    "Отлично, что есть резюмируюший вывод."
   ]
  },
  {
   "cell_type": "markdown",
   "id": "bc3db0b0",
   "metadata": {},
   "source": [
    "<div style=\"border:solid Chocolate 2px; padding: 40px\">\n",
    "    \n",
    "<b>Общий вывод по проекту</b>\n",
    "\n",
    "Алексей, благодарю тебя за работу! Проект хороший, продуманный, структурно выдержанный. Однако стоит внести некоторые исправления, чтобы можно было считать работу завершенной.\n",
    "\n",
    "**Положительные моменты проекта, которые хочу еще раз подчеркнуть:**\n",
    "\n",
    "1. Есть первичный анализ данных\n",
    "2. Есть промежуточные выводы\n",
    "3. Выдержана структура проекта\n",
    "4. Есть оценка работы модели с точки зрения бизнеса\n",
    "5. Есть расчет прибыли отеля без внедрения невозвратных депозитов.\n",
    "6. Кодирование категориальных признаков осуществляется\n",
    "\n",
    "**Замечания, на которые стоит обратить внимание при будущей работе:**\n",
    "    \n",
    "    1. Написать обоснование выбора метрики\n",
    "    2. На тестовой выборке проверить только одну лучшую модель\n",
    "    3. Добавить перебор еще одного параметра для DecisionTree\n",
    "    4. accuracy не явялется показательной метрикой в условиях дисбаланса\n",
    "    5. upsample стоит применять в сочитании c pipeline при кросс-валидации\n",
    "    6. написать алгоритм для расчета прибыли после применения ml, который основывается не на значении метрики для определенной выборки, а на каждом конкретном предикте\n",
    "    7. устранить ошибку в коде\n",
    "    8. провести предобработку данных\n",
    "    9. построить графики хотя бы для части переменных\n",
    "\n",
    "\n",
    "Остальные комментарии ты найдешь выше.\n",
    "\n",
    "**Желаю удачи и жду твой проект на повторное ревью!**"
   ]
  },
  {
   "cell_type": "markdown",
   "id": "8190d7ca",
   "metadata": {},
   "source": [
    "<div style=\"border:solid Chocolate 2px; padding: 40px\">\n",
    "    \n",
    "<b>Общий вывод по проекту №2</b>\n",
    "\n",
    "Алексей, спасибо за работу! \n",
    "    \n",
    "Все хорошо, осталось учесть  факт дисбаланса при обучении моделей.\n",
    "    \n",
    "**Жду твой проект на следующее ревью**"
   ]
  },
  {
   "cell_type": "markdown",
   "id": "31493a89",
   "metadata": {},
   "source": [
    "спасибо. пробился через class_weight - получили +20%  к эффективности внедрения модели."
   ]
  }
 ],
 "metadata": {
  "ExecuteTimeLog": [
   {
    "duration": 1486,
    "start_time": "2023-01-01T19:50:53.932Z"
   },
   {
    "duration": 420,
    "start_time": "2023-01-01T19:50:55.420Z"
   },
   {
    "duration": 21,
    "start_time": "2023-01-01T19:50:55.841Z"
   },
   {
    "duration": 17,
    "start_time": "2023-01-01T19:50:55.864Z"
   },
   {
    "duration": 73,
    "start_time": "2023-01-01T19:50:55.883Z"
   },
   {
    "duration": 18,
    "start_time": "2023-01-01T19:50:55.957Z"
   },
   {
    "duration": 25,
    "start_time": "2023-01-01T19:50:55.976Z"
   },
   {
    "duration": 19,
    "start_time": "2023-01-01T19:50:56.016Z"
   },
   {
    "duration": 21,
    "start_time": "2023-01-01T19:50:56.036Z"
   },
   {
    "duration": 10,
    "start_time": "2023-01-01T19:50:56.060Z"
   },
   {
    "duration": 444,
    "start_time": "2023-01-01T19:50:56.071Z"
   },
   {
    "duration": 26,
    "start_time": "2023-01-01T19:50:56.516Z"
   },
   {
    "duration": 6,
    "start_time": "2023-01-01T19:50:56.543Z"
   },
   {
    "duration": 9,
    "start_time": "2023-01-01T19:50:56.551Z"
   },
   {
    "duration": 3688,
    "start_time": "2023-01-01T19:50:56.562Z"
   },
   {
    "duration": 1750,
    "start_time": "2023-01-01T19:51:00.252Z"
   },
   {
    "duration": 3,
    "start_time": "2023-01-01T19:51:02.003Z"
   },
   {
    "duration": 97,
    "start_time": "2023-01-01T19:51:02.007Z"
   },
   {
    "duration": 3,
    "start_time": "2023-01-01T19:51:02.106Z"
   },
   {
    "duration": 48,
    "start_time": "2023-01-01T19:51:02.116Z"
   },
   {
    "duration": 33,
    "start_time": "2023-01-01T19:51:02.166Z"
   },
   {
    "duration": 13,
    "start_time": "2023-01-01T19:51:02.203Z"
   },
   {
    "duration": 12,
    "start_time": "2023-01-01T19:51:02.218Z"
   },
   {
    "duration": 18,
    "start_time": "2023-01-01T19:51:02.231Z"
   },
   {
    "duration": 4,
    "start_time": "2023-01-01T19:51:02.251Z"
   },
   {
    "duration": 208,
    "start_time": "2023-01-01T19:51:02.256Z"
   },
   {
    "duration": 0,
    "start_time": "2023-01-01T19:51:02.465Z"
   },
   {
    "duration": 0,
    "start_time": "2023-01-01T19:51:02.467Z"
   },
   {
    "duration": 0,
    "start_time": "2023-01-01T19:51:02.469Z"
   },
   {
    "duration": 0,
    "start_time": "2023-01-01T19:51:02.470Z"
   },
   {
    "duration": 0,
    "start_time": "2023-01-01T19:51:02.472Z"
   },
   {
    "duration": 0,
    "start_time": "2023-01-01T19:51:02.473Z"
   },
   {
    "duration": 0,
    "start_time": "2023-01-01T19:51:02.474Z"
   },
   {
    "duration": 0,
    "start_time": "2023-01-01T19:51:02.475Z"
   },
   {
    "duration": 0,
    "start_time": "2023-01-01T19:51:02.476Z"
   },
   {
    "duration": 0,
    "start_time": "2023-01-01T19:51:02.477Z"
   },
   {
    "duration": 0,
    "start_time": "2023-01-01T19:51:02.479Z"
   },
   {
    "duration": 0,
    "start_time": "2023-01-01T19:51:02.480Z"
   },
   {
    "duration": 0,
    "start_time": "2023-01-01T19:51:02.481Z"
   },
   {
    "duration": 0,
    "start_time": "2023-01-01T19:51:02.482Z"
   },
   {
    "duration": 0,
    "start_time": "2023-01-01T19:51:02.515Z"
   },
   {
    "duration": 0,
    "start_time": "2023-01-01T19:51:02.516Z"
   },
   {
    "duration": 0,
    "start_time": "2023-01-01T19:51:02.517Z"
   },
   {
    "duration": 0,
    "start_time": "2023-01-01T19:51:02.517Z"
   },
   {
    "duration": 0,
    "start_time": "2023-01-01T19:51:02.519Z"
   },
   {
    "duration": 1195,
    "start_time": "2023-01-10T18:58:49.509Z"
   },
   {
    "duration": 237,
    "start_time": "2023-01-10T18:58:50.706Z"
   },
   {
    "duration": 22,
    "start_time": "2023-01-10T18:58:50.945Z"
   },
   {
    "duration": 29,
    "start_time": "2023-01-10T18:58:50.969Z"
   },
   {
    "duration": 6,
    "start_time": "2023-01-10T18:58:51.000Z"
   },
   {
    "duration": 98,
    "start_time": "2023-01-10T18:58:51.008Z"
   },
   {
    "duration": 22,
    "start_time": "2023-01-10T18:58:51.108Z"
   },
   {
    "duration": 36,
    "start_time": "2023-01-10T18:58:51.132Z"
   },
   {
    "duration": 15,
    "start_time": "2023-01-10T18:58:51.169Z"
   },
   {
    "duration": 20,
    "start_time": "2023-01-10T18:58:51.198Z"
   },
   {
    "duration": 14,
    "start_time": "2023-01-10T18:58:51.220Z"
   },
   {
    "duration": 429,
    "start_time": "2023-01-10T18:58:51.236Z"
   },
   {
    "duration": 38,
    "start_time": "2023-01-10T18:58:51.667Z"
   },
   {
    "duration": 7,
    "start_time": "2023-01-10T18:58:51.706Z"
   },
   {
    "duration": 37,
    "start_time": "2023-01-10T18:58:51.714Z"
   },
   {
    "duration": 119,
    "start_time": "2023-01-10T18:58:51.752Z"
   },
   {
    "duration": 4,
    "start_time": "2023-01-10T18:58:51.873Z"
   },
   {
    "duration": 8,
    "start_time": "2023-01-10T18:58:51.878Z"
   },
   {
    "duration": 8,
    "start_time": "2023-01-10T18:58:51.898Z"
   },
   {
    "duration": 8,
    "start_time": "2023-01-10T18:58:51.907Z"
   },
   {
    "duration": 80,
    "start_time": "2023-01-10T18:58:51.917Z"
   },
   {
    "duration": 6,
    "start_time": "2023-01-10T18:58:52.000Z"
   },
   {
    "duration": 10,
    "start_time": "2023-01-10T18:58:52.007Z"
   },
   {
    "duration": 139,
    "start_time": "2023-01-10T18:58:52.019Z"
   },
   {
    "duration": 59,
    "start_time": "2023-01-10T18:58:52.159Z"
   },
   {
    "duration": 10,
    "start_time": "2023-01-10T18:58:52.220Z"
   },
   {
    "duration": 87,
    "start_time": "2023-01-10T18:58:52.231Z"
   },
   {
    "duration": 9,
    "start_time": "2023-01-10T18:58:52.324Z"
   },
   {
    "duration": 168,
    "start_time": "2023-01-10T18:58:52.335Z"
   },
   {
    "duration": 10,
    "start_time": "2023-01-10T18:58:52.504Z"
   },
   {
    "duration": 18,
    "start_time": "2023-01-10T18:58:52.516Z"
   },
   {
    "duration": 145,
    "start_time": "2023-01-10T18:58:52.536Z"
   },
   {
    "duration": 27,
    "start_time": "2023-01-10T18:58:52.683Z"
   },
   {
    "duration": 133,
    "start_time": "2023-01-10T18:58:52.712Z"
   },
   {
    "duration": 14,
    "start_time": "2023-01-10T18:58:52.847Z"
   },
   {
    "duration": 7,
    "start_time": "2023-01-10T18:58:52.863Z"
   },
   {
    "duration": 72,
    "start_time": "2023-01-10T18:58:52.871Z"
   },
   {
    "duration": 7,
    "start_time": "2023-01-10T18:58:52.945Z"
   },
   {
    "duration": 18,
    "start_time": "2023-01-10T18:58:52.953Z"
   },
   {
    "duration": 26,
    "start_time": "2023-01-10T18:58:52.973Z"
   },
   {
    "duration": 4,
    "start_time": "2023-01-10T18:58:53.002Z"
   },
   {
    "duration": 1747,
    "start_time": "2023-01-10T18:58:53.008Z"
   },
   {
    "duration": 172,
    "start_time": "2023-01-10T18:58:54.757Z"
   },
   {
    "duration": 183,
    "start_time": "2023-01-10T18:58:54.930Z"
   },
   {
    "duration": 5,
    "start_time": "2023-01-10T18:58:55.114Z"
   },
   {
    "duration": 17,
    "start_time": "2023-01-10T18:58:55.120Z"
   },
   {
    "duration": 249,
    "start_time": "2023-01-10T18:58:55.138Z"
   },
   {
    "duration": 15,
    "start_time": "2023-01-10T18:58:55.388Z"
   },
   {
    "duration": 7,
    "start_time": "2023-01-10T18:58:55.404Z"
   },
   {
    "duration": 24,
    "start_time": "2023-01-10T18:58:55.413Z"
   },
   {
    "duration": 23,
    "start_time": "2023-01-10T18:58:55.439Z"
   },
   {
    "duration": 15,
    "start_time": "2023-01-10T18:58:55.463Z"
   },
   {
    "duration": 33,
    "start_time": "2023-01-10T18:58:55.479Z"
   },
   {
    "duration": 17,
    "start_time": "2023-01-10T18:58:55.514Z"
   },
   {
    "duration": 16,
    "start_time": "2023-01-10T18:58:55.533Z"
   },
   {
    "duration": 15,
    "start_time": "2023-01-10T18:58:55.550Z"
   },
   {
    "duration": 39,
    "start_time": "2023-01-10T18:58:55.566Z"
   },
   {
    "duration": 3854,
    "start_time": "2023-01-10T18:58:55.607Z"
   },
   {
    "duration": 1923,
    "start_time": "2023-01-10T18:58:59.463Z"
   },
   {
    "duration": 56,
    "start_time": "2023-01-10T18:59:01.387Z"
   },
   {
    "duration": 142,
    "start_time": "2023-01-10T18:59:01.445Z"
   },
   {
    "duration": 72,
    "start_time": "2023-01-10T18:59:01.589Z"
   },
   {
    "duration": 44,
    "start_time": "2023-01-10T18:59:01.662Z"
   },
   {
    "duration": 2,
    "start_time": "2023-01-10T18:59:01.708Z"
   },
   {
    "duration": 20,
    "start_time": "2023-01-10T18:59:01.712Z"
   },
   {
    "duration": 24,
    "start_time": "2023-01-10T18:59:01.733Z"
   },
   {
    "duration": 23,
    "start_time": "2023-01-10T18:59:01.759Z"
   },
   {
    "duration": 19,
    "start_time": "2023-01-10T18:59:01.784Z"
   },
   {
    "duration": 10,
    "start_time": "2023-01-10T18:59:01.804Z"
   },
   {
    "duration": 35,
    "start_time": "2023-01-10T18:59:01.816Z"
   },
   {
    "duration": 9,
    "start_time": "2023-01-10T18:59:01.853Z"
   },
   {
    "duration": 24,
    "start_time": "2023-01-10T18:59:01.863Z"
   },
   {
    "duration": 3,
    "start_time": "2023-01-10T18:59:01.889Z"
   },
   {
    "duration": 26,
    "start_time": "2023-01-10T18:59:01.893Z"
   },
   {
    "duration": 19,
    "start_time": "2023-01-10T18:59:01.920Z"
   },
   {
    "duration": 4004,
    "start_time": "2023-01-10T18:59:01.941Z"
   },
   {
    "duration": 13869,
    "start_time": "2023-01-10T18:59:05.947Z"
   },
   {
    "duration": 118,
    "start_time": "2023-01-10T18:59:19.819Z"
   },
   {
    "duration": 9,
    "start_time": "2023-01-10T18:59:19.939Z"
   },
   {
    "duration": 22,
    "start_time": "2023-01-10T18:59:19.953Z"
   },
   {
    "duration": 8,
    "start_time": "2023-01-10T18:59:19.977Z"
   },
   {
    "duration": 4,
    "start_time": "2023-01-10T18:59:19.989Z"
   },
   {
    "duration": 19,
    "start_time": "2023-01-10T18:59:19.996Z"
   },
   {
    "duration": 3001,
    "start_time": "2023-01-10T18:59:20.017Z"
   },
   {
    "duration": 2,
    "start_time": "2023-01-10T18:59:23.020Z"
   },
   {
    "duration": 12,
    "start_time": "2023-01-10T18:59:23.024Z"
   },
   {
    "duration": 17,
    "start_time": "2023-01-10T18:59:23.038Z"
   },
   {
    "duration": 24,
    "start_time": "2023-01-10T18:59:23.057Z"
   },
   {
    "duration": 6,
    "start_time": "2023-01-10T18:59:23.083Z"
   },
   {
    "duration": 473,
    "start_time": "2023-01-10T18:59:23.091Z"
   },
   {
    "duration": 1716,
    "start_time": "2023-01-11T11:54:14.408Z"
   },
   {
    "duration": 464,
    "start_time": "2023-01-11T11:54:16.126Z"
   },
   {
    "duration": 29,
    "start_time": "2023-01-11T11:54:16.592Z"
   },
   {
    "duration": 23,
    "start_time": "2023-01-11T11:54:16.624Z"
   },
   {
    "duration": 16,
    "start_time": "2023-01-11T11:54:16.649Z"
   },
   {
    "duration": 122,
    "start_time": "2023-01-11T11:54:16.667Z"
   },
   {
    "duration": 23,
    "start_time": "2023-01-11T11:54:16.791Z"
   },
   {
    "duration": 45,
    "start_time": "2023-01-11T11:54:16.816Z"
   },
   {
    "duration": 23,
    "start_time": "2023-01-11T11:54:16.864Z"
   },
   {
    "duration": 21,
    "start_time": "2023-01-11T11:54:16.891Z"
   },
   {
    "duration": 8,
    "start_time": "2023-01-11T11:54:16.914Z"
   },
   {
    "duration": 554,
    "start_time": "2023-01-11T11:54:16.924Z"
   },
   {
    "duration": 33,
    "start_time": "2023-01-11T11:54:17.480Z"
   },
   {
    "duration": 7,
    "start_time": "2023-01-11T11:54:17.516Z"
   },
   {
    "duration": 54,
    "start_time": "2023-01-11T11:54:17.525Z"
   },
   {
    "duration": 145,
    "start_time": "2023-01-11T11:54:17.581Z"
   },
   {
    "duration": 5,
    "start_time": "2023-01-11T11:54:17.728Z"
   },
   {
    "duration": 21,
    "start_time": "2023-01-11T11:54:17.735Z"
   },
   {
    "duration": 16,
    "start_time": "2023-01-11T11:54:17.758Z"
   },
   {
    "duration": 5,
    "start_time": "2023-01-11T11:54:17.776Z"
   },
   {
    "duration": 88,
    "start_time": "2023-01-11T11:54:17.783Z"
   },
   {
    "duration": 6,
    "start_time": "2023-01-11T11:54:17.873Z"
   },
   {
    "duration": 12,
    "start_time": "2023-01-11T11:54:17.881Z"
   },
   {
    "duration": 159,
    "start_time": "2023-01-11T11:54:17.894Z"
   },
   {
    "duration": 53,
    "start_time": "2023-01-11T11:54:18.055Z"
   },
   {
    "duration": 13,
    "start_time": "2023-01-11T11:54:18.111Z"
   },
   {
    "duration": 141,
    "start_time": "2023-01-11T11:54:18.126Z"
   },
   {
    "duration": 13,
    "start_time": "2023-01-11T11:54:18.274Z"
   },
   {
    "duration": 215,
    "start_time": "2023-01-11T11:54:18.289Z"
   },
   {
    "duration": 10,
    "start_time": "2023-01-11T11:54:18.506Z"
   },
   {
    "duration": 18,
    "start_time": "2023-01-11T11:54:18.518Z"
   },
   {
    "duration": 168,
    "start_time": "2023-01-11T11:54:18.538Z"
   },
   {
    "duration": 20,
    "start_time": "2023-01-11T11:54:18.708Z"
   },
   {
    "duration": 277,
    "start_time": "2023-01-11T11:54:18.730Z"
   },
   {
    "duration": 23,
    "start_time": "2023-01-11T11:54:19.009Z"
   },
   {
    "duration": 26,
    "start_time": "2023-01-11T11:54:19.034Z"
   },
   {
    "duration": 131,
    "start_time": "2023-01-11T11:54:19.062Z"
   },
   {
    "duration": 12,
    "start_time": "2023-01-11T11:54:19.195Z"
   },
   {
    "duration": 23,
    "start_time": "2023-01-11T11:54:19.209Z"
   },
   {
    "duration": 35,
    "start_time": "2023-01-11T11:54:19.235Z"
   },
   {
    "duration": 6,
    "start_time": "2023-01-11T11:54:19.272Z"
   },
   {
    "duration": 1891,
    "start_time": "2023-01-11T11:54:19.281Z"
   },
   {
    "duration": 161,
    "start_time": "2023-01-11T11:54:21.174Z"
   },
   {
    "duration": 143,
    "start_time": "2023-01-11T11:54:21.337Z"
   },
   {
    "duration": 6,
    "start_time": "2023-01-11T11:54:21.482Z"
   },
   {
    "duration": 16,
    "start_time": "2023-01-11T11:54:21.490Z"
   },
   {
    "duration": 296,
    "start_time": "2023-01-11T11:54:21.508Z"
   },
   {
    "duration": 9,
    "start_time": "2023-01-11T11:54:21.806Z"
   },
   {
    "duration": 11,
    "start_time": "2023-01-11T11:54:21.817Z"
   },
   {
    "duration": 38,
    "start_time": "2023-01-11T11:54:21.830Z"
   },
   {
    "duration": 26,
    "start_time": "2023-01-11T11:54:21.870Z"
   },
   {
    "duration": 18,
    "start_time": "2023-01-11T11:54:21.897Z"
   },
   {
    "duration": 50,
    "start_time": "2023-01-11T11:54:21.917Z"
   },
   {
    "duration": 20,
    "start_time": "2023-01-11T11:54:21.969Z"
   },
   {
    "duration": 17,
    "start_time": "2023-01-11T11:54:21.991Z"
   },
   {
    "duration": 46,
    "start_time": "2023-01-11T11:54:22.010Z"
   },
   {
    "duration": 11,
    "start_time": "2023-01-11T11:54:22.058Z"
   },
   {
    "duration": 4319,
    "start_time": "2023-01-11T11:54:22.071Z"
   },
   {
    "duration": 2139,
    "start_time": "2023-01-11T11:54:26.393Z"
   },
   {
    "duration": 108,
    "start_time": "2023-01-11T11:54:28.534Z"
   },
   {
    "duration": 217,
    "start_time": "2023-01-11T11:54:28.654Z"
   },
   {
    "duration": 0,
    "start_time": "2023-01-11T11:54:28.874Z"
   },
   {
    "duration": 0,
    "start_time": "2023-01-11T11:54:28.877Z"
   },
   {
    "duration": 0,
    "start_time": "2023-01-11T11:54:28.878Z"
   },
   {
    "duration": 0,
    "start_time": "2023-01-11T11:54:28.880Z"
   },
   {
    "duration": 0,
    "start_time": "2023-01-11T11:54:28.881Z"
   },
   {
    "duration": 0,
    "start_time": "2023-01-11T11:54:28.883Z"
   },
   {
    "duration": 0,
    "start_time": "2023-01-11T11:54:28.885Z"
   },
   {
    "duration": 0,
    "start_time": "2023-01-11T11:54:28.886Z"
   },
   {
    "duration": 0,
    "start_time": "2023-01-11T11:54:28.888Z"
   },
   {
    "duration": 0,
    "start_time": "2023-01-11T11:54:28.890Z"
   },
   {
    "duration": 0,
    "start_time": "2023-01-11T11:54:28.891Z"
   },
   {
    "duration": 0,
    "start_time": "2023-01-11T11:54:28.892Z"
   },
   {
    "duration": 0,
    "start_time": "2023-01-11T11:54:28.894Z"
   },
   {
    "duration": 0,
    "start_time": "2023-01-11T11:54:28.895Z"
   },
   {
    "duration": 0,
    "start_time": "2023-01-11T11:54:28.897Z"
   },
   {
    "duration": 0,
    "start_time": "2023-01-11T11:54:28.899Z"
   },
   {
    "duration": 0,
    "start_time": "2023-01-11T11:54:28.900Z"
   },
   {
    "duration": 0,
    "start_time": "2023-01-11T11:54:28.901Z"
   },
   {
    "duration": 0,
    "start_time": "2023-01-11T11:54:28.903Z"
   },
   {
    "duration": 0,
    "start_time": "2023-01-11T11:54:28.904Z"
   },
   {
    "duration": 0,
    "start_time": "2023-01-11T11:54:28.906Z"
   },
   {
    "duration": 0,
    "start_time": "2023-01-11T11:54:28.955Z"
   },
   {
    "duration": 0,
    "start_time": "2023-01-11T11:54:28.958Z"
   },
   {
    "duration": 0,
    "start_time": "2023-01-11T11:54:28.959Z"
   },
   {
    "duration": 0,
    "start_time": "2023-01-11T11:54:28.961Z"
   },
   {
    "duration": 0,
    "start_time": "2023-01-11T11:54:28.964Z"
   },
   {
    "duration": 0,
    "start_time": "2023-01-11T11:54:28.966Z"
   },
   {
    "duration": 0,
    "start_time": "2023-01-11T11:54:28.969Z"
   },
   {
    "duration": 0,
    "start_time": "2023-01-11T11:54:28.971Z"
   },
   {
    "duration": 1585,
    "start_time": "2023-01-11T12:02:11.714Z"
   },
   {
    "duration": 423,
    "start_time": "2023-01-11T12:02:13.301Z"
   },
   {
    "duration": 36,
    "start_time": "2023-01-11T12:02:13.727Z"
   },
   {
    "duration": 28,
    "start_time": "2023-01-11T12:02:13.766Z"
   },
   {
    "duration": 6,
    "start_time": "2023-01-11T12:02:13.797Z"
   },
   {
    "duration": 158,
    "start_time": "2023-01-11T12:02:13.805Z"
   },
   {
    "duration": 28,
    "start_time": "2023-01-11T12:02:13.964Z"
   },
   {
    "duration": 72,
    "start_time": "2023-01-11T12:02:13.994Z"
   },
   {
    "duration": 16,
    "start_time": "2023-01-11T12:02:14.068Z"
   },
   {
    "duration": 24,
    "start_time": "2023-01-11T12:02:14.087Z"
   },
   {
    "duration": 43,
    "start_time": "2023-01-11T12:02:14.113Z"
   },
   {
    "duration": 545,
    "start_time": "2023-01-11T12:02:14.158Z"
   },
   {
    "duration": 35,
    "start_time": "2023-01-11T12:02:14.705Z"
   },
   {
    "duration": 8,
    "start_time": "2023-01-11T12:02:14.754Z"
   },
   {
    "duration": 35,
    "start_time": "2023-01-11T12:02:14.764Z"
   },
   {
    "duration": 139,
    "start_time": "2023-01-11T12:02:14.801Z"
   },
   {
    "duration": 13,
    "start_time": "2023-01-11T12:02:14.942Z"
   },
   {
    "duration": 8,
    "start_time": "2023-01-11T12:02:14.957Z"
   },
   {
    "duration": 14,
    "start_time": "2023-01-11T12:02:14.967Z"
   },
   {
    "duration": 4,
    "start_time": "2023-01-11T12:02:14.983Z"
   },
   {
    "duration": 98,
    "start_time": "2023-01-11T12:02:14.989Z"
   },
   {
    "duration": 6,
    "start_time": "2023-01-11T12:02:15.089Z"
   },
   {
    "duration": 17,
    "start_time": "2023-01-11T12:02:15.096Z"
   },
   {
    "duration": 187,
    "start_time": "2023-01-11T12:02:15.116Z"
   },
   {
    "duration": 62,
    "start_time": "2023-01-11T12:02:15.304Z"
   },
   {
    "duration": 11,
    "start_time": "2023-01-11T12:02:15.368Z"
   },
   {
    "duration": 96,
    "start_time": "2023-01-11T12:02:15.381Z"
   },
   {
    "duration": 10,
    "start_time": "2023-01-11T12:02:15.482Z"
   },
   {
    "duration": 187,
    "start_time": "2023-01-11T12:02:15.493Z"
   },
   {
    "duration": 12,
    "start_time": "2023-01-11T12:02:15.682Z"
   },
   {
    "duration": 22,
    "start_time": "2023-01-11T12:02:15.696Z"
   },
   {
    "duration": 172,
    "start_time": "2023-01-11T12:02:15.721Z"
   },
   {
    "duration": 25,
    "start_time": "2023-01-11T12:02:15.895Z"
   },
   {
    "duration": 209,
    "start_time": "2023-01-11T12:02:15.923Z"
   },
   {
    "duration": 27,
    "start_time": "2023-01-11T12:02:16.134Z"
   },
   {
    "duration": 10,
    "start_time": "2023-01-11T12:02:16.163Z"
   },
   {
    "duration": 128,
    "start_time": "2023-01-11T12:02:16.176Z"
   },
   {
    "duration": 9,
    "start_time": "2023-01-11T12:02:16.306Z"
   },
   {
    "duration": 22,
    "start_time": "2023-01-11T12:02:16.318Z"
   },
   {
    "duration": 12,
    "start_time": "2023-01-11T12:02:16.356Z"
   },
   {
    "duration": 19,
    "start_time": "2023-01-11T12:02:16.370Z"
   },
   {
    "duration": 2058,
    "start_time": "2023-01-11T12:02:16.391Z"
   },
   {
    "duration": 257,
    "start_time": "2023-01-11T12:02:18.451Z"
   },
   {
    "duration": 178,
    "start_time": "2023-01-11T12:02:18.710Z"
   },
   {
    "duration": 5,
    "start_time": "2023-01-11T12:02:18.891Z"
   },
   {
    "duration": 19,
    "start_time": "2023-01-11T12:02:18.898Z"
   },
   {
    "duration": 327,
    "start_time": "2023-01-11T12:02:18.919Z"
   },
   {
    "duration": 12,
    "start_time": "2023-01-11T12:02:19.249Z"
   },
   {
    "duration": 17,
    "start_time": "2023-01-11T12:02:19.263Z"
   },
   {
    "duration": 41,
    "start_time": "2023-01-11T12:02:19.282Z"
   },
   {
    "duration": 26,
    "start_time": "2023-01-11T12:02:19.325Z"
   },
   {
    "duration": 19,
    "start_time": "2023-01-11T12:02:19.352Z"
   },
   {
    "duration": 24,
    "start_time": "2023-01-11T12:02:19.373Z"
   },
   {
    "duration": 20,
    "start_time": "2023-01-11T12:02:19.399Z"
   },
   {
    "duration": 49,
    "start_time": "2023-01-11T12:02:19.421Z"
   },
   {
    "duration": 18,
    "start_time": "2023-01-11T12:02:19.472Z"
   },
   {
    "duration": 12,
    "start_time": "2023-01-11T12:02:19.493Z"
   },
   {
    "duration": 4374,
    "start_time": "2023-01-11T12:02:19.507Z"
   },
   {
    "duration": 2200,
    "start_time": "2023-01-11T12:02:23.882Z"
   },
   {
    "duration": 71,
    "start_time": "2023-01-11T12:02:26.084Z"
   },
   {
    "duration": 148,
    "start_time": "2023-01-11T12:02:26.157Z"
   },
   {
    "duration": 103,
    "start_time": "2023-01-11T12:02:26.308Z"
   },
   {
    "duration": 62,
    "start_time": "2023-01-11T12:02:26.414Z"
   },
   {
    "duration": 3,
    "start_time": "2023-01-11T12:02:26.478Z"
   },
   {
    "duration": 7,
    "start_time": "2023-01-11T12:02:26.483Z"
   },
   {
    "duration": 11,
    "start_time": "2023-01-11T12:02:26.492Z"
   },
   {
    "duration": 9,
    "start_time": "2023-01-11T12:02:26.505Z"
   },
   {
    "duration": 15,
    "start_time": "2023-01-11T12:02:26.516Z"
   },
   {
    "duration": 4,
    "start_time": "2023-01-11T12:02:26.555Z"
   },
   {
    "duration": 41,
    "start_time": "2023-01-11T12:02:26.561Z"
   },
   {
    "duration": 12,
    "start_time": "2023-01-11T12:02:26.605Z"
   },
   {
    "duration": 41,
    "start_time": "2023-01-11T12:02:26.619Z"
   },
   {
    "duration": 4,
    "start_time": "2023-01-11T12:02:26.663Z"
   },
   {
    "duration": 27,
    "start_time": "2023-01-11T12:02:26.669Z"
   },
   {
    "duration": 15,
    "start_time": "2023-01-11T12:02:26.698Z"
   },
   {
    "duration": 4647,
    "start_time": "2023-01-11T12:02:26.715Z"
   },
   {
    "duration": 15255,
    "start_time": "2023-01-11T12:02:31.364Z"
   },
   {
    "duration": 115,
    "start_time": "2023-01-11T12:02:46.621Z"
   },
   {
    "duration": 17,
    "start_time": "2023-01-11T12:02:46.738Z"
   },
   {
    "duration": 9,
    "start_time": "2023-01-11T12:02:46.758Z"
   },
   {
    "duration": 12,
    "start_time": "2023-01-11T12:02:46.770Z"
   },
   {
    "duration": 5,
    "start_time": "2023-01-11T12:02:46.790Z"
   },
   {
    "duration": 8,
    "start_time": "2023-01-11T12:02:46.798Z"
   },
   {
    "duration": 2847,
    "start_time": "2023-01-11T12:02:46.808Z"
   },
   {
    "duration": 3,
    "start_time": "2023-01-11T12:02:49.656Z"
   },
   {
    "duration": 9,
    "start_time": "2023-01-11T12:02:49.661Z"
   },
   {
    "duration": 6,
    "start_time": "2023-01-11T12:02:49.672Z"
   },
   {
    "duration": 13,
    "start_time": "2023-01-11T12:02:49.680Z"
   },
   {
    "duration": 6,
    "start_time": "2023-01-11T12:02:49.695Z"
   },
   {
    "duration": 499,
    "start_time": "2023-01-11T12:02:49.703Z"
   }
  ],
  "kernelspec": {
   "display_name": "Python 3 (ipykernel)",
   "language": "python",
   "name": "python3"
  },
  "language_info": {
   "codemirror_mode": {
    "name": "ipython",
    "version": 3
   },
   "file_extension": ".py",
   "mimetype": "text/x-python",
   "name": "python",
   "nbconvert_exporter": "python",
   "pygments_lexer": "ipython3",
   "version": "3.9.16"
  },
  "toc": {
   "base_numbering": 1,
   "nav_menu": {},
   "number_sections": true,
   "sideBar": true,
   "skip_h1_title": true,
   "title_cell": "Table of Contents",
   "title_sidebar": "Contents",
   "toc_cell": true,
   "toc_position": {
    "height": "calc(100% - 180px)",
    "left": "10px",
    "top": "150px",
    "width": "249px"
   },
   "toc_section_display": true,
   "toc_window_display": true
  },
  "varInspector": {
   "cols": {
    "lenName": 16,
    "lenType": 16,
    "lenVar": 40
   },
   "kernels_config": {
    "python": {
     "delete_cmd_postfix": "",
     "delete_cmd_prefix": "del ",
     "library": "var_list.py",
     "varRefreshCmd": "print(var_dic_list())"
    },
    "r": {
     "delete_cmd_postfix": ") ",
     "delete_cmd_prefix": "rm(",
     "library": "var_list.r",
     "varRefreshCmd": "cat(var_dic_list()) "
    }
   },
   "types_to_exclude": [
    "module",
    "function",
    "builtin_function_or_method",
    "instance",
    "_Feature"
   ],
   "window_display": true
  }
 },
 "nbformat": 4,
 "nbformat_minor": 5
}
