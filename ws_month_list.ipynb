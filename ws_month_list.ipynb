{
 "cells": [
  {
   "cell_type": "code",
   "execution_count": 6,
   "id": "99caaf88",
   "metadata": {
    "scrolled": true
   },
   "outputs": [],
   "source": [
    "#_*_coding: utf-8_*_\n",
    "import pandas as pd\n",
    "from selenium import webdriver\n",
    "from selenium.webdriver.chrome.service import Service\n",
    "#\n",
    "from sqlalchemy import create_engine\n",
    "from sqlalchemy.dialects.postgresql import DOUBLE_PRECISION\n",
    "import sqlalchemy\n",
    "import psycopg2\n",
    "import time\n",
    "import os"
   ]
  },
  {
   "cell_type": "code",
   "execution_count": 7,
   "id": "9588a15f",
   "metadata": {},
   "outputs": [],
   "source": [
    "conn_string = os.environ['PG_DB']\n",
    "cur_path = os.getcwd()\n",
    "ser = Service(cur_path+'/chromedriver')"
   ]
  },
  {
   "cell_type": "code",
   "execution_count": 8,
   "id": "d07800c6",
   "metadata": {
    "scrolled": true
   },
   "outputs": [
    {
     "data": {
      "text/plain": [
       "'оранжевая корова'"
      ]
     },
     "metadata": {},
     "output_type": "display_data"
    },
    {
     "data": {
      "text/plain": [
       "'зебра +в клеточку'"
      ]
     },
     "metadata": {},
     "output_type": "display_data"
    },
    {
     "data": {
      "text/plain": [
       "'монсики'"
      ]
     },
     "metadata": {},
     "output_type": "display_data"
    },
    {
     "data": {
      "text/plain": [
       "'тайны медовой долины'"
      ]
     },
     "metadata": {},
     "output_type": "display_data"
    },
    {
     "data": {
      "text/plain": [
       "'чучи мяучи'"
      ]
     },
     "metadata": {},
     "output_type": "display_data"
    },
    {
     "data": {
      "text/plain": [
       "'енотки'"
      ]
     },
     "metadata": {},
     "output_type": "display_data"
    },
    {
     "data": {
      "text/plain": [
       "'ну погоди каникулы'"
      ]
     },
     "metadata": {},
     "output_type": "display_data"
    },
    {
     "data": {
      "text/plain": [
       "'крутиксы'"
      ]
     },
     "metadata": {},
     "output_type": "display_data"
    },
    {
     "data": {
      "text/plain": [
       "'простоквашино'"
      ]
     },
     "metadata": {},
     "output_type": "display_data"
    },
    {
     "data": {
      "text/plain": [
       "'мартышкины мультфильм'"
      ]
     },
     "metadata": {},
     "output_type": "display_data"
    },
    {
     "data": {
      "text/plain": [
       "'приключения пети +и волка'"
      ]
     },
     "metadata": {},
     "output_type": "display_data"
    },
    {
     "data": {
      "text/plain": [
       "'умка мультфильм'"
      ]
     },
     "metadata": {},
     "output_type": "display_data"
    },
    {
     "data": {
      "text/plain": [
       "'барбоскины'"
      ]
     },
     "metadata": {},
     "output_type": "display_data"
    },
    {
     "data": {
      "text/plain": [
       "'добр бобр'"
      ]
     },
     "metadata": {},
     "output_type": "display_data"
    },
    {
     "data": {
      "text/plain": [
       "'бодо бородо'"
      ]
     },
     "metadata": {},
     "output_type": "display_data"
    },
    {
     "data": {
      "text/plain": [
       "'буба'"
      ]
     },
     "metadata": {},
     "output_type": "display_data"
    },
    {
     "data": {
      "text/plain": [
       "'губка боб'"
      ]
     },
     "metadata": {},
     "output_type": "display_data"
    },
    {
     "data": {
      "text/plain": [
       "'деревяшки'"
      ]
     },
     "metadata": {},
     "output_type": "display_data"
    },
    {
     "data": {
      "text/plain": [
       "'дракоша тоша'"
      ]
     },
     "metadata": {},
     "output_type": "display_data"
    },
    {
     "data": {
      "text/plain": [
       "'йоко мультик'"
      ]
     },
     "metadata": {},
     "output_type": "display_data"
    },
    {
     "data": {
      "text/plain": [
       "'кошечки собачки'"
      ]
     },
     "metadata": {},
     "output_type": "display_data"
    },
    {
     "data": {
      "text/plain": [
       "'лекс +и плу'"
      ]
     },
     "metadata": {},
     "output_type": "display_data"
    },
    {
     "data": {
      "text/plain": [
       "'лео +и тиг'"
      ]
     },
     "metadata": {},
     "output_type": "display_data"
    },
    {
     "data": {
      "text/plain": [
       "'лунтик'"
      ]
     },
     "metadata": {},
     "output_type": "display_data"
    },
    {
     "data": {
      "text/plain": [
       "'маша +и медведь'"
      ]
     },
     "metadata": {},
     "output_type": "display_data"
    },
    {
     "data": {
      "text/plain": [
       "'мимимишки'"
      ]
     },
     "metadata": {},
     "output_type": "display_data"
    },
    {
     "data": {
      "text/plain": [
       "'сказочный патруль'"
      ]
     },
     "metadata": {},
     "output_type": "display_data"
    },
    {
     "data": {
      "text/plain": [
       "'спина +к спине мультик'"
      ]
     },
     "metadata": {},
     "output_type": "display_data"
    },
    {
     "data": {
      "text/plain": [
       "'три кота'"
      ]
     },
     "metadata": {},
     "output_type": "display_data"
    },
    {
     "data": {
      "text/plain": [
       "'фееринки'"
      ]
     },
     "metadata": {},
     "output_type": "display_data"
    },
    {
     "data": {
      "text/plain": [
       "'цветняшки'"
      ]
     },
     "metadata": {},
     "output_type": "display_data"
    },
    {
     "data": {
      "text/plain": [
       "'мультсериал черепашки'"
      ]
     },
     "metadata": {},
     "output_type": "display_data"
    },
    {
     "data": {
      "text/plain": [
       "'смешарики'"
      ]
     },
     "metadata": {},
     "output_type": "display_data"
    },
    {
     "data": {
      "text/plain": [
       "'фиксики'"
      ]
     },
     "metadata": {},
     "output_type": "display_data"
    },
    {
     "data": {
      "text/plain": [
       "'малышарики'"
      ]
     },
     "metadata": {},
     "output_type": "display_data"
    },
    {
     "data": {
      "text/plain": [
       "'44 котенка'"
      ]
     },
     "metadata": {},
     "output_type": "display_data"
    },
    {
     "data": {
      "text/plain": [
       "'мультик бен тен'"
      ]
     },
     "metadata": {},
     "output_type": "display_data"
    },
    {
     "data": {
      "text/plain": [
       "'cry babies magic tears'"
      ]
     },
     "metadata": {},
     "output_type": "display_data"
    },
    {
     "data": {
      "text/plain": [
       "'enchantimals мультик'"
      ]
     },
     "metadata": {},
     "output_type": "display_data"
    },
    {
     "data": {
      "text/plain": [
       "'мультсериал take +my muffin'"
      ]
     },
     "metadata": {},
     "output_type": "display_data"
    },
    {
     "data": {
      "text/plain": [
       "'приключения ам няма'"
      ]
     },
     "metadata": {},
     "output_type": "display_data"
    },
    {
     "data": {
      "text/plain": [
       "'мультик белка +и стрелка'"
      ]
     },
     "metadata": {},
     "output_type": "display_data"
    },
    {
     "data": {
      "text/plain": [
       "'буренка даша'"
      ]
     },
     "metadata": {},
     "output_type": "display_data"
    },
    {
     "data": {
      "text/plain": [
       "'время приключений мультсериал'"
      ]
     },
     "metadata": {},
     "output_type": "display_data"
    },
    {
     "data": {
      "text/plain": [
       "'герои энвелла'"
      ]
     },
     "metadata": {},
     "output_type": "display_data"
    },
    {
     "data": {
      "text/plain": [
       "'геройчики'"
      ]
     },
     "metadata": {},
     "output_type": "display_data"
    },
    {
     "data": {
      "text/plain": [
       "'мультики говорящий кот +том'"
      ]
     },
     "metadata": {},
     "output_type": "display_data"
    },
    {
     "data": {
      "text/plain": [
       "'мультик гормити'"
      ]
     },
     "metadata": {},
     "output_type": "display_data"
    },
    {
     "data": {
      "text/plain": [
       "'гравитю фолз'"
      ]
     },
     "metadata": {},
     "output_type": "display_data"
    },
    {
     "data": {
      "text/plain": [
       "'джинглики'"
      ]
     },
     "metadata": {},
     "output_type": "display_data"
    },
    {
     "data": {
      "text/plain": [
       "'диносити'"
      ]
     },
     "metadata": {},
     "output_type": "display_data"
    },
    {
     "data": {
      "text/plain": [
       "'доктор плюшева'"
      ]
     },
     "metadata": {},
     "output_type": "display_data"
    },
    {
     "data": {
      "text/plain": [
       "'звездная принцесса +и силы зла'"
      ]
     },
     "metadata": {},
     "output_type": "display_data"
    },
    {
     "data": {
      "text/plain": [
       "'история изобретений мультфильм'"
      ]
     },
     "metadata": {},
     "output_type": "display_data"
    },
    {
     "data": {
      "text/plain": [
       "'команда флоры'"
      ]
     },
     "metadata": {},
     "output_type": "display_data"
    },
    {
     "data": {
      "text/plain": [
       "'консунь'"
      ]
     },
     "metadata": {},
     "output_type": "display_data"
    },
    {
     "data": {
      "text/plain": [
       "'mya go'"
      ]
     },
     "metadata": {},
     "output_type": "display_data"
    },
    {
     "data": {
      "text/plain": [
       "'масяня мультсериал'"
      ]
     },
     "metadata": {},
     "output_type": "display_data"
    },
    {
     "data": {
      "text/plain": [
       "'мира +и гоша'"
      ]
     },
     "metadata": {},
     "output_type": "display_data"
    },
    {
     "data": {
      "text/plain": [
       "'нелла отважная принцесса'"
      ]
     },
     "metadata": {},
     "output_type": "display_data"
    },
    {
     "data": {
      "text/plain": [
       "'пороро'"
      ]
     },
     "metadata": {},
     "output_type": "display_data"
    },
    {
     "data": {
      "text/plain": [
       "'пугашки'"
      ]
     },
     "metadata": {},
     "output_type": "display_data"
    },
    {
     "data": {
      "text/plain": [
       "'пчелка майя'"
      ]
     },
     "metadata": {},
     "output_type": "display_data"
    },
    {
     "data": {
      "text/plain": [
       "'рик +и морти'"
      ]
     },
     "metadata": {},
     "output_type": "display_data"
    },
    {
     "data": {
      "text/plain": [
       "'свинка пеппа'"
      ]
     },
     "metadata": {},
     "output_type": "display_data"
    },
    {
     "data": {
      "text/plain": [
       "'синий трактор'"
      ]
     },
     "metadata": {},
     "output_type": "display_data"
    },
    {
     "data": {
      "text/plain": [
       "'супер мяу'"
      ]
     },
     "metadata": {},
     "output_type": "display_data"
    },
    {
     "data": {
      "text/plain": [
       "'тима +и тома'"
      ]
     },
     "metadata": {},
     "output_type": "display_data"
    },
    {
     "data": {
      "text/plain": [
       "'томе джерри'"
      ]
     },
     "metadata": {},
     "output_type": "display_data"
    },
    {
     "data": {
      "text/plain": [
       "'тру +и радужное королевство'"
      ]
     },
     "metadata": {},
     "output_type": "display_data"
    },
    {
     "data": {
      "text/plain": [
       "'финес +и ферб'"
      ]
     },
     "metadata": {},
     "output_type": "display_data"
    },
    {
     "data": {
      "text/plain": [
       "'черепашки ниндзя'"
      ]
     },
     "metadata": {},
     "output_type": "display_data"
    },
    {
     "data": {
      "text/plain": [
       "'четверо +в кубе'"
      ]
     },
     "metadata": {},
     "output_type": "display_data"
    },
    {
     "data": {
      "text/plain": [
       "'чуддики'"
      ]
     },
     "metadata": {},
     "output_type": "display_data"
    },
    {
     "data": {
      "text/plain": [
       "'шиммер +и шайн'"
      ]
     },
     "metadata": {},
     "output_type": "display_data"
    },
    {
     "data": {
      "text/plain": [
       "'щенячий патруль'"
      ]
     },
     "metadata": {},
     "output_type": "display_data"
    },
    {
     "data": {
      "text/plain": [
       "'юху +и +его друзья'"
      ]
     },
     "metadata": {},
     "output_type": "display_data"
    },
    {
     "data": {
      "text/plain": [
       "['оранжевая корова',\n",
       " 'зебра +в клеточку',\n",
       " 'монсики',\n",
       " 'тайны медовой долины',\n",
       " 'чучи мяучи',\n",
       " 'енотки',\n",
       " 'ну погоди каникулы',\n",
       " 'крутиксы',\n",
       " 'простоквашино',\n",
       " 'мартышкины мультфильм',\n",
       " 'приключения пети +и волка',\n",
       " 'умка мультфильм',\n",
       " 'барбоскины',\n",
       " 'добр бобр',\n",
       " 'бодо бородо',\n",
       " 'буба',\n",
       " 'губка боб',\n",
       " 'деревяшки',\n",
       " 'дракоша тоша',\n",
       " 'йоко мультик',\n",
       " 'кошечки собачки',\n",
       " 'лекс +и плу',\n",
       " 'лео +и тиг',\n",
       " 'лунтик',\n",
       " 'маша +и медведь',\n",
       " 'мимимишки',\n",
       " 'сказочный патруль',\n",
       " 'спина +к спине мультик',\n",
       " 'три кота',\n",
       " 'фееринки',\n",
       " 'цветняшки',\n",
       " 'мультсериал черепашки',\n",
       " 'смешарики',\n",
       " 'фиксики',\n",
       " 'малышарики',\n",
       " '44 котенка',\n",
       " 'мультик бен тен',\n",
       " 'cry babies magic tears',\n",
       " 'enchantimals мультик',\n",
       " 'мультсериал take +my muffin',\n",
       " 'приключения ам няма',\n",
       " 'мультик белка +и стрелка',\n",
       " 'буренка даша',\n",
       " 'время приключений мультсериал',\n",
       " 'герои энвелла',\n",
       " 'геройчики',\n",
       " 'мультики говорящий кот +том',\n",
       " 'мультик гормити',\n",
       " 'гравитю фолз',\n",
       " 'джинглики',\n",
       " 'диносити',\n",
       " 'доктор плюшева',\n",
       " 'звездная принцесса +и силы зла',\n",
       " 'история изобретений мультфильм',\n",
       " 'команда флоры',\n",
       " 'консунь',\n",
       " 'mya go',\n",
       " 'масяня мультсериал',\n",
       " 'мира +и гоша',\n",
       " 'нелла отважная принцесса',\n",
       " 'пороро',\n",
       " 'пугашки',\n",
       " 'пчелка майя',\n",
       " 'рик +и морти',\n",
       " 'свинка пеппа',\n",
       " 'синий трактор',\n",
       " 'супер мяу',\n",
       " 'тима +и тома',\n",
       " 'томе джерри',\n",
       " 'тру +и радужное королевство',\n",
       " 'финес +и ферб',\n",
       " 'черепашки ниндзя',\n",
       " 'четверо +в кубе',\n",
       " 'чуддики',\n",
       " 'шиммер +и шайн',\n",
       " 'щенячий патруль',\n",
       " 'юху +и +его друзья']"
      ]
     },
     "metadata": {},
     "output_type": "display_data"
    }
   ],
   "source": [
    "df_k = pd.read_excel(\"keywords.xlsx\", sheet_name=None)\n",
    "list_word=[]\n",
    "for project in df_k.keys():\n",
    "    display(df_k[project]['Статистика по словам'][0])\n",
    "    list_word.append(df_k[project]['Статистика по словам'][0])\n",
    "#display(list_word)\n",
    "#list_word.append(df_k[project]['Статистика по словам'][0])\n",
    "display(list_word)"
   ]
  },
  {
   "cell_type": "code",
   "execution_count": 14,
   "id": "6e933d73",
   "metadata": {},
   "outputs": [
    {
     "ename": "NoSuchWindowException",
     "evalue": "Message: no such window: target window already closed\nfrom unknown error: web view not found\n  (Session info: chrome=110.0.5481.177)\nStacktrace:\n0   chromedriver                        0x0000000106efd138 chromedriver + 4923704\n1   chromedriver                        0x0000000106e759d3 chromedriver + 4368851\n2   chromedriver                        0x0000000106abe787 chromedriver + 472967\n3   chromedriver                        0x0000000106a94c15 chromedriver + 302101\n4   chromedriver                        0x0000000106b314cf chromedriver + 943311\n5   chromedriver                        0x0000000106b462c6 chromedriver + 1028806\n6   chromedriver                        0x0000000106b2bd23 chromedriver + 920867\n7   chromedriver                        0x0000000106af2a4b chromedriver + 686667\n8   chromedriver                        0x0000000106af4044 chromedriver + 692292\n9   chromedriver                        0x0000000106ec88fe chromedriver + 4708606\n10  chromedriver                        0x0000000106ecde22 chromedriver + 4730402\n11  chromedriver                        0x0000000106ed66bf chromedriver + 4765375\n12  chromedriver                        0x0000000106ecee80 chromedriver + 4734592\n13  chromedriver                        0x0000000106e9f975 chromedriver + 4540789\n14  chromedriver                        0x0000000106ef0e78 chromedriver + 4873848\n15  chromedriver                        0x0000000106ef0ff5 chromedriver + 4874229\n16  chromedriver                        0x0000000106f056de chromedriver + 4957918\n17  libsystem_pthread.dylib             0x00007fff2090d8fc _pthread_start + 224\n18  libsystem_pthread.dylib             0x00007fff20909443 thread_start + 15\n",
     "output_type": "error",
     "traceback": [
      "\u001b[0;31m---------------------------------------------------------------------------\u001b[0m",
      "\u001b[0;31mNoSuchWindowException\u001b[0m                     Traceback (most recent call last)",
      "Cell \u001b[0;32mIn [14], line 11\u001b[0m\n\u001b[1;32m      9\u001b[0m browser\u001b[38;5;241m.\u001b[39mget(\u001b[38;5;124mr\u001b[39m\u001b[38;5;124m'\u001b[39m\u001b[38;5;124mhttps://wordstat.yandex.ru/#!/history?words=\u001b[39m\u001b[38;5;124m'\u001b[39m\u001b[38;5;241m+\u001b[39mkeyword)\n\u001b[1;32m     10\u001b[0m time\u001b[38;5;241m.\u001b[39msleep(\u001b[38;5;241m15\u001b[39m)\n\u001b[0;32m---> 11\u001b[0m html \u001b[38;5;241m=\u001b[39m \u001b[43mbrowser\u001b[49m\u001b[38;5;241;43m.\u001b[39;49m\u001b[43mpage_source\u001b[49m\n\u001b[1;32m     12\u001b[0m time\u001b[38;5;241m.\u001b[39msleep(\u001b[38;5;241m1\u001b[39m)\n\u001b[1;32m     13\u001b[0m browser\u001b[38;5;241m.\u001b[39mclose()\n",
      "File \u001b[0;32m/usr/local/lib/python3.10/site-packages/selenium/webdriver/remote/webdriver.py:540\u001b[0m, in \u001b[0;36mWebDriver.page_source\u001b[0;34m(self)\u001b[0m\n\u001b[1;32m    530\u001b[0m \u001b[38;5;129m@property\u001b[39m\n\u001b[1;32m    531\u001b[0m \u001b[38;5;28;01mdef\u001b[39;00m \u001b[38;5;21mpage_source\u001b[39m(\u001b[38;5;28mself\u001b[39m) \u001b[38;5;241m-\u001b[39m\u001b[38;5;241m>\u001b[39m \u001b[38;5;28mstr\u001b[39m:\n\u001b[1;32m    532\u001b[0m     \u001b[38;5;124;03m\"\"\"\u001b[39;00m\n\u001b[1;32m    533\u001b[0m \u001b[38;5;124;03m    Gets the source of the current page.\u001b[39;00m\n\u001b[1;32m    534\u001b[0m \n\u001b[0;32m   (...)\u001b[0m\n\u001b[1;32m    538\u001b[0m \u001b[38;5;124;03m            driver.page_source\u001b[39;00m\n\u001b[1;32m    539\u001b[0m \u001b[38;5;124;03m    \"\"\"\u001b[39;00m\n\u001b[0;32m--> 540\u001b[0m     \u001b[38;5;28;01mreturn\u001b[39;00m \u001b[38;5;28;43mself\u001b[39;49m\u001b[38;5;241;43m.\u001b[39;49m\u001b[43mexecute\u001b[49m\u001b[43m(\u001b[49m\u001b[43mCommand\u001b[49m\u001b[38;5;241;43m.\u001b[39;49m\u001b[43mGET_PAGE_SOURCE\u001b[49m\u001b[43m)\u001b[49m[\u001b[38;5;124m'\u001b[39m\u001b[38;5;124mvalue\u001b[39m\u001b[38;5;124m'\u001b[39m]\n",
      "File \u001b[0;32m/usr/local/lib/python3.10/site-packages/selenium/webdriver/remote/webdriver.py:429\u001b[0m, in \u001b[0;36mWebDriver.execute\u001b[0;34m(self, driver_command, params)\u001b[0m\n\u001b[1;32m    427\u001b[0m response \u001b[38;5;241m=\u001b[39m \u001b[38;5;28mself\u001b[39m\u001b[38;5;241m.\u001b[39mcommand_executor\u001b[38;5;241m.\u001b[39mexecute(driver_command, params)\n\u001b[1;32m    428\u001b[0m \u001b[38;5;28;01mif\u001b[39;00m response:\n\u001b[0;32m--> 429\u001b[0m     \u001b[38;5;28;43mself\u001b[39;49m\u001b[38;5;241;43m.\u001b[39;49m\u001b[43merror_handler\u001b[49m\u001b[38;5;241;43m.\u001b[39;49m\u001b[43mcheck_response\u001b[49m\u001b[43m(\u001b[49m\u001b[43mresponse\u001b[49m\u001b[43m)\u001b[49m\n\u001b[1;32m    430\u001b[0m     response[\u001b[38;5;124m'\u001b[39m\u001b[38;5;124mvalue\u001b[39m\u001b[38;5;124m'\u001b[39m] \u001b[38;5;241m=\u001b[39m \u001b[38;5;28mself\u001b[39m\u001b[38;5;241m.\u001b[39m_unwrap_value(\n\u001b[1;32m    431\u001b[0m         response\u001b[38;5;241m.\u001b[39mget(\u001b[38;5;124m'\u001b[39m\u001b[38;5;124mvalue\u001b[39m\u001b[38;5;124m'\u001b[39m, \u001b[38;5;28;01mNone\u001b[39;00m))\n\u001b[1;32m    432\u001b[0m     \u001b[38;5;28;01mreturn\u001b[39;00m response\n",
      "File \u001b[0;32m/usr/local/lib/python3.10/site-packages/selenium/webdriver/remote/errorhandler.py:243\u001b[0m, in \u001b[0;36mErrorHandler.check_response\u001b[0;34m(self, response)\u001b[0m\n\u001b[1;32m    241\u001b[0m         alert_text \u001b[38;5;241m=\u001b[39m value[\u001b[38;5;124m'\u001b[39m\u001b[38;5;124malert\u001b[39m\u001b[38;5;124m'\u001b[39m]\u001b[38;5;241m.\u001b[39mget(\u001b[38;5;124m'\u001b[39m\u001b[38;5;124mtext\u001b[39m\u001b[38;5;124m'\u001b[39m)\n\u001b[1;32m    242\u001b[0m     \u001b[38;5;28;01mraise\u001b[39;00m exception_class(message, screen, stacktrace, alert_text)  \u001b[38;5;66;03m# type: ignore[call-arg]  # mypy is not smart enough here\u001b[39;00m\n\u001b[0;32m--> 243\u001b[0m \u001b[38;5;28;01mraise\u001b[39;00m exception_class(message, screen, stacktrace)\n",
      "\u001b[0;31mNoSuchWindowException\u001b[0m: Message: no such window: target window already closed\nfrom unknown error: web view not found\n  (Session info: chrome=110.0.5481.177)\nStacktrace:\n0   chromedriver                        0x0000000106efd138 chromedriver + 4923704\n1   chromedriver                        0x0000000106e759d3 chromedriver + 4368851\n2   chromedriver                        0x0000000106abe787 chromedriver + 472967\n3   chromedriver                        0x0000000106a94c15 chromedriver + 302101\n4   chromedriver                        0x0000000106b314cf chromedriver + 943311\n5   chromedriver                        0x0000000106b462c6 chromedriver + 1028806\n6   chromedriver                        0x0000000106b2bd23 chromedriver + 920867\n7   chromedriver                        0x0000000106af2a4b chromedriver + 686667\n8   chromedriver                        0x0000000106af4044 chromedriver + 692292\n9   chromedriver                        0x0000000106ec88fe chromedriver + 4708606\n10  chromedriver                        0x0000000106ecde22 chromedriver + 4730402\n11  chromedriver                        0x0000000106ed66bf chromedriver + 4765375\n12  chromedriver                        0x0000000106ecee80 chromedriver + 4734592\n13  chromedriver                        0x0000000106e9f975 chromedriver + 4540789\n14  chromedriver                        0x0000000106ef0e78 chromedriver + 4873848\n15  chromedriver                        0x0000000106ef0ff5 chromedriver + 4874229\n16  chromedriver                        0x0000000106f056de chromedriver + 4957918\n17  libsystem_pthread.dylib             0x00007fff2090d8fc _pthread_start + 224\n18  libsystem_pthread.dylib             0x00007fff20909443 thread_start + 15\n"
     ]
    }
   ],
   "source": [
    "options = webdriver.ChromeOptions()\n",
    "# get source code\n",
    "df_list=[]\n",
    "for keyword in list_word:\n",
    "    options.add_argument(\"--user-data-dir=\"+cur_path+\"/profile\")\n",
    "    browser=webdriver.Chrome(service=ser, options=options)\n",
    "    #https://wordstat.yandex.ru/#!/history?words=простоквашино\n",
    "    browser.get(r'https://wordstat.yandex.ru/#!/history?words='+keyword)\n",
    "    time.sleep(15)\n",
    "    html = browser.page_source\n",
    "    time.sleep(1)\n",
    "    browser.close()\n",
    "    dfs = pd.read_html(html)\n",
    "    df_1 = dfs[8]\n",
    "    df_1 = df_1.drop(df_1.columns[[1,3]], axis = 1)\n",
    "    df_1 = df_1.drop(0, axis = 0)\n",
    "    df_2 = dfs[10]\n",
    "    df_2 = df_2.drop(df_2.columns[[1,3]], axis = 1)\n",
    "    df_2 = df_2.drop(0, axis = 0)\n",
    "    df = pd.concat([df_1, df_2])\n",
    "    df = df.reset_index()\n",
    "    df[\"request\"] = keyword\n",
    "    df = df.drop(df.columns[[0]], axis = 1)\n",
    "    df_list.append(df)\n",
    "df_all=pd.concat(df_list)"
   ]
  },
  {
   "cell_type": "code",
   "execution_count": 12,
   "id": "624564e6",
   "metadata": {},
   "outputs": [
    {
     "ename": "NameError",
     "evalue": "name 'df_all' is not defined",
     "output_type": "error",
     "traceback": [
      "\u001b[0;31m---------------------------------------------------------------------------\u001b[0m",
      "\u001b[0;31mNameError\u001b[0m                                 Traceback (most recent call last)",
      "Cell \u001b[0;32mIn [12], line 1\u001b[0m\n\u001b[0;32m----> 1\u001b[0m display(\u001b[43mdf_all\u001b[49m)\n",
      "\u001b[0;31mNameError\u001b[0m: name 'df_all' is not defined"
     ]
    }
   ],
   "source": [
    "display(df_all)"
   ]
  },
  {
   "cell_type": "code",
   "execution_count": 5,
   "id": "3f2c11c6",
   "metadata": {},
   "outputs": [],
   "source": [
    "df_all['date_from']= df_all['Период'].str.split('-', n=1, expand=True)[0].str.strip()\n",
    "df_all['date_to']= df_all['Период'].str.split('-', n=1, expand=True)[1].str.strip()\n",
    "df_all.date_from = pd.to_datetime(df_all.date_from,  format = '%d.%m.%Y')\n",
    "df_all.date_to = pd.to_datetime(df_all.date_to, format = '%d.%m.%Y')"
   ]
  },
  {
   "cell_type": "code",
   "execution_count": 6,
   "id": "7f4adb92",
   "metadata": {},
   "outputs": [],
   "source": [
    "df_all = df_all.reset_index()"
   ]
  },
  {
   "cell_type": "code",
   "execution_count": 10,
   "id": "e8334715",
   "metadata": {},
   "outputs": [
    {
     "data": {
      "text/html": [
       "<div>\n",
       "<style scoped>\n",
       "    .dataframe tbody tr th:only-of-type {\n",
       "        vertical-align: middle;\n",
       "    }\n",
       "\n",
       "    .dataframe tbody tr th {\n",
       "        vertical-align: top;\n",
       "    }\n",
       "\n",
       "    .dataframe thead th {\n",
       "        text-align: right;\n",
       "    }\n",
       "</style>\n",
       "<table border=\"1\" class=\"dataframe\">\n",
       "  <thead>\n",
       "    <tr style=\"text-align: right;\">\n",
       "      <th></th>\n",
       "      <th>index</th>\n",
       "      <th>Период</th>\n",
       "      <th>Абсолютное</th>\n",
       "      <th>request</th>\n",
       "      <th>date_from</th>\n",
       "      <th>date_to</th>\n",
       "    </tr>\n",
       "  </thead>\n",
       "  <tbody>\n",
       "    <tr>\n",
       "      <th>0</th>\n",
       "      <td>0</td>\n",
       "      <td>01.02.2021 - 28.02.2021</td>\n",
       "      <td>150286.0</td>\n",
       "      <td>оранжевая корова</td>\n",
       "      <td>2021-02-01</td>\n",
       "      <td>2021-02-28</td>\n",
       "    </tr>\n",
       "    <tr>\n",
       "      <th>1</th>\n",
       "      <td>1</td>\n",
       "      <td>01.03.2021 - 31.03.2021</td>\n",
       "      <td>158857.0</td>\n",
       "      <td>оранжевая корова</td>\n",
       "      <td>2021-03-01</td>\n",
       "      <td>2021-03-31</td>\n",
       "    </tr>\n",
       "    <tr>\n",
       "      <th>2</th>\n",
       "      <td>2</td>\n",
       "      <td>01.04.2021 - 30.04.2021</td>\n",
       "      <td>161684.0</td>\n",
       "      <td>оранжевая корова</td>\n",
       "      <td>2021-04-01</td>\n",
       "      <td>2021-04-30</td>\n",
       "    </tr>\n",
       "    <tr>\n",
       "      <th>3</th>\n",
       "      <td>3</td>\n",
       "      <td>01.05.2021 - 31.05.2021</td>\n",
       "      <td>155542.0</td>\n",
       "      <td>оранжевая корова</td>\n",
       "      <td>2021-05-01</td>\n",
       "      <td>2021-05-31</td>\n",
       "    </tr>\n",
       "    <tr>\n",
       "      <th>4</th>\n",
       "      <td>4</td>\n",
       "      <td>01.06.2021 - 30.06.2021</td>\n",
       "      <td>150960.0</td>\n",
       "      <td>оранжевая корова</td>\n",
       "      <td>2021-06-01</td>\n",
       "      <td>2021-06-30</td>\n",
       "    </tr>\n",
       "    <tr>\n",
       "      <th>...</th>\n",
       "      <td>...</td>\n",
       "      <td>...</td>\n",
       "      <td>...</td>\n",
       "      <td>...</td>\n",
       "      <td>...</td>\n",
       "      <td>...</td>\n",
       "    </tr>\n",
       "    <tr>\n",
       "      <th>1843</th>\n",
       "      <td>19</td>\n",
       "      <td>01.09.2022 - 30.09.2022</td>\n",
       "      <td>6756.0</td>\n",
       "      <td>юху +и +его друзья</td>\n",
       "      <td>2022-09-01</td>\n",
       "      <td>2022-09-30</td>\n",
       "    </tr>\n",
       "    <tr>\n",
       "      <th>1844</th>\n",
       "      <td>20</td>\n",
       "      <td>01.10.2022 - 31.10.2022</td>\n",
       "      <td>8475.0</td>\n",
       "      <td>юху +и +его друзья</td>\n",
       "      <td>2022-10-01</td>\n",
       "      <td>2022-10-31</td>\n",
       "    </tr>\n",
       "    <tr>\n",
       "      <th>1845</th>\n",
       "      <td>21</td>\n",
       "      <td>01.11.2022 - 30.11.2022</td>\n",
       "      <td>7534.0</td>\n",
       "      <td>юху +и +его друзья</td>\n",
       "      <td>2022-11-01</td>\n",
       "      <td>2022-11-30</td>\n",
       "    </tr>\n",
       "    <tr>\n",
       "      <th>1846</th>\n",
       "      <td>22</td>\n",
       "      <td>01.12.2022 - 31.12.2022</td>\n",
       "      <td>8003.0</td>\n",
       "      <td>юху +и +его друзья</td>\n",
       "      <td>2022-12-01</td>\n",
       "      <td>2022-12-31</td>\n",
       "    </tr>\n",
       "    <tr>\n",
       "      <th>1847</th>\n",
       "      <td>23</td>\n",
       "      <td>01.01.2023 - 31.01.2023</td>\n",
       "      <td>7500.0</td>\n",
       "      <td>юху +и +его друзья</td>\n",
       "      <td>2023-01-01</td>\n",
       "      <td>2023-01-31</td>\n",
       "    </tr>\n",
       "  </tbody>\n",
       "</table>\n",
       "<p>1848 rows × 6 columns</p>\n",
       "</div>"
      ],
      "text/plain": [
       "      index                   Период  Абсолютное             request  \\\n",
       "0         0  01.02.2021 - 28.02.2021    150286.0    оранжевая корова   \n",
       "1         1  01.03.2021 - 31.03.2021    158857.0    оранжевая корова   \n",
       "2         2  01.04.2021 - 30.04.2021    161684.0    оранжевая корова   \n",
       "3         3  01.05.2021 - 31.05.2021    155542.0    оранжевая корова   \n",
       "4         4  01.06.2021 - 30.06.2021    150960.0    оранжевая корова   \n",
       "...     ...                      ...         ...                 ...   \n",
       "1843     19  01.09.2022 - 30.09.2022      6756.0  юху +и +его друзья   \n",
       "1844     20  01.10.2022 - 31.10.2022      8475.0  юху +и +его друзья   \n",
       "1845     21  01.11.2022 - 30.11.2022      7534.0  юху +и +его друзья   \n",
       "1846     22  01.12.2022 - 31.12.2022      8003.0  юху +и +его друзья   \n",
       "1847     23  01.01.2023 - 31.01.2023      7500.0  юху +и +его друзья   \n",
       "\n",
       "      date_from    date_to  \n",
       "0    2021-02-01 2021-02-28  \n",
       "1    2021-03-01 2021-03-31  \n",
       "2    2021-04-01 2021-04-30  \n",
       "3    2021-05-01 2021-05-31  \n",
       "4    2021-06-01 2021-06-30  \n",
       "...         ...        ...  \n",
       "1843 2022-09-01 2022-09-30  \n",
       "1844 2022-10-01 2022-10-31  \n",
       "1845 2022-11-01 2022-11-30  \n",
       "1846 2022-12-01 2022-12-31  \n",
       "1847 2023-01-01 2023-01-31  \n",
       "\n",
       "[1848 rows x 6 columns]"
      ]
     },
     "metadata": {},
     "output_type": "display_data"
    }
   ],
   "source": [
    "display(df_all)"
   ]
  },
  {
   "cell_type": "code",
   "execution_count": 13,
   "id": "9e2b690c",
   "metadata": {},
   "outputs": [],
   "source": [
    "db = create_engine(conn_string)\n",
    "conn = db.connect()"
   ]
  },
  {
   "cell_type": "code",
   "execution_count": 14,
   "id": "1ccce25e",
   "metadata": {},
   "outputs": [
    {
     "name": "stdout",
     "output_type": "stream",
     "text": [
      "Reading yt_reels_stat table with latest date...\n",
      "Done.\n"
     ]
    }
   ],
   "source": [
    "print(\"Reading yt_reels_stat table with latest date...\")\n",
    "df_old =  pd.read_sql(\"SELECT * FROM wordstat_monthly\", conn, parse_dates=['date_from', 'date_to'])\n",
    "print(\"Done.\")"
   ]
  },
  {
   "cell_type": "code",
   "execution_count": 58,
   "id": "38832f2c",
   "metadata": {},
   "outputs": [],
   "source": [
    "df_res = pd.concat([df_old, df_all])"
   ]
  },
  {
   "cell_type": "code",
   "execution_count": 65,
   "id": "b31182de",
   "metadata": {},
   "outputs": [],
   "source": [
    "df_res = df_res.drop_duplicates(subset = ['Период', 'request'], keep = 'last') "
   ]
  },
  {
   "cell_type": "code",
   "execution_count": 68,
   "id": "cb5cfdf4",
   "metadata": {},
   "outputs": [],
   "source": [
    "#display(df_res)"
   ]
  },
  {
   "cell_type": "code",
   "execution_count": 11,
   "id": "a58fd795",
   "metadata": {
    "scrolled": true
   },
   "outputs": [
    {
     "name": "stdout",
     "output_type": "stream",
     "text": [
      "to_sql duration: 1.855560064315796 seconds\n"
     ]
    }
   ],
   "source": [
    "inject_dict = { 'Период': sqlalchemy.types.TEXT(),  \n",
    "                'Абсолютное': sqlalchemy.types.BIGINT(), \n",
    "                'request': sqlalchemy.types.TEXT(),  \n",
    "                'date_from': sqlalchemy.types.Date(),                   \n",
    "                'date_to': sqlalchemy.types.Date(), \n",
    "                 }\n",
    "start_time = time.time()\n",
    "res = df_all.to_sql('wordstat_monthly', con=conn, if_exists='replace', index=False, dtype = inject_dict)\n",
    "print(\"to_sql duration: {} seconds\".format(time.time() - start_time))"
   ]
  }
 ],
 "metadata": {
  "kernelspec": {
   "display_name": "Python 3 (ipykernel)",
   "language": "python",
   "name": "python3"
  },
  "language_info": {
   "codemirror_mode": {
    "name": "ipython",
    "version": 3
   },
   "file_extension": ".py",
   "mimetype": "text/x-python",
   "name": "python",
   "nbconvert_exporter": "python",
   "pygments_lexer": "ipython3",
   "version": "3.10.8"
  },
  "toc": {
   "base_numbering": 1,
   "nav_menu": {},
   "number_sections": true,
   "sideBar": true,
   "skip_h1_title": false,
   "title_cell": "Table of Contents",
   "title_sidebar": "Contents",
   "toc_cell": false,
   "toc_position": {},
   "toc_section_display": true,
   "toc_window_display": false
  },
  "varInspector": {
   "cols": {
    "lenName": 16,
    "lenType": 16,
    "lenVar": 40
   },
   "kernels_config": {
    "python": {
     "delete_cmd_postfix": "",
     "delete_cmd_prefix": "del ",
     "library": "var_list.py",
     "varRefreshCmd": "print(var_dic_list())"
    },
    "r": {
     "delete_cmd_postfix": ") ",
     "delete_cmd_prefix": "rm(",
     "library": "var_list.r",
     "varRefreshCmd": "cat(var_dic_list()) "
    }
   },
   "position": {
    "height": "247px",
    "left": "942px",
    "right": "20px",
    "top": "120px",
    "width": "342px"
   },
   "types_to_exclude": [
    "module",
    "function",
    "builtin_function_or_method",
    "instance",
    "_Feature"
   ],
   "window_display": true
  }
 },
 "nbformat": 4,
 "nbformat_minor": 5
}
