{
 "cells": [
  {
   "cell_type": "code",
   "execution_count": 1,
   "id": "99caaf88",
   "metadata": {
    "scrolled": true
   },
   "outputs": [],
   "source": [
    "#_*_coding: utf-8_*_\n",
    "import pandas as pd\n",
    "from selenium import webdriver\n",
    "from selenium.webdriver.chrome.service import Service\n",
    "from sqlalchemy import create_engine\n",
    "from sqlalchemy.dialects.postgresql import DOUBLE_PRECISION\n",
    "import sqlalchemy\n",
    "import psycopg2\n",
    "import time\n",
    "import os"
   ]
  },
  {
   "cell_type": "code",
   "execution_count": 2,
   "id": "e99253ca",
   "metadata": {},
   "outputs": [],
   "source": [
    "conn_string = os.environ['PG_DB']\n",
    "cur_path = os.getcwd()\n",
    "ser = Service(cur_path+'/chromedriver')"
   ]
  },
  {
   "cell_type": "code",
   "execution_count": 3,
   "id": "d07800c6",
   "metadata": {
    "scrolled": true
   },
   "outputs": [],
   "source": [
    "df_k = pd.read_excel(\"keywords.xlsx\", sheet_name=None)\n",
    "list_word=[]\n",
    "for project in df_k.keys():\n",
    " #   display(df_k[project]['Статистика по словам'][0])\n",
    "    list_word.append(df_k[project]['Статистика по словам'][0])\n",
    "#display(list_word)"
   ]
  },
  {
   "cell_type": "code",
   "execution_count": 4,
   "id": "6e933d73",
   "metadata": {},
   "outputs": [
    {
     "ename": "NoSuchWindowException",
     "evalue": "Message: no such window: target window already closed\nfrom unknown error: web view not found\n  (Session info: chrome=110.0.5481.177)\nStacktrace:\n0   chromedriver                        0x00000001053d1138 chromedriver + 4923704\n1   chromedriver                        0x00000001053499d3 chromedriver + 4368851\n2   chromedriver                        0x0000000104f92787 chromedriver + 472967\n3   chromedriver                        0x0000000104f68c15 chromedriver + 302101\n4   chromedriver                        0x00000001050054cf chromedriver + 943311\n5   chromedriver                        0x000000010501a2c6 chromedriver + 1028806\n6   chromedriver                        0x0000000104fffd23 chromedriver + 920867\n7   chromedriver                        0x0000000104fc6a4b chromedriver + 686667\n8   chromedriver                        0x0000000104fc8044 chromedriver + 692292\n9   chromedriver                        0x000000010539c8fe chromedriver + 4708606\n10  chromedriver                        0x00000001053a1e22 chromedriver + 4730402\n11  chromedriver                        0x00000001053aa6bf chromedriver + 4765375\n12  chromedriver                        0x00000001053a2e80 chromedriver + 4734592\n13  chromedriver                        0x0000000105373975 chromedriver + 4540789\n14  chromedriver                        0x00000001053c4e78 chromedriver + 4873848\n15  chromedriver                        0x00000001053c4ff5 chromedriver + 4874229\n16  chromedriver                        0x00000001053d96de chromedriver + 4957918\n17  libsystem_pthread.dylib             0x00007fff2090d8fc _pthread_start + 224\n18  libsystem_pthread.dylib             0x00007fff20909443 thread_start + 15\n",
     "output_type": "error",
     "traceback": [
      "\u001b[0;31m---------------------------------------------------------------------------\u001b[0m",
      "\u001b[0;31mNoSuchWindowException\u001b[0m                     Traceback (most recent call last)",
      "Cell \u001b[0;32mIn [4], line 9\u001b[0m\n\u001b[1;32m      7\u001b[0m browser\u001b[38;5;241m.\u001b[39mget(\u001b[38;5;124mr\u001b[39m\u001b[38;5;124m'\u001b[39m\u001b[38;5;124mhttps://wordstat.yandex.ru/#!/history?period=weekly&words=\u001b[39m\u001b[38;5;124m'\u001b[39m\u001b[38;5;241m+\u001b[39mkeyword)\n\u001b[1;32m      8\u001b[0m time\u001b[38;5;241m.\u001b[39msleep(\u001b[38;5;241m15\u001b[39m)\n\u001b[0;32m----> 9\u001b[0m html \u001b[38;5;241m=\u001b[39m \u001b[43mbrowser\u001b[49m\u001b[38;5;241;43m.\u001b[39;49m\u001b[43mpage_source\u001b[49m\n\u001b[1;32m     10\u001b[0m time\u001b[38;5;241m.\u001b[39msleep(\u001b[38;5;241m1\u001b[39m)\n\u001b[1;32m     11\u001b[0m browser\u001b[38;5;241m.\u001b[39mclose()\n",
      "File \u001b[0;32m/usr/local/lib/python3.10/site-packages/selenium/webdriver/remote/webdriver.py:540\u001b[0m, in \u001b[0;36mWebDriver.page_source\u001b[0;34m(self)\u001b[0m\n\u001b[1;32m    530\u001b[0m \u001b[38;5;129m@property\u001b[39m\n\u001b[1;32m    531\u001b[0m \u001b[38;5;28;01mdef\u001b[39;00m \u001b[38;5;21mpage_source\u001b[39m(\u001b[38;5;28mself\u001b[39m) \u001b[38;5;241m-\u001b[39m\u001b[38;5;241m>\u001b[39m \u001b[38;5;28mstr\u001b[39m:\n\u001b[1;32m    532\u001b[0m     \u001b[38;5;124;03m\"\"\"\u001b[39;00m\n\u001b[1;32m    533\u001b[0m \u001b[38;5;124;03m    Gets the source of the current page.\u001b[39;00m\n\u001b[1;32m    534\u001b[0m \n\u001b[0;32m   (...)\u001b[0m\n\u001b[1;32m    538\u001b[0m \u001b[38;5;124;03m            driver.page_source\u001b[39;00m\n\u001b[1;32m    539\u001b[0m \u001b[38;5;124;03m    \"\"\"\u001b[39;00m\n\u001b[0;32m--> 540\u001b[0m     \u001b[38;5;28;01mreturn\u001b[39;00m \u001b[38;5;28;43mself\u001b[39;49m\u001b[38;5;241;43m.\u001b[39;49m\u001b[43mexecute\u001b[49m\u001b[43m(\u001b[49m\u001b[43mCommand\u001b[49m\u001b[38;5;241;43m.\u001b[39;49m\u001b[43mGET_PAGE_SOURCE\u001b[49m\u001b[43m)\u001b[49m[\u001b[38;5;124m'\u001b[39m\u001b[38;5;124mvalue\u001b[39m\u001b[38;5;124m'\u001b[39m]\n",
      "File \u001b[0;32m/usr/local/lib/python3.10/site-packages/selenium/webdriver/remote/webdriver.py:429\u001b[0m, in \u001b[0;36mWebDriver.execute\u001b[0;34m(self, driver_command, params)\u001b[0m\n\u001b[1;32m    427\u001b[0m response \u001b[38;5;241m=\u001b[39m \u001b[38;5;28mself\u001b[39m\u001b[38;5;241m.\u001b[39mcommand_executor\u001b[38;5;241m.\u001b[39mexecute(driver_command, params)\n\u001b[1;32m    428\u001b[0m \u001b[38;5;28;01mif\u001b[39;00m response:\n\u001b[0;32m--> 429\u001b[0m     \u001b[38;5;28;43mself\u001b[39;49m\u001b[38;5;241;43m.\u001b[39;49m\u001b[43merror_handler\u001b[49m\u001b[38;5;241;43m.\u001b[39;49m\u001b[43mcheck_response\u001b[49m\u001b[43m(\u001b[49m\u001b[43mresponse\u001b[49m\u001b[43m)\u001b[49m\n\u001b[1;32m    430\u001b[0m     response[\u001b[38;5;124m'\u001b[39m\u001b[38;5;124mvalue\u001b[39m\u001b[38;5;124m'\u001b[39m] \u001b[38;5;241m=\u001b[39m \u001b[38;5;28mself\u001b[39m\u001b[38;5;241m.\u001b[39m_unwrap_value(\n\u001b[1;32m    431\u001b[0m         response\u001b[38;5;241m.\u001b[39mget(\u001b[38;5;124m'\u001b[39m\u001b[38;5;124mvalue\u001b[39m\u001b[38;5;124m'\u001b[39m, \u001b[38;5;28;01mNone\u001b[39;00m))\n\u001b[1;32m    432\u001b[0m     \u001b[38;5;28;01mreturn\u001b[39;00m response\n",
      "File \u001b[0;32m/usr/local/lib/python3.10/site-packages/selenium/webdriver/remote/errorhandler.py:243\u001b[0m, in \u001b[0;36mErrorHandler.check_response\u001b[0;34m(self, response)\u001b[0m\n\u001b[1;32m    241\u001b[0m         alert_text \u001b[38;5;241m=\u001b[39m value[\u001b[38;5;124m'\u001b[39m\u001b[38;5;124malert\u001b[39m\u001b[38;5;124m'\u001b[39m]\u001b[38;5;241m.\u001b[39mget(\u001b[38;5;124m'\u001b[39m\u001b[38;5;124mtext\u001b[39m\u001b[38;5;124m'\u001b[39m)\n\u001b[1;32m    242\u001b[0m     \u001b[38;5;28;01mraise\u001b[39;00m exception_class(message, screen, stacktrace, alert_text)  \u001b[38;5;66;03m# type: ignore[call-arg]  # mypy is not smart enough here\u001b[39;00m\n\u001b[0;32m--> 243\u001b[0m \u001b[38;5;28;01mraise\u001b[39;00m exception_class(message, screen, stacktrace)\n",
      "\u001b[0;31mNoSuchWindowException\u001b[0m: Message: no such window: target window already closed\nfrom unknown error: web view not found\n  (Session info: chrome=110.0.5481.177)\nStacktrace:\n0   chromedriver                        0x00000001053d1138 chromedriver + 4923704\n1   chromedriver                        0x00000001053499d3 chromedriver + 4368851\n2   chromedriver                        0x0000000104f92787 chromedriver + 472967\n3   chromedriver                        0x0000000104f68c15 chromedriver + 302101\n4   chromedriver                        0x00000001050054cf chromedriver + 943311\n5   chromedriver                        0x000000010501a2c6 chromedriver + 1028806\n6   chromedriver                        0x0000000104fffd23 chromedriver + 920867\n7   chromedriver                        0x0000000104fc6a4b chromedriver + 686667\n8   chromedriver                        0x0000000104fc8044 chromedriver + 692292\n9   chromedriver                        0x000000010539c8fe chromedriver + 4708606\n10  chromedriver                        0x00000001053a1e22 chromedriver + 4730402\n11  chromedriver                        0x00000001053aa6bf chromedriver + 4765375\n12  chromedriver                        0x00000001053a2e80 chromedriver + 4734592\n13  chromedriver                        0x0000000105373975 chromedriver + 4540789\n14  chromedriver                        0x00000001053c4e78 chromedriver + 4873848\n15  chromedriver                        0x00000001053c4ff5 chromedriver + 4874229\n16  chromedriver                        0x00000001053d96de chromedriver + 4957918\n17  libsystem_pthread.dylib             0x00007fff2090d8fc _pthread_start + 224\n18  libsystem_pthread.dylib             0x00007fff20909443 thread_start + 15\n"
     ]
    }
   ],
   "source": [
    "options = webdriver.ChromeOptions()\n",
    "# get source code\n",
    "df_list=[]\n",
    "for keyword in list_word:\n",
    "    options.add_argument(\"--user-data-dir=\"+cur_path+\"/profile\")\n",
    "    browser=webdriver.Chrome(service=ser, options=options)\n",
    "    browser.get(r'https://wordstat.yandex.ru/#!/history?period=weekly&words='+keyword)\n",
    "    time.sleep(15)\n",
    "    html = browser.page_source\n",
    "    time.sleep(1)\n",
    "    browser.close()\n",
    "    dfs = pd.read_html(html)\n",
    "    df_1 = dfs[8]\n",
    "    df_1 = df_1.drop(df_1.columns[[1,3]], axis = 1)\n",
    "    df_1 = df_1.drop(0, axis = 0)\n",
    "    df_2 = dfs[10]\n",
    "    df_2 = df_2.drop(df_2.columns[[1,3]], axis = 1)\n",
    "    df_2 = df_2.drop(0, axis = 0)\n",
    "    df = pd.concat([df_1, df_2])\n",
    "    df = df.reset_index()\n",
    "    df[\"request\"] = keyword\n",
    "    df = df.drop(df.columns[[0]], axis = 1)\n",
    "    df_list.append(df)\n",
    "    #display(df)\n",
    "    #df.to_csv(keyword.replace(\" \", \"\")+'_week.csv' , sep=\";\",encoding='utf-8-sig')\n",
    "df_all=pd.concat(df_list)"
   ]
  },
  {
   "cell_type": "code",
   "execution_count": 4,
   "id": "3f2c11c6",
   "metadata": {},
   "outputs": [],
   "source": [
    "df_all['date_from']= df_all['Период'].str.split('-', n=1, expand=True)[0].str.strip()\n",
    "df_all['date_to']= df_all['Период'].str.split('-', n=1, expand=True)[1].str.strip()\n",
    "df_all.date_from = pd.to_datetime(df_all.date_from,  format = '%d.%m.%Y')\n",
    "df_all.date_to = pd.to_datetime(df_all.date_to, format = '%d.%m.%Y')"
   ]
  },
  {
   "cell_type": "code",
   "execution_count": 45,
   "id": "7f4adb92",
   "metadata": {},
   "outputs": [],
   "source": [
    "# data from wordstat in df_all\n",
    "#display(df_all)\n",
    "df_all = df_all.reset_index()"
   ]
  },
  {
   "cell_type": "code",
   "execution_count": 5,
   "id": "9e2b690c",
   "metadata": {},
   "outputs": [],
   "source": [
    "db = create_engine(conn_string)\n",
    "conn = db.connect()"
   ]
  },
  {
   "cell_type": "code",
   "execution_count": 6,
   "id": "1ccce25e",
   "metadata": {},
   "outputs": [
    {
     "name": "stdout",
     "output_type": "stream",
     "text": [
      "Reading yt_reels_stat table with latest date...\n",
      "Done.\n"
     ]
    }
   ],
   "source": [
    "print(\"Reading yt_reels_stat table with latest date...\")\n",
    "df_old =  pd.read_sql(\"SELECT * FROM wordstat_weekly\", conn, parse_dates=['date_from', 'date_to'])\n",
    "print(\"Done.\")"
   ]
  },
  {
   "cell_type": "code",
   "execution_count": 58,
   "id": "38832f2c",
   "metadata": {},
   "outputs": [],
   "source": [
    "df_res = pd.concat([df_old, df_all])"
   ]
  },
  {
   "cell_type": "code",
   "execution_count": 65,
   "id": "b31182de",
   "metadata": {},
   "outputs": [],
   "source": [
    "df_res = df_res.drop_duplicates(subset = ['Период', 'request'], keep = 'last') "
   ]
  },
  {
   "cell_type": "code",
   "execution_count": 68,
   "id": "cb5cfdf4",
   "metadata": {},
   "outputs": [],
   "source": [
    "#display(df_res)"
   ]
  },
  {
   "cell_type": "code",
   "execution_count": 67,
   "id": "a58fd795",
   "metadata": {
    "scrolled": true
   },
   "outputs": [
    {
     "name": "stdout",
     "output_type": "stream",
     "text": [
      "to_sql duration: 5.560671091079712 seconds\n"
     ]
    }
   ],
   "source": [
    "inject_dict = { 'Период': sqlalchemy.types.TEXT(),  \n",
    "                'Абсолютное': sqlalchemy.types.BIGINT(), \n",
    "                'request': sqlalchemy.types.TEXT(),  \n",
    "                'date_from': sqlalchemy.types.Date(),                   \n",
    "                'date_to': sqlalchemy.types.Date(), \n",
    "                 }\n",
    "start_time = time.time()\n",
    "res = df_res.to_sql('wordstat_weekly', con=conn, if_exists='replace', index=False, dtype = inject_dict)\n",
    "print(\"to_sql duration: {} seconds\".format(time.time() - start_time))"
   ]
  },
  {
   "cell_type": "code",
   "execution_count": 70,
   "id": "c5ffd928",
   "metadata": {},
   "outputs": [
    {
     "data": {
      "text/html": [
       "<div>\n",
       "<style scoped>\n",
       "    .dataframe tbody tr th:only-of-type {\n",
       "        vertical-align: middle;\n",
       "    }\n",
       "\n",
       "    .dataframe tbody tr th {\n",
       "        vertical-align: top;\n",
       "    }\n",
       "\n",
       "    .dataframe thead th {\n",
       "        text-align: right;\n",
       "    }\n",
       "</style>\n",
       "<table border=\"1\" class=\"dataframe\">\n",
       "  <thead>\n",
       "    <tr style=\"text-align: right;\">\n",
       "      <th></th>\n",
       "      <th>Период</th>\n",
       "      <th>Абсолютное</th>\n",
       "      <th>request</th>\n",
       "      <th>date_from</th>\n",
       "      <th>date_to</th>\n",
       "    </tr>\n",
       "  </thead>\n",
       "  <tbody>\n",
       "    <tr>\n",
       "      <th>0</th>\n",
       "      <td>14.02.2022 - 20.02.2022</td>\n",
       "      <td>27161.0</td>\n",
       "      <td>оранжевая корова</td>\n",
       "      <td>2022-02-14</td>\n",
       "      <td>2022-02-20</td>\n",
       "    </tr>\n",
       "    <tr>\n",
       "      <th>1</th>\n",
       "      <td>21.02.2022 - 27.02.2022</td>\n",
       "      <td>26896.0</td>\n",
       "      <td>оранжевая корова</td>\n",
       "      <td>2022-02-21</td>\n",
       "      <td>2022-02-27</td>\n",
       "    </tr>\n",
       "    <tr>\n",
       "      <th>2</th>\n",
       "      <td>28.02.2022 - 06.03.2022</td>\n",
       "      <td>24701.0</td>\n",
       "      <td>оранжевая корова</td>\n",
       "      <td>2022-02-28</td>\n",
       "      <td>2022-03-06</td>\n",
       "    </tr>\n",
       "    <tr>\n",
       "      <th>3</th>\n",
       "      <td>07.03.2022 - 13.03.2022</td>\n",
       "      <td>24578.0</td>\n",
       "      <td>оранжевая корова</td>\n",
       "      <td>2022-03-07</td>\n",
       "      <td>2022-03-13</td>\n",
       "    </tr>\n",
       "    <tr>\n",
       "      <th>4</th>\n",
       "      <td>14.03.2022 - 20.03.2022</td>\n",
       "      <td>25301.0</td>\n",
       "      <td>оранжевая корова</td>\n",
       "      <td>2022-03-14</td>\n",
       "      <td>2022-03-20</td>\n",
       "    </tr>\n",
       "    <tr>\n",
       "      <th>...</th>\n",
       "      <td>...</td>\n",
       "      <td>...</td>\n",
       "      <td>...</td>\n",
       "      <td>...</td>\n",
       "      <td>...</td>\n",
       "    </tr>\n",
       "    <tr>\n",
       "      <th>3999</th>\n",
       "      <td>09.01.2023 - 15.01.2023</td>\n",
       "      <td>1905.0</td>\n",
       "      <td>юху +и +его друзья</td>\n",
       "      <td>2023-01-09</td>\n",
       "      <td>2023-01-15</td>\n",
       "    </tr>\n",
       "    <tr>\n",
       "      <th>4000</th>\n",
       "      <td>16.01.2023 - 22.01.2023</td>\n",
       "      <td>1657.0</td>\n",
       "      <td>юху +и +его друзья</td>\n",
       "      <td>2023-01-16</td>\n",
       "      <td>2023-01-22</td>\n",
       "    </tr>\n",
       "    <tr>\n",
       "      <th>4001</th>\n",
       "      <td>23.01.2023 - 29.01.2023</td>\n",
       "      <td>1723.0</td>\n",
       "      <td>юху +и +его друзья</td>\n",
       "      <td>2023-01-23</td>\n",
       "      <td>2023-01-29</td>\n",
       "    </tr>\n",
       "    <tr>\n",
       "      <th>4002</th>\n",
       "      <td>30.01.2023 - 05.02.2023</td>\n",
       "      <td>1807.0</td>\n",
       "      <td>юху +и +его друзья</td>\n",
       "      <td>2023-01-30</td>\n",
       "      <td>2023-02-05</td>\n",
       "    </tr>\n",
       "    <tr>\n",
       "      <th>4003</th>\n",
       "      <td>06.02.2023 - 12.02.2023</td>\n",
       "      <td>1885.0</td>\n",
       "      <td>юху +и +его друзья</td>\n",
       "      <td>2023-02-06</td>\n",
       "      <td>2023-02-12</td>\n",
       "    </tr>\n",
       "  </tbody>\n",
       "</table>\n",
       "<p>4004 rows × 5 columns</p>\n",
       "</div>"
      ],
      "text/plain": [
       "                       Период  Абсолютное             request  date_from  \\\n",
       "0     14.02.2022 - 20.02.2022     27161.0    оранжевая корова 2022-02-14   \n",
       "1     21.02.2022 - 27.02.2022     26896.0    оранжевая корова 2022-02-21   \n",
       "2     28.02.2022 - 06.03.2022     24701.0    оранжевая корова 2022-02-28   \n",
       "3     07.03.2022 - 13.03.2022     24578.0    оранжевая корова 2022-03-07   \n",
       "4     14.03.2022 - 20.03.2022     25301.0    оранжевая корова 2022-03-14   \n",
       "...                       ...         ...                 ...        ...   \n",
       "3999  09.01.2023 - 15.01.2023      1905.0  юху +и +его друзья 2023-01-09   \n",
       "4000  16.01.2023 - 22.01.2023      1657.0  юху +и +его друзья 2023-01-16   \n",
       "4001  23.01.2023 - 29.01.2023      1723.0  юху +и +его друзья 2023-01-23   \n",
       "4002  30.01.2023 - 05.02.2023      1807.0  юху +и +его друзья 2023-01-30   \n",
       "4003  06.02.2023 - 12.02.2023      1885.0  юху +и +его друзья 2023-02-06   \n",
       "\n",
       "        date_to  \n",
       "0    2022-02-20  \n",
       "1    2022-02-27  \n",
       "2    2022-03-06  \n",
       "3    2022-03-13  \n",
       "4    2022-03-20  \n",
       "...         ...  \n",
       "3999 2023-01-15  \n",
       "4000 2023-01-22  \n",
       "4001 2023-01-29  \n",
       "4002 2023-02-05  \n",
       "4003 2023-02-12  \n",
       "\n",
       "[4004 rows x 5 columns]"
      ]
     },
     "metadata": {},
     "output_type": "display_data"
    }
   ],
   "source": [
    "display(df_all)"
   ]
  }
 ],
 "metadata": {
  "kernelspec": {
   "display_name": "Python 3 (ipykernel)",
   "language": "python",
   "name": "python3"
  },
  "language_info": {
   "codemirror_mode": {
    "name": "ipython",
    "version": 3
   },
   "file_extension": ".py",
   "mimetype": "text/x-python",
   "name": "python",
   "nbconvert_exporter": "python",
   "pygments_lexer": "ipython3",
   "version": "3.10.8"
  },
  "toc": {
   "base_numbering": 1,
   "nav_menu": {},
   "number_sections": true,
   "sideBar": true,
   "skip_h1_title": false,
   "title_cell": "Table of Contents",
   "title_sidebar": "Contents",
   "toc_cell": false,
   "toc_position": {},
   "toc_section_display": true,
   "toc_window_display": false
  },
  "varInspector": {
   "cols": {
    "lenName": 16,
    "lenType": 16,
    "lenVar": 40
   },
   "kernels_config": {
    "python": {
     "delete_cmd_postfix": "",
     "delete_cmd_prefix": "del ",
     "library": "var_list.py",
     "varRefreshCmd": "print(var_dic_list())"
    },
    "r": {
     "delete_cmd_postfix": ") ",
     "delete_cmd_prefix": "rm(",
     "library": "var_list.r",
     "varRefreshCmd": "cat(var_dic_list()) "
    }
   },
   "types_to_exclude": [
    "module",
    "function",
    "builtin_function_or_method",
    "instance",
    "_Feature"
   ],
   "window_display": true
  }
 },
 "nbformat": 4,
 "nbformat_minor": 5
}
