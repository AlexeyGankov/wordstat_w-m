{
 "cells": [
  {
   "cell_type": "code",
   "execution_count": 1,
   "id": "99caaf88",
   "metadata": {
    "scrolled": true
   },
   "outputs": [],
   "source": [
    "#_*_coding: utf-8_*_\n",
    "import pandas as pd\n",
    "from selenium import webdriver\n",
    "from selenium.webdriver.chrome.service import Service\n",
    "from sqlalchemy import create_engine\n",
    "from sqlalchemy.dialects.postgresql import DOUBLE_PRECISION\n",
    "import sqlalchemy\n",
    "import psycopg2\n",
    "import time\n",
    "import os"
   ]
  },
  {
   "cell_type": "code",
   "execution_count": 2,
   "id": "e99253ca",
   "metadata": {},
   "outputs": [],
   "source": [
    "conn_string = os.environ['PG_DB']\n",
    "cur_path = os.getcwd()\n",
    "ser = Service(cur_path+'/chromedriver')"
   ]
  },
  {
   "cell_type": "code",
   "execution_count": 3,
   "id": "d07800c6",
   "metadata": {
    "scrolled": true
   },
   "outputs": [
    {
     "name": "stdout",
     "output_type": "stream",
     "text": [
      "1\n"
     ]
    }
   ],
   "source": [
    "df_k = pd.read_excel(\"keywords.xlsx\", sheet_name=None)\n",
    "list_word=[]\n",
    "for project in df_k.keys():\n",
    "    #display(df_k[project]['Статистика по словам'][0])\n",
    "    list_word.append(df_k[project]['Статистика по словам'][0])\n",
    "#display(list_word)\n",
    "print(len(list_word))"
   ]
  },
  {
   "cell_type": "code",
   "execution_count": 4,
   "id": "6e933d73",
   "metadata": {},
   "outputs": [],
   "source": [
    "options = webdriver.ChromeOptions()\n",
    "# get source code\n",
    "df_list=[]\n",
    "for keyword in list_word:\n",
    "    options.add_argument(\"--user-data-dir=\"+cur_path+\"/profile\")\n",
    "    browser=webdriver.Chrome(service=ser, options=options)\n",
    "    browser.get(r'https://wordstat.yandex.ru/#!/history?period=weekly&words='+keyword)\n",
    "    time.sleep(15)\n",
    "    html = browser.page_source\n",
    "    time.sleep(1)\n",
    "    browser.close()\n",
    "    dfs = pd.read_html(html)\n",
    "    df_1 = dfs[8]\n",
    "    df_1 = df_1.drop(df_1.columns[[1,3]], axis = 1)\n",
    "    df_1 = df_1.drop(0, axis = 0)\n",
    "    df_2 = dfs[10]\n",
    "    df_2 = df_2.drop(df_2.columns[[1,3]], axis = 1)\n",
    "    df_2 = df_2.drop(0, axis = 0)\n",
    "    df = pd.concat([df_1, df_2])\n",
    "    df = df.reset_index()\n",
    "    df[\"request\"] = keyword\n",
    "    df = df.drop(df.columns[[0]], axis = 1)\n",
    "    df_list.append(df)\n",
    "    #display(df)\n",
    "    #df.to_csv(keyword.replace(\" \", \"\")+'_week.csv' , sep=\";\",encoding='utf-8-sig')\n",
    "df_all=pd.concat(df_list)"
   ]
  },
  {
   "cell_type": "code",
   "execution_count": 5,
   "id": "3f2c11c6",
   "metadata": {},
   "outputs": [],
   "source": [
    "df_all['date_from']= df_all['Период'].str.split('-', n=1, expand=True)[0].str.strip()\n",
    "df_all['date_to']= df_all['Период'].str.split('-', n=1, expand=True)[1].str.strip()\n",
    "df_all.date_from = pd.to_datetime(df_all.date_from,  format = '%d.%m.%Y')\n",
    "df_all.date_to = pd.to_datetime(df_all.date_to, format = '%d.%m.%Y')"
   ]
  },
  {
   "cell_type": "code",
   "execution_count": 6,
   "id": "7f4adb92",
   "metadata": {},
   "outputs": [],
   "source": [
    "# data from wordstat in df_all\n",
    "#display(df_all)\n",
    "df_all = df_all.reset_index()"
   ]
  },
  {
   "cell_type": "code",
   "execution_count": 5,
   "id": "9e2b690c",
   "metadata": {},
   "outputs": [],
   "source": [
    "db = create_engine(conn_string)\n",
    "conn = db.connect()"
   ]
  },
  {
   "cell_type": "code",
   "execution_count": 6,
   "id": "1ccce25e",
   "metadata": {},
   "outputs": [
    {
     "name": "stdout",
     "output_type": "stream",
     "text": [
      "Reading yt_reels_stat table with latest date...\n",
      "Done.\n"
     ]
    }
   ],
   "source": [
    "print(\"Reading yt_reels_stat table with latest date...\")\n",
    "df_old =  pd.read_sql(\"SELECT * FROM wordstat_weekly\", conn, parse_dates=['date_from', 'date_to'])\n",
    "print(\"Done.\")"
   ]
  },
  {
   "cell_type": "code",
   "execution_count": 58,
   "id": "38832f2c",
   "metadata": {},
   "outputs": [],
   "source": [
    "df_res = pd.concat([df_old, df_all])"
   ]
  },
  {
   "cell_type": "code",
   "execution_count": 65,
   "id": "b31182de",
   "metadata": {},
   "outputs": [],
   "source": [
    "df_res = df_res.drop_duplicates(subset = ['Период', 'request'], keep = 'last') "
   ]
  },
  {
   "cell_type": "code",
   "execution_count": 68,
   "id": "cb5cfdf4",
   "metadata": {},
   "outputs": [],
   "source": [
    "#display(df_res)"
   ]
  },
  {
   "cell_type": "code",
   "execution_count": 67,
   "id": "a58fd795",
   "metadata": {
    "scrolled": true
   },
   "outputs": [
    {
     "name": "stdout",
     "output_type": "stream",
     "text": [
      "to_sql duration: 5.560671091079712 seconds\n"
     ]
    }
   ],
   "source": [
    "inject_dict = { 'Период': sqlalchemy.types.TEXT(),  \n",
    "                'Абсолютное': sqlalchemy.types.BIGINT(), \n",
    "                'request': sqlalchemy.types.TEXT(),  \n",
    "                'date_from': sqlalchemy.types.Date(),                   \n",
    "                'date_to': sqlalchemy.types.Date(), \n",
    "                 }\n",
    "start_time = time.time()\n",
    "res = df_res.to_sql('wordstat_weekly', con=conn, if_exists='replace', index=False, dtype = inject_dict)\n",
    "print(\"to_sql duration: {} seconds\".format(time.time() - start_time))"
   ]
  }
 ],
 "metadata": {
  "kernelspec": {
   "display_name": "Python 3 (ipykernel)",
   "language": "python",
   "name": "python3"
  },
  "language_info": {
   "codemirror_mode": {
    "name": "ipython",
    "version": 3
   },
   "file_extension": ".py",
   "mimetype": "text/x-python",
   "name": "python",
   "nbconvert_exporter": "python",
   "pygments_lexer": "ipython3",
   "version": "3.10.8"
  },
  "toc": {
   "base_numbering": 1,
   "nav_menu": {},
   "number_sections": true,
   "sideBar": true,
   "skip_h1_title": false,
   "title_cell": "Table of Contents",
   "title_sidebar": "Contents",
   "toc_cell": false,
   "toc_position": {},
   "toc_section_display": true,
   "toc_window_display": false
  },
  "varInspector": {
   "cols": {
    "lenName": 16,
    "lenType": 16,
    "lenVar": 40
   },
   "kernels_config": {
    "python": {
     "delete_cmd_postfix": "",
     "delete_cmd_prefix": "del ",
     "library": "var_list.py",
     "varRefreshCmd": "print(var_dic_list())"
    },
    "r": {
     "delete_cmd_postfix": ") ",
     "delete_cmd_prefix": "rm(",
     "library": "var_list.r",
     "varRefreshCmd": "cat(var_dic_list()) "
    }
   },
   "types_to_exclude": [
    "module",
    "function",
    "builtin_function_or_method",
    "instance",
    "_Feature"
   ],
   "window_display": true
  }
 },
 "nbformat": 4,
 "nbformat_minor": 5
}
